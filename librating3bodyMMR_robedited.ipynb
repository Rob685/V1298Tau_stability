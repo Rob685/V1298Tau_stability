{
 "cells": [
  {
   "cell_type": "code",
   "execution_count": 2,
   "id": "9209428e",
   "metadata": {
    "ExecuteTime": {
     "end_time": "2022-03-02T18:32:24.144665Z",
     "start_time": "2022-03-02T18:32:21.125021Z"
    }
   },
   "outputs": [],
   "source": [
    "from matplotlib.colors import TwoSlopeNorm\n",
    "import matplotlib.pyplot as plt\n",
    "%matplotlib inline\n",
    "from celmech import Andoyer\n",
    "from tqdm import tqdm\n",
    "import numpy as np\n",
    "from celmech.andoyer import get_Hsep\n",
    "import rebound"
   ]
  },
  {
   "cell_type": "code",
   "execution_count": 3,
   "id": "6a6c686a",
   "metadata": {
    "ExecuteTime": {
     "end_time": "2022-03-02T18:32:24.156998Z",
     "start_time": "2022-03-02T18:32:24.146801Z"
    }
   },
   "outputs": [],
   "source": [
    "params_rv = np.load('stability_posteriors/100k_rv_priors_60mil_lnlike_randomtheta.npy')\n",
    "preds_rv = np.load('stability_posteriors/100k_rv_stability_preds_randomtheta.npy')"
   ]
  },
  {
   "cell_type": "code",
   "execution_count": 4,
   "id": "12844584",
   "metadata": {
    "ExecuteTime": {
     "end_time": "2022-03-02T18:32:24.166567Z",
     "start_time": "2022-03-02T18:32:24.160319Z"
    }
   },
   "outputs": [
    {
     "data": {
      "text/plain": [
       "array([ 1.52378762e-02,  6.05336544e-03, -4.63498788e+00,  6.60322300e+01,\n",
       "       -3.22161308e+00,  2.46711955e-01])"
      ]
     },
     "execution_count": 4,
     "metadata": {},
     "output_type": "execute_result"
    }
   ],
   "source": [
    "params_rv[0]"
   ]
  },
  {
   "cell_type": "code",
   "execution_count": 5,
   "id": "8f61ab9e",
   "metadata": {
    "ExecuteTime": {
     "end_time": "2022-03-02T18:32:24.519886Z",
     "start_time": "2022-03-02T18:32:24.169054Z"
    }
   },
   "outputs": [],
   "source": [
    "m_b_rv = [param[-2] for param in params_rv]\n",
    "e_b_rv = [param[-1] for param in params_rv]\n",
    "\n",
    "params_cd = [list(params_rv[i][:4]) for i in range(len(params_rv))]\n",
    "#deltaTs = [params_rv[i][-2] for i in range(len(params_rv))]\n",
    "\n",
    "#for p1,p2 in zip(params_cd, deltaTs):\n",
    "#    p1.append(p2)\n",
    "    \n",
    "params_b = [[m_b, e_b] for m_b, e_b in zip(m_b_rv, e_b_rv)]"
   ]
  },
  {
   "cell_type": "code",
   "execution_count": 6,
   "id": "1b9238c1",
   "metadata": {
    "ExecuteTime": {
     "end_time": "2022-03-02T18:32:24.534225Z",
     "start_time": "2022-03-02T18:32:24.522057Z"
    }
   },
   "outputs": [],
   "source": [
    "def makesim(param_cd, param_b, seed, dt=None):\n",
    "    sim = makesimcd(param_cd[:4], dt=dt)\n",
    "    \n",
    "    m_b = 10**param_b[0]\n",
    "    e_b = param_b[1]\n",
    "    np.random.seed(seed)\n",
    "    pomega_b = float(np.random.uniform(0, 2*np.pi, size=1))\n",
    "    theta_b = float(np.random.uniform(0, 2*np.pi, size=1))\n",
    "    sim.add(m=m_b, P=sim.particles[2].P*1.946, e=e_b, pomega=pomega_b, theta=theta_b)\n",
    "    sim.move_to_com()\n",
    "    return sim\n",
    "\n",
    "def makesimcd(param_cd,dt=None):\n",
    "    e_forced, e_free, mu, deltaT = param_cd\n",
    "    if dt:\n",
    "        deltaT = dt\n",
    "    mratio=0.5\n",
    "    e_com = 0.0\n",
    "    \n",
    "    Mstar = 1.1\n",
    "    m1 = mratio*10**mu\n",
    "    m2 = (1-mratio)*10**mu\n",
    "    phi = np.pi # where equilibrium is\n",
    "    theta1 = np.pi # so they start on opposite sides\n",
    "\n",
    "    andvars = Andoyer.from_Z(j=3, k=1, Z=(e_forced+e_free)/np.sqrt(2), phi=phi, \n",
    "                             Zstar=e_forced/np.sqrt(2), Mstar=Mstar, m1=m1, m2=m2, \n",
    "                             Zcom=e_com/np.sqrt(2), phiZcom=0, theta1=theta1)\n",
    "\n",
    "    try:\n",
    "        sim = andvars.to_Simulation()\n",
    "        sim.integrator=\"whfast\"\n",
    "        sim.dt = sim.particles[1].P/20\n",
    "        sim.ri_whfast.safe_mode = 0\n",
    "        sim.integrate(deltaT)\n",
    "        sim.t = 0\n",
    "        return sim\n",
    "    except:\n",
    "        print(e_forced, e_free, deltaT, mu)\n",
    "        raise\n",
    "\n",
    "def phi_3body(param_cd, param_b, seed):\n",
    "    sim = makesim(param_cd, param_b, seed)\n",
    "    ps = sim.particles\n",
    "    \n",
    "    Nout = 3000\n",
    "    times = np.linspace(0, 1000*sim.particles[1].P, Nout)\n",
    "    phi = np.zeros(Nout)\n",
    "    for i, time in enumerate(times):\n",
    "        sim.integrate(time)\n",
    "        phi[i] = ps[1].l - 2*ps[2].l + ps[3].l\n",
    "    return times, phi\n",
    "\n",
    "def librates(phi):\n",
    "    cphi = np.cos(phi)\n",
    "    Npts = 20\n",
    "    ranges = np.linspace(-1, 1, Npts)\n",
    "    librates = False\n",
    "    for i in range(Npts-1):\n",
    "        idxs = np.where((cphi>=ranges[i]) & (cphi<=ranges[i+1]))[0]\n",
    "        if len(idxs) == 0:\n",
    "            librates = True\n",
    "            break\n",
    "    return librates"
   ]
  },
  {
   "cell_type": "code",
   "execution_count": 7,
   "id": "d9ecbfa5",
   "metadata": {
    "ExecuteTime": {
     "end_time": "2022-03-02T18:32:24.742032Z",
     "start_time": "2022-03-02T18:32:24.536407Z"
    }
   },
   "outputs": [
    {
     "data": {
      "text/plain": [
       "(<Figure size 360x360 with 1 Axes>, <AxesSubplot:xlabel='x', ylabel='y'>)"
      ]
     },
     "execution_count": 7,
     "metadata": {},
     "output_type": "execute_result"
    },
    {
     "data": {
      "image/png": "[encoded data removed]",
      "text/plain": [
       "<Figure size 360x360 with 1 Axes>"
      ]
     },
     "metadata": {
      "needs_background": "light"
     },
     "output_type": "display_data"
    }
   ],
   "source": [
    "# idx now corresponds to the index AND the seed used when sampling, so pomega_b and theta_b should be the same\n",
    "idx = 42\n",
    "#np.random.seed(ctr)\n",
    "#ctr += 1\n",
    "pcd = params_cd[idx]\n",
    "pb = params_b[idx]\n",
    "\n",
    "sim = makesim(pcd, pb, seed=idx)\n",
    "rebound.OrbitPlot(sim)"
   ]
  },
  {
   "cell_type": "code",
   "execution_count": 8,
   "id": "66010a9b",
   "metadata": {
    "ExecuteTime": {
     "end_time": "2022-03-02T18:32:25.017387Z",
     "start_time": "2022-03-02T18:32:24.743909Z"
    }
   },
   "outputs": [
    {
     "data": {
      "text/plain": [
       "(-1.0, 1.0)"
      ]
     },
     "execution_count": 8,
     "metadata": {},
     "output_type": "execute_result"
    },
    {
     "data": {
      "image/png": "[encoded data removed]",
      "text/plain": [
       "<Figure size 432x288 with 1 Axes>"
      ]
     },
     "metadata": {
      "needs_background": "light"
     },
     "output_type": "display_data"
    }
   ],
   "source": [
    "times, phi = phi_3body(pcd, pb, seed=idx)\n",
    "fig, ax = plt.subplots()\n",
    "ax.plot(times, np.cos(phi), '.')\n",
    "ax.set_ylim([-1, 1])"
   ]
  },
  {
   "cell_type": "code",
   "execution_count": 9,
   "id": "48bee640",
   "metadata": {
    "ExecuteTime": {
     "end_time": "2022-03-02T18:32:25.025632Z",
     "start_time": "2022-03-02T18:32:25.021018Z"
    }
   },
   "outputs": [
    {
     "data": {
      "text/plain": [
       "False"
      ]
     },
     "execution_count": 9,
     "metadata": {},
     "output_type": "execute_result"
    }
   ],
   "source": [
    "librates(phi)"
   ]
  },
  {
   "cell_type": "code",
   "execution_count": 10,
   "id": "06b9989c",
   "metadata": {
    "ExecuteTime": {
     "end_time": "2022-03-02T18:32:25.164741Z",
     "start_time": "2022-03-02T18:32:25.027617Z"
    }
   },
   "outputs": [
    {
     "data": {
      "text/plain": [
       "False"
      ]
     },
     "execution_count": 10,
     "metadata": {},
     "output_type": "execute_result"
    }
   ],
   "source": [
    "librates(phi_3body(pcd, pb, seed=idx)[-1])"
   ]
  },
  {
   "cell_type": "markdown",
   "id": "59030a4c",
   "metadata": {},
   "source": [
    "## Looping over each configuration, index is seed for $\\varpi_b$ and $\\theta_b$"
   ]
  },
  {
   "cell_type": "code",
   "execution_count": null,
   "id": "dc397871",
   "metadata": {
    "ExecuteTime": {
     "start_time": "2022-03-02T18:32:44.021Z"
    },
    "scrolled": true
   },
   "outputs": [
    {
     "name": "stderr",
     "output_type": "stream",
     "text": [
      "  0%|          | 64/100000 [00:08<3:39:10,  7.60it/s]/Users/Helios/opt/anaconda3/lib/python3.8/site-packages/rebound/simulation.py:712: RuntimeWarning: WHFast convergence issue. Timestep is larger than at least one orbital period.\n",
      "  warnings.warn(msg[1:], RuntimeWarning)\n",
      " 59%|█████▉    | 58957/100000 [2:06:34<1:25:48,  7.97it/s]"
     ]
    }
   ],
   "source": [
    "librating_arr = []\n",
    "pbar = tqdm(total=len(params_rv))\n",
    "for i,(pcd,pb) in enumerate(zip(params_cd, params_b)):\n",
    "    if i == 66986:\n",
    "        continue\n",
    "    libr = librates(phi_3body(pcd, pb, seed=i)[-1])\n",
    "    librating_arr.append(libr)\n",
    "    pbar.update()\n",
    "pbar.close()"
   ]
  },
  {
   "cell_type": "code",
   "execution_count": 11,
   "id": "866000e9",
   "metadata": {
    "ExecuteTime": {
     "end_time": "2022-03-02T18:32:29.082862Z",
     "start_time": "2022-03-02T18:32:28.947980Z"
    }
   },
   "outputs": [
    {
     "data": {
      "text/plain": [
       "False"
      ]
     },
     "execution_count": 11,
     "metadata": {},
     "output_type": "execute_result"
    }
   ],
   "source": [
    "idx = 78986\n",
    "librates(phi_3body(params_cd[idx], params_b[idx], seed=idx)[-1])"
   ]
  },
  {
   "cell_type": "code",
   "execution_count": null,
   "id": "f1c039a8",
   "metadata": {},
   "outputs": [],
   "source": []
  }
 ],
 "metadata": {
  "kernelspec": {
   "display_name": "Python 3",
   "language": "python",
   "name": "python3"
  },
  "language_info": {
   "codemirror_mode": {
    "name": "ipython",
    "version": 3
   },
   "file_extension": ".py",
   "mimetype": "text/x-python",
   "name": "python",
   "nbconvert_exporter": "python",
   "pygments_lexer": "ipython3",
   "version": "3.8.8"
  },
  "toc": {
   "base_numbering": 1,
   "nav_menu": {},
   "number_sections": true,
   "sideBar": true,
   "skip_h1_title": false,
   "title_cell": "Table of Contents",
   "title_sidebar": "Contents",
   "toc_cell": false,
   "toc_position": {},
   "toc_section_display": true,
   "toc_window_display": false
  }
 },
 "nbformat": 4,
 "nbformat_minor": 5
}
