{
 "cells": [
  {
   "cell_type": "code",
   "execution_count": 18,
   "id": "45207e22",
   "metadata": {
    "ExecuteTime": {
     "end_time": "2022-02-09T15:25:55.720495Z",
     "start_time": "2022-02-09T15:25:55.713743Z"
    }
   },
   "outputs": [],
   "source": [
    "import numpy as np\n",
    "import pandas as pd\n",
    "import os\n",
    "import matplotlib.pyplot as plt\n",
    "import spock\n",
    "from spock import FeatureClassifier\n",
    "import corner\n",
    "from tqdm import tqdm\n",
    "from scipy import stats\n",
    "from celmech import Andoyer\n",
    "from statsmodels.stats.weightstats import DescrStatsW\n",
    "import warnings\n",
    "import rebound\n",
    "import timeit\n",
    "import sys\n",
    "from multiprocessing import Pool\n",
    "from p_tqdm import p_map\n",
    "from multiprocessing import Pool\n",
    "warnings.simplefilter(action='ignore', category=FutureWarning)"
   ]
  },
  {
   "cell_type": "code",
   "execution_count": 12,
   "id": "f3719cee",
   "metadata": {
    "ExecuteTime": {
     "end_time": "2022-02-09T15:22:19.584545Z",
     "start_time": "2022-02-09T15:22:19.567150Z"
    }
   },
   "outputs": [],
   "source": [
    "# last TESS observation:\n",
    "t_tess = 4664.65\n",
    "\n",
    "# last K2 observation:\n",
    "t_K2 = 2265\n",
    "\n",
    "t = t_tess - t_K2\n",
    "\n",
    "t_orbits = t/8.24958\n",
    "\n",
    "t_orb = t_orbits*5.98\n",
    "tmax = 1.0*t_orb\n",
    "Nout = 200\n",
    "\n",
    "t = np.linspace(0,tmax,Nout)\n",
    "obs_tess = np.where(np.round(abs(t - t_orb),6) == np.round(np.min(abs(t - t_orb)),6))[0][0]\n",
    "delta_index = 0\n",
    "obs_idx=[delta_index,obs_tess+delta_index]\n",
    "\n",
    "nobs = 2\n",
    "obs_err = np.array([0.0001, 0.0005])\n",
    "obs = np.array([1.503, 1.503])\n",
    "\n",
    "def makesim(theta):\n",
    "\n",
    "\n",
    "    e_forced, e_free, mu, deltaT, mb, eb, pomegab, thetab = theta\n",
    "\n",
    "    mratio=0.5\n",
    "    e_com = 0.0\n",
    "    phiecom=float(np.random.uniform(0, 2*np.pi, size=1)) # varying between 0 and 2pi\n",
    "    theta1 = np.pi\n",
    "    Mstar = 1.1\n",
    "    m1 = mratio*10**mu\n",
    "    m2 = (1-mratio)*10**mu\n",
    "    phi = np.pi # where equilibrium is\n",
    "    theta1 = np.pi # position of planet b\n",
    "\n",
    "    andvars = Andoyer.from_Z(j=3, k=1, Z=(e_forced+e_free)/np.sqrt(2), phi=phi,\n",
    "                             Zstar=e_forced/np.sqrt(2), Mstar=Mstar, m1=m1, m2=m2,\n",
    "                             Zcom=e_com/np.sqrt(2), phiZcom=phiecom, theta1=theta1)\n",
    "\n",
    "    try:\n",
    "\n",
    "        sim = andvars.to_Simulation()\n",
    "        sim.add(m=mb, P=sim.particles[2].P*1.946, e=eb, pomega=pomegab, theta=thetab)\n",
    "        sim.integrator=\"whfast\"\n",
    "        sim.dt = sim.particles[1].P/20\n",
    "        sim.ri_whfast.safe_mode = 0\n",
    "        sim.integrate(deltaT)\n",
    "        sim.t = 0\n",
    "        return sim\n",
    "    except:\n",
    "        print(e_forced, e_free, deltaT, mu)\n",
    "        raise\n",
    "\n",
    "def run(sim):\n",
    "\n",
    "    Pratios = np.zeros(Nout)\n",
    "    ps = sim.particles\n",
    "\n",
    "    for i, time in enumerate(t):\n",
    "\n",
    "        sim.integrate(time)\n",
    "        Pratios[i] = ps[2].P/ps[1].P\n",
    "\n",
    "    return Pratios\n",
    "\n",
    "def compute_model(theta):\n",
    "\n",
    "    #if theta.ndim > 1:\n",
    "    #    sims = [makesim(param) for param in theta]\n",
    "#\n",
    "    #    period_ratios = [run(sim) for sim in sims]\n",
    "#\n",
    "#\n",
    "#\n",
    "    #    return [periods[obs_idx] for periods in period_ratios]\n",
    "    \n",
    "    #else:\n",
    "    sim = makesim(theta)\n",
    "    period_ratios = run(sim)\n",
    "    return period_ratios[obs_idx]\n",
    "\n",
    "def gen_priors_array(seed):\n",
    "\n",
    "    #size_arr = int(n)\n",
    "    \n",
    "    rng = np.random.default_rng(seed)\n",
    "\n",
    "    eforced_0 = float(rng.uniform(0.0005,0.23,size=1)) # changing the upper limit to the crossing eccentricity\n",
    "    efree_0 = float(rng.uniform(0.0005,0.003,size=1)) # changing the bounds because experiments show that\n",
    "    mu_0 = float(rng.uniform(np.log10(8.964e-6), np.log10(5.25e-4), size=1)) # new upper limit of 0.55 Mjup by Mascareno\n",
    "\n",
    "    #mb_0 = stats.norm.rvs(loc=0.69, scale=0.19, size=size_arr)*9.54e-4\n",
    "    mb_0 = float(stats.truncnorm.rvs(a=(0 - 0.69)/0.19, b = np.inf, loc=0.69, scale=0.19, size=1))\n",
    "    #eb_0 = stats.norm.rvs(loc=0.13, scale=0.07, size=size_arr)\n",
    "    eb_0 = float(stats.truncnorm.rvs(a = (0 - 0.13)/0.07, b = np.inf, loc=0.13, scale=0.07, size=1))\n",
    "    pomegab_0 = float(np.random.uniform(0, 2*np.pi, size=1))\n",
    "\n",
    "    thetab_0 = float(np.random.uniform(0, 2*np.pi, size=1))\n",
    "\n",
    "    deltaT_0 = float(rng.uniform(0, 2000, size=1))\n",
    "\n",
    "    #prior_set = np.column_stack((eforced_0, efree_0, mu_0, deltaT_0, mb_0, eb_0, pomegab_0, thetab_0))\n",
    "    prior_set = (eforced_0, efree_0, mu_0, deltaT_0, mb_0, eb_0, pomegab_0, thetab_0)\n",
    "    #valid_priors = []\n",
    "    #for param in prior_set:\n",
    "    #    if param[4] < 0 or param[5] < 0:\n",
    "    #        continue\n",
    "    #    else:\n",
    "    #        valid_priors.append(param)\n",
    "\n",
    "    return prior_set\n"
   ]
  },
  {
   "cell_type": "code",
   "execution_count": 13,
   "id": "6b3e92b2",
   "metadata": {
    "ExecuteTime": {
     "end_time": "2022-02-09T15:22:20.587782Z",
     "start_time": "2022-02-09T15:22:20.583307Z"
    }
   },
   "outputs": [],
   "source": [
    "def lnlike(theta):\n",
    "\n",
    "    #e_forced, e_free, deltaT, mu, mb, eb, pomegab, thetab = theta\n",
    "\n",
    "    model = compute_model(theta)\n",
    "    argument = (obs - model)**2 / obs_err**2\n",
    "    #if theta.ndim > 1:\n",
    "    #    loglike = [0.5*np.sum(arg) for arg in argument]\n",
    "    #else: \n",
    "    loglike = 0.5*np.sum(argument)\n",
    "    return loglike\n",
    "\n",
    "def get_posteriors(seed):\n",
    "    \n",
    "    priors = gen_priors_array(seed)\n",
    "    like_val = lnlike(priors)\n",
    "\n",
    "    rng = np.random.default_rng(seed)\n",
    "\n",
    "    prob = np.log10(np.random.random())\n",
    "    \n",
    "    \n",
    "    if -like_val > prob:\n",
    "        post = prior\n",
    "\n",
    "        return post\n",
    "\n",
    "    else:\n",
    "    \treturn np.nan"
   ]
  },
  {
   "cell_type": "code",
   "execution_count": 14,
   "id": "05ff7c0d",
   "metadata": {
    "ExecuteTime": {
     "end_time": "2022-02-09T15:22:22.608535Z",
     "start_time": "2022-02-09T15:22:22.123157Z"
    }
   },
   "outputs": [],
   "source": [
    "seeds = list(range(0, 1000))\n",
    "prior_test = np.array([gen_priors_array(seed) for seed in seeds])"
   ]
  },
  {
   "cell_type": "code",
   "execution_count": 15,
   "id": "8634742b",
   "metadata": {
    "ExecuteTime": {
     "end_time": "2022-02-09T15:22:51.530870Z",
     "start_time": "2022-02-09T15:22:31.983551Z"
    },
    "scrolled": true
   },
   "outputs": [
    {
     "name": "stderr",
     "output_type": "stream",
     "text": [
      "\n",
      "  0%|          | 0/1000 [00:00<?, ?it/s]\u001b[A\n",
      "  0%|          | 5/1000 [00:00<00:21, 46.00it/s]\u001b[A\n",
      "  1%|          | 11/1000 [00:00<00:19, 49.48it/s]\u001b[A\n",
      "  2%|▏         | 17/1000 [00:00<00:18, 51.95it/s]\u001b[A\n",
      "  2%|▏         | 23/1000 [00:00<00:18, 53.81it/s]\u001b[A\n",
      "  3%|▎         | 29/1000 [00:00<00:17, 54.38it/s]\u001b[A\n",
      "  4%|▎         | 35/1000 [00:00<00:17, 54.50it/s]\u001b[A\n",
      "  4%|▍         | 41/1000 [00:00<00:17, 53.84it/s]\u001b[A\n",
      "  5%|▍         | 47/1000 [00:00<00:18, 52.11it/s]\u001b[A\n",
      "  5%|▌         | 53/1000 [00:01<00:18, 52.44it/s]\u001b[A\n",
      "  6%|▌         | 59/1000 [00:01<00:18, 52.04it/s]\u001b[A\n",
      "  6%|▋         | 65/1000 [00:01<00:18, 51.86it/s]\u001b[A\n",
      "  7%|▋         | 71/1000 [00:01<00:18, 51.08it/s]\u001b[A\n",
      "  8%|▊         | 77/1000 [00:01<00:18, 50.56it/s]\u001b[A\n",
      "  8%|▊         | 83/1000 [00:01<00:18, 49.57it/s]\u001b[A\n",
      "  9%|▉         | 89/1000 [00:01<00:18, 50.15it/s]\u001b[A\n",
      " 10%|▉         | 95/1000 [00:01<00:17, 51.38it/s]\u001b[A\n",
      " 10%|█         | 101/1000 [00:01<00:17, 51.40it/s]\u001b[A\n",
      " 11%|█         | 107/1000 [00:02<00:17, 51.76it/s]\u001b[A\n",
      " 11%|█▏        | 113/1000 [00:02<00:17, 51.98it/s]\u001b[A\n",
      " 12%|█▏        | 119/1000 [00:02<00:17, 51.40it/s]\u001b[A\n",
      " 12%|█▎        | 125/1000 [00:02<00:16, 51.53it/s]\u001b[A\n",
      " 13%|█▎        | 131/1000 [00:02<00:16, 51.19it/s]\u001b[A\n",
      " 14%|█▎        | 137/1000 [00:02<00:16, 51.00it/s]\u001b[A\n",
      " 14%|█▍        | 143/1000 [00:02<00:16, 51.59it/s]\u001b[A\n",
      " 15%|█▍        | 149/1000 [00:02<00:16, 52.20it/s]\u001b[A\n",
      " 16%|█▌        | 155/1000 [00:02<00:16, 52.05it/s]\u001b[A\n",
      " 16%|█▌        | 161/1000 [00:03<00:16, 52.40it/s]\u001b[A\n",
      " 17%|█▋        | 167/1000 [00:03<00:16, 52.03it/s]\u001b[A\n",
      " 17%|█▋        | 173/1000 [00:03<00:15, 52.06it/s]\u001b[A\n",
      " 18%|█▊        | 179/1000 [00:03<00:15, 51.91it/s]\u001b[A\n",
      " 18%|█▊        | 185/1000 [00:03<00:15, 52.20it/s]\u001b[A\n",
      " 19%|█▉        | 191/1000 [00:03<00:15, 51.65it/s]\u001b[A\n",
      " 20%|█▉        | 197/1000 [00:03<00:15, 52.40it/s]\u001b[A\n",
      " 20%|██        | 203/1000 [00:03<00:15, 52.74it/s]\u001b[A\n",
      " 21%|██        | 209/1000 [00:04<00:14, 53.47it/s]\u001b[A\n",
      " 22%|██▏       | 215/1000 [00:04<00:14, 52.91it/s]\u001b[A\n",
      " 22%|██▏       | 221/1000 [00:04<00:15, 51.29it/s]\u001b[A/Users/Helios/opt/anaconda3/lib/python3.8/site-packages/rebound/simulation.py:712: RuntimeWarning: WHFast convergence issue. Timestep is larger than at least one orbital period.\n",
      "  warnings.warn(msg[1:], RuntimeWarning)\n",
      "\n",
      " 23%|██▎       | 227/1000 [00:04<00:14, 51.57it/s]\u001b[A\n",
      " 23%|██▎       | 233/1000 [00:04<00:14, 51.64it/s]\u001b[A\n",
      " 24%|██▍       | 239/1000 [00:04<00:14, 51.32it/s]\u001b[A\n",
      " 24%|██▍       | 245/1000 [00:04<00:14, 51.16it/s]\u001b[A\n",
      " 25%|██▌       | 251/1000 [00:04<00:14, 51.73it/s]\u001b[A\n",
      " 26%|██▌       | 257/1000 [00:04<00:14, 51.71it/s]\u001b[A\n",
      " 26%|██▋       | 263/1000 [00:05<00:14, 52.11it/s]\u001b[A\n",
      " 27%|██▋       | 269/1000 [00:05<00:13, 52.79it/s]\u001b[A\n",
      " 28%|██▊       | 275/1000 [00:05<00:13, 52.04it/s]\u001b[A\n",
      " 28%|██▊       | 281/1000 [00:05<00:13, 52.42it/s]\u001b[A\n",
      " 29%|██▊       | 287/1000 [00:05<00:13, 53.07it/s]\u001b[A\n",
      " 29%|██▉       | 293/1000 [00:05<00:13, 53.18it/s]\u001b[A\n",
      " 30%|██▉       | 299/1000 [00:05<00:13, 53.19it/s]\u001b[A\n",
      " 30%|███       | 305/1000 [00:05<00:13, 52.11it/s]\u001b[A\n",
      " 31%|███       | 311/1000 [00:05<00:13, 51.31it/s]\u001b[A\n",
      " 32%|███▏      | 317/1000 [00:06<00:13, 52.06it/s]\u001b[A\n",
      " 32%|███▏      | 323/1000 [00:06<00:12, 52.52it/s]\u001b[A\n",
      " 33%|███▎      | 329/1000 [00:06<00:12, 52.38it/s]\u001b[A\n",
      " 34%|███▎      | 335/1000 [00:06<00:12, 51.90it/s]\u001b[A\n",
      " 34%|███▍      | 341/1000 [00:06<00:12, 51.43it/s]\u001b[A\n",
      " 35%|███▍      | 347/1000 [00:06<00:12, 52.65it/s]\u001b[A\n",
      " 35%|███▌      | 353/1000 [00:06<00:12, 52.88it/s]\u001b[A\n",
      " 36%|███▌      | 359/1000 [00:06<00:12, 52.23it/s]\u001b[A\n",
      " 36%|███▋      | 365/1000 [00:07<00:12, 52.66it/s]\u001b[A\n",
      " 37%|███▋      | 371/1000 [00:07<00:11, 52.87it/s]\u001b[A\n",
      " 38%|███▊      | 377/1000 [00:07<00:11, 53.88it/s]\u001b[A\n",
      " 38%|███▊      | 383/1000 [00:07<00:11, 53.56it/s]\u001b[A\n",
      " 39%|███▉      | 389/1000 [00:07<00:11, 52.36it/s]\u001b[A\n",
      " 40%|███▉      | 395/1000 [00:07<00:11, 52.40it/s]\u001b[A\n",
      " 40%|████      | 401/1000 [00:07<00:11, 52.96it/s]\u001b[A\n",
      " 41%|████      | 407/1000 [00:07<00:11, 51.94it/s]\u001b[A\n",
      " 41%|████▏     | 413/1000 [00:07<00:11, 52.27it/s]\u001b[A\n",
      " 42%|████▏     | 419/1000 [00:08<00:11, 52.74it/s]\u001b[A\n",
      " 42%|████▎     | 425/1000 [00:08<00:10, 52.87it/s]\u001b[A\n",
      " 43%|████▎     | 431/1000 [00:08<00:10, 52.26it/s]\u001b[A\n",
      " 44%|████▎     | 437/1000 [00:08<00:10, 51.91it/s]\u001b[A\n",
      " 44%|████▍     | 443/1000 [00:08<00:10, 51.06it/s]\u001b[A\n",
      " 45%|████▍     | 449/1000 [00:08<00:10, 51.38it/s]\u001b[A\n",
      " 46%|████▌     | 455/1000 [00:08<00:10, 52.24it/s]\u001b[A\n",
      " 46%|████▌     | 461/1000 [00:08<00:10, 52.46it/s]\u001b[A\n",
      " 47%|████▋     | 467/1000 [00:08<00:10, 51.96it/s]\u001b[A\n",
      " 47%|████▋     | 473/1000 [00:09<00:09, 52.96it/s]\u001b[A\n",
      " 48%|████▊     | 479/1000 [00:09<00:09, 53.44it/s]\u001b[A\n",
      " 48%|████▊     | 485/1000 [00:09<00:09, 52.39it/s]\u001b[A\n",
      " 49%|████▉     | 491/1000 [00:09<00:09, 52.78it/s]\u001b[A\n",
      " 50%|████▉     | 497/1000 [00:09<00:09, 52.40it/s]\u001b[A\n",
      " 50%|█████     | 503/1000 [00:09<00:09, 52.72it/s]\u001b[A\n",
      " 51%|█████     | 509/1000 [00:09<00:09, 52.68it/s]\u001b[A\n",
      " 52%|█████▏    | 515/1000 [00:09<00:09, 52.89it/s]\u001b[A\n",
      " 52%|█████▏    | 521/1000 [00:09<00:09, 52.89it/s]\u001b[A\n",
      " 53%|█████▎    | 527/1000 [00:10<00:08, 53.39it/s]\u001b[A\n",
      " 53%|█████▎    | 533/1000 [00:10<00:08, 52.86it/s]\u001b[A\n",
      " 54%|█████▍    | 539/1000 [00:10<00:08, 52.56it/s]\u001b[A\n",
      " 55%|█████▍    | 545/1000 [00:10<00:08, 52.85it/s]\u001b[A\n",
      " 55%|█████▌    | 551/1000 [00:10<00:08, 52.64it/s]\u001b[A\n",
      " 56%|█████▌    | 557/1000 [00:10<00:08, 52.78it/s]\u001b[A\n",
      " 56%|█████▋    | 563/1000 [00:10<00:08, 53.37it/s]\u001b[A\n",
      " 57%|█████▋    | 569/1000 [00:10<00:08, 53.36it/s]\u001b[A\n",
      " 57%|█████▊    | 575/1000 [00:11<00:07, 53.53it/s]\u001b[A\n",
      " 58%|█████▊    | 581/1000 [00:11<00:07, 53.75it/s]\u001b[A\n",
      " 59%|█████▊    | 587/1000 [00:11<00:07, 53.19it/s]\u001b[A\n",
      " 59%|█████▉    | 593/1000 [00:11<00:07, 52.51it/s]\u001b[A\n",
      " 60%|█████▉    | 599/1000 [00:11<00:07, 53.04it/s]\u001b[A\n",
      " 60%|██████    | 605/1000 [00:11<00:07, 52.59it/s]\u001b[A\n",
      " 61%|██████    | 611/1000 [00:11<00:07, 53.81it/s]\u001b[A\n",
      " 62%|██████▏   | 617/1000 [00:11<00:07, 54.27it/s]\u001b[A\n",
      " 62%|██████▏   | 623/1000 [00:11<00:06, 53.95it/s]\u001b[A\n",
      " 63%|██████▎   | 629/1000 [00:12<00:07, 52.75it/s]\u001b[A\n",
      " 64%|██████▎   | 635/1000 [00:12<00:07, 52.14it/s]\u001b[A\n",
      " 64%|██████▍   | 641/1000 [00:12<00:06, 52.60it/s]\u001b[A\n",
      " 65%|██████▍   | 647/1000 [00:12<00:06, 53.24it/s]\u001b[A\n",
      " 65%|██████▌   | 653/1000 [00:12<00:06, 52.67it/s]\u001b[A\n",
      " 66%|██████▌   | 659/1000 [00:12<00:06, 52.62it/s]\u001b[A\n",
      " 66%|██████▋   | 665/1000 [00:12<00:06, 52.81it/s]\u001b[A\n",
      " 67%|██████▋   | 671/1000 [00:12<00:06, 53.16it/s]\u001b[A\n",
      " 68%|██████▊   | 677/1000 [00:12<00:06, 53.11it/s]\u001b[A\n",
      " 68%|██████▊   | 683/1000 [00:13<00:06, 52.28it/s]\u001b[A\n",
      " 69%|██████▉   | 689/1000 [00:13<00:05, 52.78it/s]\u001b[A\n",
      " 70%|██████▉   | 695/1000 [00:13<00:05, 52.70it/s]\u001b[A\n",
      " 70%|███████   | 701/1000 [00:13<00:05, 52.53it/s]\u001b[A\n",
      " 71%|███████   | 707/1000 [00:13<00:05, 52.35it/s]\u001b[A\n",
      " 71%|███████▏  | 713/1000 [00:13<00:05, 53.25it/s]\u001b[A\n",
      " 72%|███████▏  | 719/1000 [00:13<00:05, 52.89it/s]\u001b[A\n",
      " 72%|███████▎  | 725/1000 [00:13<00:05, 52.75it/s]\u001b[A\n",
      " 73%|███████▎  | 731/1000 [00:13<00:05, 52.79it/s]\u001b[A\n",
      " 74%|███████▎  | 737/1000 [00:14<00:04, 52.76it/s]\u001b[A\n",
      " 74%|███████▍  | 743/1000 [00:14<00:05, 51.10it/s]\u001b[A\n",
      " 75%|███████▍  | 749/1000 [00:14<00:04, 52.11it/s]\u001b[A\n",
      " 76%|███████▌  | 755/1000 [00:14<00:04, 53.19it/s]\u001b[A\n",
      " 76%|███████▌  | 761/1000 [00:14<00:04, 52.53it/s]\u001b[A\n",
      " 77%|███████▋  | 767/1000 [00:14<00:04, 52.00it/s]\u001b[A\n",
      " 77%|███████▋  | 773/1000 [00:14<00:04, 51.63it/s]\u001b[A\n",
      " 78%|███████▊  | 779/1000 [00:14<00:04, 51.18it/s]\u001b[A\n",
      " 78%|███████▊  | 785/1000 [00:14<00:04, 51.31it/s]\u001b[A\n",
      " 79%|███████▉  | 791/1000 [00:15<00:04, 50.09it/s]\u001b[A\n",
      " 80%|███████▉  | 797/1000 [00:15<00:04, 50.49it/s]\u001b[A\n",
      " 80%|████████  | 803/1000 [00:15<00:03, 50.75it/s]\u001b[A\n",
      " 81%|████████  | 809/1000 [00:15<00:03, 50.88it/s]\u001b[A\n",
      " 82%|████████▏ | 815/1000 [00:15<00:03, 51.19it/s]\u001b[A\n",
      " 82%|████████▏ | 821/1000 [00:15<00:03, 50.53it/s]\u001b[A\n",
      " 83%|████████▎ | 827/1000 [00:15<00:03, 50.31it/s]\u001b[A\n",
      " 83%|████████▎ | 833/1000 [00:15<00:03, 49.94it/s]\u001b[A\n",
      " 84%|████████▍ | 838/1000 [00:16<00:03, 47.88it/s]\u001b[A\n",
      " 84%|████████▍ | 843/1000 [00:16<00:03, 44.14it/s]\u001b[A\n",
      " 85%|████████▍ | 848/1000 [00:16<00:03, 44.41it/s]\u001b[A\n",
      " 85%|████████▌ | 854/1000 [00:16<00:03, 46.82it/s]\u001b[A\n",
      " 86%|████████▌ | 860/1000 [00:16<00:02, 48.06it/s]\u001b[A\n",
      " 87%|████████▋ | 866/1000 [00:16<00:02, 49.41it/s]\u001b[A\n",
      " 87%|████████▋ | 872/1000 [00:16<00:02, 50.50it/s]\u001b[A\n",
      " 88%|████████▊ | 878/1000 [00:16<00:02, 51.56it/s]\u001b[A\n"
     ]
    },
    {
     "name": "stderr",
     "output_type": "stream",
     "text": [
      " 88%|████████▊ | 884/1000 [00:17<00:02, 52.09it/s]\u001b[A\n",
      " 89%|████████▉ | 890/1000 [00:17<00:02, 52.64it/s]\u001b[A\n",
      " 90%|████████▉ | 896/1000 [00:17<00:02, 49.50it/s]\u001b[A\n",
      " 90%|█████████ | 901/1000 [00:17<00:02, 49.13it/s]\u001b[A\n",
      " 91%|█████████ | 906/1000 [00:17<00:01, 49.03it/s]\u001b[A\n",
      " 91%|█████████ | 911/1000 [00:17<00:01, 48.88it/s]\u001b[A\n",
      " 92%|█████████▏| 917/1000 [00:17<00:01, 49.02it/s]\u001b[A\n",
      " 92%|█████████▏| 923/1000 [00:17<00:01, 49.88it/s]\u001b[A\n",
      " 93%|█████████▎| 929/1000 [00:17<00:01, 50.50it/s]\u001b[A\n",
      " 94%|█████████▎| 935/1000 [00:18<00:01, 50.46it/s]\u001b[A\n",
      " 94%|█████████▍| 941/1000 [00:18<00:01, 50.37it/s]\u001b[A\n",
      " 95%|█████████▍| 947/1000 [00:18<00:01, 45.08it/s]\u001b[A\n",
      " 95%|█████████▌| 952/1000 [00:18<00:01, 41.31it/s]\u001b[A\n",
      " 96%|█████████▌| 957/1000 [00:18<00:01, 41.88it/s]\u001b[A\n",
      " 96%|█████████▌| 962/1000 [00:18<00:00, 42.71it/s]\u001b[A\n",
      " 97%|█████████▋| 967/1000 [00:18<00:00, 42.74it/s]\u001b[A\n",
      " 97%|█████████▋| 972/1000 [00:18<00:00, 41.88it/s]\u001b[A\n",
      " 98%|█████████▊| 977/1000 [00:19<00:00, 42.98it/s]\u001b[A\n",
      " 98%|█████████▊| 982/1000 [00:19<00:00, 43.93it/s]\u001b[A\n",
      " 99%|█████████▉| 988/1000 [00:19<00:00, 46.40it/s]\u001b[A\n",
      " 99%|█████████▉| 993/1000 [00:19<00:00, 46.21it/s]\u001b[A\n",
      "100%|██████████| 1000/1000 [00:19<00:00, 51.19it/s][A\n"
     ]
    },
    {
     "data": {
      "text/plain": [
       "92433.12935419603"
      ]
     },
     "execution_count": 15,
     "metadata": {},
     "output_type": "execute_result"
    }
   ],
   "source": [
    "likes = [lnlike(prior) for prior in tqdm(prior_test)]\n",
    "np.min(likes)"
   ]
  },
  {
   "cell_type": "code",
   "execution_count": 17,
   "id": "064e5ec9",
   "metadata": {
    "ExecuteTime": {
     "end_time": "2022-02-09T15:25:41.727561Z",
     "start_time": "2022-02-09T15:24:35.545972Z"
    },
    "scrolled": true
   },
   "outputs": [
    {
     "ename": "KeyboardInterrupt",
     "evalue": "",
     "output_type": "error",
     "traceback": [
      "\u001b[0;31m---------------------------------------------------------------------------\u001b[0m",
      "\u001b[0;31mKeyboardInterrupt\u001b[0m                         Traceback (most recent call last)",
      "\u001b[0;32m<ipython-input-17-0f1ffc488005>\u001b[0m in \u001b[0;36m<module>\u001b[0;34m\u001b[0m\n\u001b[1;32m      1\u001b[0m \u001b[0;31m#if __name__ == '__main__':\u001b[0m\u001b[0;34m\u001b[0m\u001b[0;34m\u001b[0m\u001b[0;34m\u001b[0m\u001b[0m\n\u001b[1;32m      2\u001b[0m \u001b[0mpool\u001b[0m \u001b[0;34m=\u001b[0m \u001b[0mPool\u001b[0m\u001b[0;34m(\u001b[0m\u001b[0;34m)\u001b[0m\u001b[0;34m\u001b[0m\u001b[0;34m\u001b[0m\u001b[0m\n\u001b[0;32m----> 3\u001b[0;31m \u001b[0mresults\u001b[0m \u001b[0;34m=\u001b[0m \u001b[0mpool\u001b[0m\u001b[0;34m.\u001b[0m\u001b[0mmap\u001b[0m\u001b[0;34m(\u001b[0m\u001b[0mlnlike\u001b[0m\u001b[0;34m,\u001b[0m \u001b[0mprior_test\u001b[0m\u001b[0;34m)\u001b[0m\u001b[0;34m\u001b[0m\u001b[0;34m\u001b[0m\u001b[0m\n\u001b[0m\u001b[1;32m      4\u001b[0m     \u001b[0;31m#pool.close()\u001b[0m\u001b[0;34m\u001b[0m\u001b[0;34m\u001b[0m\u001b[0;34m\u001b[0m\u001b[0m\n\u001b[1;32m      5\u001b[0m     \u001b[0;31m#pool.join()\u001b[0m\u001b[0;34m\u001b[0m\u001b[0;34m\u001b[0m\u001b[0;34m\u001b[0m\u001b[0m\n",
      "\u001b[0;32m~/opt/anaconda3/lib/python3.8/multiprocessing/pool.py\u001b[0m in \u001b[0;36mmap\u001b[0;34m(self, func, iterable, chunksize)\u001b[0m\n\u001b[1;32m    362\u001b[0m         \u001b[0;32min\u001b[0m \u001b[0ma\u001b[0m \u001b[0mlist\u001b[0m \u001b[0mthat\u001b[0m \u001b[0;32mis\u001b[0m \u001b[0mreturned\u001b[0m\u001b[0;34m.\u001b[0m\u001b[0;34m\u001b[0m\u001b[0;34m\u001b[0m\u001b[0m\n\u001b[1;32m    363\u001b[0m         '''\n\u001b[0;32m--> 364\u001b[0;31m         \u001b[0;32mreturn\u001b[0m \u001b[0mself\u001b[0m\u001b[0;34m.\u001b[0m\u001b[0m_map_async\u001b[0m\u001b[0;34m(\u001b[0m\u001b[0mfunc\u001b[0m\u001b[0;34m,\u001b[0m \u001b[0miterable\u001b[0m\u001b[0;34m,\u001b[0m \u001b[0mmapstar\u001b[0m\u001b[0;34m,\u001b[0m \u001b[0mchunksize\u001b[0m\u001b[0;34m)\u001b[0m\u001b[0;34m.\u001b[0m\u001b[0mget\u001b[0m\u001b[0;34m(\u001b[0m\u001b[0;34m)\u001b[0m\u001b[0;34m\u001b[0m\u001b[0;34m\u001b[0m\u001b[0m\n\u001b[0m\u001b[1;32m    365\u001b[0m \u001b[0;34m\u001b[0m\u001b[0m\n\u001b[1;32m    366\u001b[0m     \u001b[0;32mdef\u001b[0m \u001b[0mstarmap\u001b[0m\u001b[0;34m(\u001b[0m\u001b[0mself\u001b[0m\u001b[0;34m,\u001b[0m \u001b[0mfunc\u001b[0m\u001b[0;34m,\u001b[0m \u001b[0miterable\u001b[0m\u001b[0;34m,\u001b[0m \u001b[0mchunksize\u001b[0m\u001b[0;34m=\u001b[0m\u001b[0;32mNone\u001b[0m\u001b[0;34m)\u001b[0m\u001b[0;34m:\u001b[0m\u001b[0;34m\u001b[0m\u001b[0;34m\u001b[0m\u001b[0m\n",
      "\u001b[0;32m~/opt/anaconda3/lib/python3.8/multiprocessing/pool.py\u001b[0m in \u001b[0;36mget\u001b[0;34m(self, timeout)\u001b[0m\n\u001b[1;32m    763\u001b[0m \u001b[0;34m\u001b[0m\u001b[0m\n\u001b[1;32m    764\u001b[0m     \u001b[0;32mdef\u001b[0m \u001b[0mget\u001b[0m\u001b[0;34m(\u001b[0m\u001b[0mself\u001b[0m\u001b[0;34m,\u001b[0m \u001b[0mtimeout\u001b[0m\u001b[0;34m=\u001b[0m\u001b[0;32mNone\u001b[0m\u001b[0;34m)\u001b[0m\u001b[0;34m:\u001b[0m\u001b[0;34m\u001b[0m\u001b[0;34m\u001b[0m\u001b[0m\n\u001b[0;32m--> 765\u001b[0;31m         \u001b[0mself\u001b[0m\u001b[0;34m.\u001b[0m\u001b[0mwait\u001b[0m\u001b[0;34m(\u001b[0m\u001b[0mtimeout\u001b[0m\u001b[0;34m)\u001b[0m\u001b[0;34m\u001b[0m\u001b[0;34m\u001b[0m\u001b[0m\n\u001b[0m\u001b[1;32m    766\u001b[0m         \u001b[0;32mif\u001b[0m \u001b[0;32mnot\u001b[0m \u001b[0mself\u001b[0m\u001b[0;34m.\u001b[0m\u001b[0mready\u001b[0m\u001b[0;34m(\u001b[0m\u001b[0;34m)\u001b[0m\u001b[0;34m:\u001b[0m\u001b[0;34m\u001b[0m\u001b[0;34m\u001b[0m\u001b[0m\n\u001b[1;32m    767\u001b[0m             \u001b[0;32mraise\u001b[0m \u001b[0mTimeoutError\u001b[0m\u001b[0;34m\u001b[0m\u001b[0;34m\u001b[0m\u001b[0m\n",
      "\u001b[0;32m~/opt/anaconda3/lib/python3.8/multiprocessing/pool.py\u001b[0m in \u001b[0;36mwait\u001b[0;34m(self, timeout)\u001b[0m\n\u001b[1;32m    760\u001b[0m \u001b[0;34m\u001b[0m\u001b[0m\n\u001b[1;32m    761\u001b[0m     \u001b[0;32mdef\u001b[0m \u001b[0mwait\u001b[0m\u001b[0;34m(\u001b[0m\u001b[0mself\u001b[0m\u001b[0;34m,\u001b[0m \u001b[0mtimeout\u001b[0m\u001b[0;34m=\u001b[0m\u001b[0;32mNone\u001b[0m\u001b[0;34m)\u001b[0m\u001b[0;34m:\u001b[0m\u001b[0;34m\u001b[0m\u001b[0;34m\u001b[0m\u001b[0m\n\u001b[0;32m--> 762\u001b[0;31m         \u001b[0mself\u001b[0m\u001b[0;34m.\u001b[0m\u001b[0m_event\u001b[0m\u001b[0;34m.\u001b[0m\u001b[0mwait\u001b[0m\u001b[0;34m(\u001b[0m\u001b[0mtimeout\u001b[0m\u001b[0;34m)\u001b[0m\u001b[0;34m\u001b[0m\u001b[0;34m\u001b[0m\u001b[0m\n\u001b[0m\u001b[1;32m    763\u001b[0m \u001b[0;34m\u001b[0m\u001b[0m\n\u001b[1;32m    764\u001b[0m     \u001b[0;32mdef\u001b[0m \u001b[0mget\u001b[0m\u001b[0;34m(\u001b[0m\u001b[0mself\u001b[0m\u001b[0;34m,\u001b[0m \u001b[0mtimeout\u001b[0m\u001b[0;34m=\u001b[0m\u001b[0;32mNone\u001b[0m\u001b[0;34m)\u001b[0m\u001b[0;34m:\u001b[0m\u001b[0;34m\u001b[0m\u001b[0;34m\u001b[0m\u001b[0m\n",
      "\u001b[0;32m~/opt/anaconda3/lib/python3.8/threading.py\u001b[0m in \u001b[0;36mwait\u001b[0;34m(self, timeout)\u001b[0m\n\u001b[1;32m    556\u001b[0m             \u001b[0msignaled\u001b[0m \u001b[0;34m=\u001b[0m \u001b[0mself\u001b[0m\u001b[0;34m.\u001b[0m\u001b[0m_flag\u001b[0m\u001b[0;34m\u001b[0m\u001b[0;34m\u001b[0m\u001b[0m\n\u001b[1;32m    557\u001b[0m             \u001b[0;32mif\u001b[0m \u001b[0;32mnot\u001b[0m \u001b[0msignaled\u001b[0m\u001b[0;34m:\u001b[0m\u001b[0;34m\u001b[0m\u001b[0;34m\u001b[0m\u001b[0m\n\u001b[0;32m--> 558\u001b[0;31m                 \u001b[0msignaled\u001b[0m \u001b[0;34m=\u001b[0m \u001b[0mself\u001b[0m\u001b[0;34m.\u001b[0m\u001b[0m_cond\u001b[0m\u001b[0;34m.\u001b[0m\u001b[0mwait\u001b[0m\u001b[0;34m(\u001b[0m\u001b[0mtimeout\u001b[0m\u001b[0;34m)\u001b[0m\u001b[0;34m\u001b[0m\u001b[0;34m\u001b[0m\u001b[0m\n\u001b[0m\u001b[1;32m    559\u001b[0m             \u001b[0;32mreturn\u001b[0m \u001b[0msignaled\u001b[0m\u001b[0;34m\u001b[0m\u001b[0;34m\u001b[0m\u001b[0m\n\u001b[1;32m    560\u001b[0m \u001b[0;34m\u001b[0m\u001b[0m\n",
      "\u001b[0;32m~/opt/anaconda3/lib/python3.8/threading.py\u001b[0m in \u001b[0;36mwait\u001b[0;34m(self, timeout)\u001b[0m\n\u001b[1;32m    300\u001b[0m         \u001b[0;32mtry\u001b[0m\u001b[0;34m:\u001b[0m    \u001b[0;31m# restore state no matter what (e.g., KeyboardInterrupt)\u001b[0m\u001b[0;34m\u001b[0m\u001b[0;34m\u001b[0m\u001b[0m\n\u001b[1;32m    301\u001b[0m             \u001b[0;32mif\u001b[0m \u001b[0mtimeout\u001b[0m \u001b[0;32mis\u001b[0m \u001b[0;32mNone\u001b[0m\u001b[0;34m:\u001b[0m\u001b[0;34m\u001b[0m\u001b[0;34m\u001b[0m\u001b[0m\n\u001b[0;32m--> 302\u001b[0;31m                 \u001b[0mwaiter\u001b[0m\u001b[0;34m.\u001b[0m\u001b[0macquire\u001b[0m\u001b[0;34m(\u001b[0m\u001b[0;34m)\u001b[0m\u001b[0;34m\u001b[0m\u001b[0;34m\u001b[0m\u001b[0m\n\u001b[0m\u001b[1;32m    303\u001b[0m                 \u001b[0mgotit\u001b[0m \u001b[0;34m=\u001b[0m \u001b[0;32mTrue\u001b[0m\u001b[0;34m\u001b[0m\u001b[0;34m\u001b[0m\u001b[0m\n\u001b[1;32m    304\u001b[0m             \u001b[0;32melse\u001b[0m\u001b[0;34m:\u001b[0m\u001b[0;34m\u001b[0m\u001b[0;34m\u001b[0m\u001b[0m\n",
      "\u001b[0;31mKeyboardInterrupt\u001b[0m: "
     ]
    }
   ],
   "source": [
    "if __name__ == '__main__':\n",
    "    pool = Pool(processes=3)\n",
    "    results = pool.map(lnlike, prior_test)\n",
    "    pool.close()\n",
    "    pool.join()\n",
    "    print(results)"
   ]
  },
  {
   "cell_type": "code",
   "execution_count": 6,
   "id": "807c8f5b",
   "metadata": {
    "scrolled": true
   },
   "outputs": [
    {
     "name": "stderr",
     "output_type": "stream",
     "text": [
      "  0%|          | 12/10000 [00:00<10:36, 15.70it/s]/Users/Helios/opt/anaconda3/lib/python3.8/site-packages/rebound/simulation.py:712: RuntimeWarning: WHFast convergence issue. Timestep is larger than at least one orbital period.\n",
      "  warnings.warn(msg[1:], RuntimeWarning)\n",
      "100%|██████████| 10000/10000 [10:48<00:00, 15.42it/s]"
     ]
    },
    {
     "name": "stdout",
     "output_type": "stream",
     "text": [
      "10000\n",
      "0\n"
     ]
    },
    {
     "name": "stderr",
     "output_type": "stream",
     "text": [
      "\n"
     ]
    }
   ],
   "source": [
    "#start_time = timeit.default_timer()\n",
    "post_test = np.array([get_posteriors(seeds) for seed in tqdm(seeds)])\n",
    "print(len(post_test))\n",
    "print(len(post_test[~np.isnan(post_test)]))\n",
    "#print('Elapsed time:',timeit.default_timer() - start_time)"
   ]
  },
  {
   "cell_type": "code",
   "execution_count": 7,
   "id": "d9fd725a",
   "metadata": {
    "scrolled": true
   },
   "outputs": [
    {
     "name": "stdout",
     "output_type": "stream",
     "text": [
      "96891\n",
      "Elapsed time: 1412.801735845\n"
     ]
    }
   ],
   "source": [
    "start_time = timeit.default_timer()\n",
    "post_test = np.array(get_posteriors(0, 1e5))\n",
    "#res = post_test[~np.isnan(post_test)]\n",
    "print(len(post_test))\n",
    "print('Elapsed time:',timeit.default_timer() - start_time)"
   ]
  },
  {
   "cell_type": "code",
   "execution_count": 8,
   "id": "3d0c819c",
   "metadata": {},
   "outputs": [
    {
     "data": {
      "text/plain": [
       "array([], dtype=float64)"
      ]
     },
     "execution_count": 8,
     "metadata": {},
     "output_type": "execute_result"
    }
   ],
   "source": [
    "res = post_test[~np.isnan(post_test)]\n",
    "res"
   ]
  },
  {
   "cell_type": "code",
   "execution_count": 159,
   "id": "f5263161",
   "metadata": {},
   "outputs": [],
   "source": [
    "mbs = [prior[4] for prior in prior_test]\n",
    "ebs = [prior[5] for prior in prior_test]"
   ]
  },
  {
   "cell_type": "code",
   "execution_count": 160,
   "id": "4526a7ef",
   "metadata": {},
   "outputs": [
    {
     "data": {
      "image/png": "[encoded data removed]",
      "text/plain": [
       "<Figure size 432x288 with 1 Axes>"
      ]
     },
     "metadata": {
      "needs_background": "light"
     },
     "output_type": "display_data"
    }
   ],
   "source": [
    "%matplotlib inline\n",
    "plt.hist(np.array(mbs), bins='auto',histtype='step')\n",
    "plt.show()"
   ]
  },
  {
   "cell_type": "code",
   "execution_count": 161,
   "id": "25e94a79",
   "metadata": {},
   "outputs": [
    {
     "data": {
      "image/png": "[encoded data removed]",
      "text/plain": [
       "<Figure size 432x288 with 1 Axes>"
      ]
     },
     "metadata": {
      "needs_background": "light"
     },
     "output_type": "display_data"
    }
   ],
   "source": [
    "plt.hist(np.array(ebs), bins='auto', histtype='step')\n",
    "plt.show()"
   ]
  },
  {
   "cell_type": "code",
   "execution_count": 35,
   "id": "79b5745b",
   "metadata": {},
   "outputs": [
    {
     "data": {
      "text/plain": [
       "1.21"
      ]
     },
     "execution_count": 35,
     "metadata": {},
     "output_type": "execute_result"
    }
   ],
   "source": [
    "0.64+3*0.19"
   ]
  },
  {
   "cell_type": "code",
   "execution_count": 124,
   "id": "0db02dde",
   "metadata": {},
   "outputs": [
    {
     "data": {
      "image/png": "[encoded data removed]",
      "text/plain": [
       "<Figure size 432x288 with 1 Axes>"
      ]
     },
     "metadata": {
      "needs_background": "light"
     },
     "output_type": "display_data"
    }
   ],
   "source": [
    "\n",
    "a, b = (0 - 1) / 0.5, (1.2 - 1) / 0.5\n",
    "test = stats.truncnorm.rvs(a=-5, b=1.21, loc=0.64, scale=0.19, size=10000)\n",
    "plt.hist(test, bins='auto', histtype='step')\n",
    "plt.show()"
   ]
  },
  {
   "cell_type": "code",
   "execution_count": 121,
   "id": "9a21532d",
   "metadata": {},
   "outputs": [
    {
     "data": {
      "text/plain": [
       "-2.0"
      ]
     },
     "execution_count": 121,
     "metadata": {},
     "output_type": "execute_result"
    }
   ],
   "source": []
  },
  {
   "cell_type": "code",
   "execution_count": 19,
   "id": "baee0fa8",
   "metadata": {
    "ExecuteTime": {
     "end_time": "2022-02-09T15:28:22.225197Z",
     "start_time": "2022-02-09T15:27:55.461634Z"
    }
   },
   "outputs": [
    {
     "ename": "KeyboardInterrupt",
     "evalue": "",
     "output_type": "error",
     "traceback": [
      "\u001b[0;31m---------------------------------------------------------------------------\u001b[0m",
      "\u001b[0;31mKeyboardInterrupt\u001b[0m                         Traceback (most recent call last)",
      "\u001b[0;32m<ipython-input-19-2b27a72b507c>\u001b[0m in \u001b[0;36m<module>\u001b[0;34m\u001b[0m\n\u001b[1;32m      7\u001b[0m \u001b[0mp\u001b[0m\u001b[0;34m=\u001b[0m\u001b[0mPool\u001b[0m\u001b[0;34m(\u001b[0m\u001b[0mprocesses\u001b[0m \u001b[0;34m=\u001b[0m \u001b[0mnum_processors\u001b[0m\u001b[0;34m)\u001b[0m\u001b[0;34m\u001b[0m\u001b[0;34m\u001b[0m\u001b[0m\n\u001b[1;32m      8\u001b[0m \u001b[0;31m#get them to work in parallel\u001b[0m\u001b[0;34m\u001b[0m\u001b[0;34m\u001b[0m\u001b[0;34m\u001b[0m\u001b[0m\n\u001b[0;32m----> 9\u001b[0;31m \u001b[0moutput\u001b[0m \u001b[0;34m=\u001b[0m \u001b[0mp\u001b[0m\u001b[0;34m.\u001b[0m\u001b[0mmap\u001b[0m\u001b[0;34m(\u001b[0m\u001b[0mworker\u001b[0m\u001b[0;34m,\u001b[0m\u001b[0;34m[\u001b[0m\u001b[0mi\u001b[0m \u001b[0;32mfor\u001b[0m \u001b[0mi\u001b[0m \u001b[0;32min\u001b[0m \u001b[0mrange\u001b[0m\u001b[0;34m(\u001b[0m\u001b[0;36m0\u001b[0m\u001b[0;34m,\u001b[0m\u001b[0;36m3\u001b[0m\u001b[0;34m)\u001b[0m\u001b[0;34m]\u001b[0m\u001b[0;34m)\u001b[0m\u001b[0;34m\u001b[0m\u001b[0;34m\u001b[0m\u001b[0m\n\u001b[0m\u001b[1;32m     10\u001b[0m \u001b[0mprint\u001b[0m\u001b[0;34m(\u001b[0m\u001b[0moutput\u001b[0m\u001b[0;34m)\u001b[0m\u001b[0;34m\u001b[0m\u001b[0;34m\u001b[0m\u001b[0m\n",
      "\u001b[0;32m~/opt/anaconda3/lib/python3.8/multiprocessing/pool.py\u001b[0m in \u001b[0;36mmap\u001b[0;34m(self, func, iterable, chunksize)\u001b[0m\n\u001b[1;32m    362\u001b[0m         \u001b[0;32min\u001b[0m \u001b[0ma\u001b[0m \u001b[0mlist\u001b[0m \u001b[0mthat\u001b[0m \u001b[0;32mis\u001b[0m \u001b[0mreturned\u001b[0m\u001b[0;34m.\u001b[0m\u001b[0;34m\u001b[0m\u001b[0;34m\u001b[0m\u001b[0m\n\u001b[1;32m    363\u001b[0m         '''\n\u001b[0;32m--> 364\u001b[0;31m         \u001b[0;32mreturn\u001b[0m \u001b[0mself\u001b[0m\u001b[0;34m.\u001b[0m\u001b[0m_map_async\u001b[0m\u001b[0;34m(\u001b[0m\u001b[0mfunc\u001b[0m\u001b[0;34m,\u001b[0m \u001b[0miterable\u001b[0m\u001b[0;34m,\u001b[0m \u001b[0mmapstar\u001b[0m\u001b[0;34m,\u001b[0m \u001b[0mchunksize\u001b[0m\u001b[0;34m)\u001b[0m\u001b[0;34m.\u001b[0m\u001b[0mget\u001b[0m\u001b[0;34m(\u001b[0m\u001b[0;34m)\u001b[0m\u001b[0;34m\u001b[0m\u001b[0;34m\u001b[0m\u001b[0m\n\u001b[0m\u001b[1;32m    365\u001b[0m \u001b[0;34m\u001b[0m\u001b[0m\n\u001b[1;32m    366\u001b[0m     \u001b[0;32mdef\u001b[0m \u001b[0mstarmap\u001b[0m\u001b[0;34m(\u001b[0m\u001b[0mself\u001b[0m\u001b[0;34m,\u001b[0m \u001b[0mfunc\u001b[0m\u001b[0;34m,\u001b[0m \u001b[0miterable\u001b[0m\u001b[0;34m,\u001b[0m \u001b[0mchunksize\u001b[0m\u001b[0;34m=\u001b[0m\u001b[0;32mNone\u001b[0m\u001b[0;34m)\u001b[0m\u001b[0;34m:\u001b[0m\u001b[0;34m\u001b[0m\u001b[0;34m\u001b[0m\u001b[0m\n",
      "\u001b[0;32m~/opt/anaconda3/lib/python3.8/multiprocessing/pool.py\u001b[0m in \u001b[0;36mget\u001b[0;34m(self, timeout)\u001b[0m\n\u001b[1;32m    763\u001b[0m \u001b[0;34m\u001b[0m\u001b[0m\n\u001b[1;32m    764\u001b[0m     \u001b[0;32mdef\u001b[0m \u001b[0mget\u001b[0m\u001b[0;34m(\u001b[0m\u001b[0mself\u001b[0m\u001b[0;34m,\u001b[0m \u001b[0mtimeout\u001b[0m\u001b[0;34m=\u001b[0m\u001b[0;32mNone\u001b[0m\u001b[0;34m)\u001b[0m\u001b[0;34m:\u001b[0m\u001b[0;34m\u001b[0m\u001b[0;34m\u001b[0m\u001b[0m\n\u001b[0;32m--> 765\u001b[0;31m         \u001b[0mself\u001b[0m\u001b[0;34m.\u001b[0m\u001b[0mwait\u001b[0m\u001b[0;34m(\u001b[0m\u001b[0mtimeout\u001b[0m\u001b[0;34m)\u001b[0m\u001b[0;34m\u001b[0m\u001b[0;34m\u001b[0m\u001b[0m\n\u001b[0m\u001b[1;32m    766\u001b[0m         \u001b[0;32mif\u001b[0m \u001b[0;32mnot\u001b[0m \u001b[0mself\u001b[0m\u001b[0;34m.\u001b[0m\u001b[0mready\u001b[0m\u001b[0;34m(\u001b[0m\u001b[0;34m)\u001b[0m\u001b[0;34m:\u001b[0m\u001b[0;34m\u001b[0m\u001b[0;34m\u001b[0m\u001b[0m\n\u001b[1;32m    767\u001b[0m             \u001b[0;32mraise\u001b[0m \u001b[0mTimeoutError\u001b[0m\u001b[0;34m\u001b[0m\u001b[0;34m\u001b[0m\u001b[0m\n",
      "\u001b[0;32m~/opt/anaconda3/lib/python3.8/multiprocessing/pool.py\u001b[0m in \u001b[0;36mwait\u001b[0;34m(self, timeout)\u001b[0m\n\u001b[1;32m    760\u001b[0m \u001b[0;34m\u001b[0m\u001b[0m\n\u001b[1;32m    761\u001b[0m     \u001b[0;32mdef\u001b[0m \u001b[0mwait\u001b[0m\u001b[0;34m(\u001b[0m\u001b[0mself\u001b[0m\u001b[0;34m,\u001b[0m \u001b[0mtimeout\u001b[0m\u001b[0;34m=\u001b[0m\u001b[0;32mNone\u001b[0m\u001b[0;34m)\u001b[0m\u001b[0;34m:\u001b[0m\u001b[0;34m\u001b[0m\u001b[0;34m\u001b[0m\u001b[0m\n\u001b[0;32m--> 762\u001b[0;31m         \u001b[0mself\u001b[0m\u001b[0;34m.\u001b[0m\u001b[0m_event\u001b[0m\u001b[0;34m.\u001b[0m\u001b[0mwait\u001b[0m\u001b[0;34m(\u001b[0m\u001b[0mtimeout\u001b[0m\u001b[0;34m)\u001b[0m\u001b[0;34m\u001b[0m\u001b[0;34m\u001b[0m\u001b[0m\n\u001b[0m\u001b[1;32m    763\u001b[0m \u001b[0;34m\u001b[0m\u001b[0m\n\u001b[1;32m    764\u001b[0m     \u001b[0;32mdef\u001b[0m \u001b[0mget\u001b[0m\u001b[0;34m(\u001b[0m\u001b[0mself\u001b[0m\u001b[0;34m,\u001b[0m \u001b[0mtimeout\u001b[0m\u001b[0;34m=\u001b[0m\u001b[0;32mNone\u001b[0m\u001b[0;34m)\u001b[0m\u001b[0;34m:\u001b[0m\u001b[0;34m\u001b[0m\u001b[0;34m\u001b[0m\u001b[0m\n",
      "\u001b[0;32m~/opt/anaconda3/lib/python3.8/threading.py\u001b[0m in \u001b[0;36mwait\u001b[0;34m(self, timeout)\u001b[0m\n\u001b[1;32m    556\u001b[0m             \u001b[0msignaled\u001b[0m \u001b[0;34m=\u001b[0m \u001b[0mself\u001b[0m\u001b[0;34m.\u001b[0m\u001b[0m_flag\u001b[0m\u001b[0;34m\u001b[0m\u001b[0;34m\u001b[0m\u001b[0m\n\u001b[1;32m    557\u001b[0m             \u001b[0;32mif\u001b[0m \u001b[0;32mnot\u001b[0m \u001b[0msignaled\u001b[0m\u001b[0;34m:\u001b[0m\u001b[0;34m\u001b[0m\u001b[0;34m\u001b[0m\u001b[0m\n\u001b[0;32m--> 558\u001b[0;31m                 \u001b[0msignaled\u001b[0m \u001b[0;34m=\u001b[0m \u001b[0mself\u001b[0m\u001b[0;34m.\u001b[0m\u001b[0m_cond\u001b[0m\u001b[0;34m.\u001b[0m\u001b[0mwait\u001b[0m\u001b[0;34m(\u001b[0m\u001b[0mtimeout\u001b[0m\u001b[0;34m)\u001b[0m\u001b[0;34m\u001b[0m\u001b[0;34m\u001b[0m\u001b[0m\n\u001b[0m\u001b[1;32m    559\u001b[0m             \u001b[0;32mreturn\u001b[0m \u001b[0msignaled\u001b[0m\u001b[0;34m\u001b[0m\u001b[0;34m\u001b[0m\u001b[0m\n\u001b[1;32m    560\u001b[0m \u001b[0;34m\u001b[0m\u001b[0m\n",
      "\u001b[0;32m~/opt/anaconda3/lib/python3.8/threading.py\u001b[0m in \u001b[0;36mwait\u001b[0;34m(self, timeout)\u001b[0m\n\u001b[1;32m    300\u001b[0m         \u001b[0;32mtry\u001b[0m\u001b[0;34m:\u001b[0m    \u001b[0;31m# restore state no matter what (e.g., KeyboardInterrupt)\u001b[0m\u001b[0;34m\u001b[0m\u001b[0;34m\u001b[0m\u001b[0m\n\u001b[1;32m    301\u001b[0m             \u001b[0;32mif\u001b[0m \u001b[0mtimeout\u001b[0m \u001b[0;32mis\u001b[0m \u001b[0;32mNone\u001b[0m\u001b[0;34m:\u001b[0m\u001b[0;34m\u001b[0m\u001b[0;34m\u001b[0m\u001b[0m\n\u001b[0;32m--> 302\u001b[0;31m                 \u001b[0mwaiter\u001b[0m\u001b[0;34m.\u001b[0m\u001b[0macquire\u001b[0m\u001b[0;34m(\u001b[0m\u001b[0;34m)\u001b[0m\u001b[0;34m\u001b[0m\u001b[0;34m\u001b[0m\u001b[0m\n\u001b[0m\u001b[1;32m    303\u001b[0m                 \u001b[0mgotit\u001b[0m \u001b[0;34m=\u001b[0m \u001b[0;32mTrue\u001b[0m\u001b[0;34m\u001b[0m\u001b[0;34m\u001b[0m\u001b[0m\n\u001b[1;32m    304\u001b[0m             \u001b[0;32melse\u001b[0m\u001b[0;34m:\u001b[0m\u001b[0;34m\u001b[0m\u001b[0;34m\u001b[0m\u001b[0m\n",
      "\u001b[0;31mKeyboardInterrupt\u001b[0m: "
     ]
    }
   ],
   "source": [
    "#Define a worker — a function which will be executed in parallel\n",
    "def worker(x):\n",
    "    return x*x\n",
    "if __name__ ==  '__main__': \n",
    " num_processors = 3\n",
    " p=Pool(processes = num_processors)\n",
    " output = p.map(workers.worker,[i for i in range(0,3)])\n",
    " print(output)"
   ]
  },
  {
   "cell_type": "code",
   "execution_count": null,
   "id": "22cf489b",
   "metadata": {},
   "outputs": [],
   "source": []
  }
 ],
 "metadata": {
  "kernelspec": {
   "display_name": "Python 3",
   "language": "python",
   "name": "python3"
  },
  "language_info": {
   "codemirror_mode": {
    "name": "ipython",
    "version": 3
   },
   "file_extension": ".py",
   "mimetype": "text/x-python",
   "name": "python",
   "nbconvert_exporter": "python",
   "pygments_lexer": "ipython3",
   "version": "3.8.8"
  },
  "toc": {
   "base_numbering": 1,
   "nav_menu": {},
   "number_sections": true,
   "sideBar": true,
   "skip_h1_title": false,
   "title_cell": "Table of Contents",
   "title_sidebar": "Contents",
   "toc_cell": false,
   "toc_position": {},
   "toc_section_display": true,
   "toc_window_display": false
  }
 },
 "nbformat": 4,
 "nbformat_minor": 5
}
