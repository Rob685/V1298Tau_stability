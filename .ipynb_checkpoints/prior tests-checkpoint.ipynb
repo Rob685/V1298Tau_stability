{
 "cells": [
  {
   "cell_type": "code",
   "execution_count": 7,
   "id": "040804d9",
   "metadata": {},
   "outputs": [],
   "source": [
    "import numpy as np\n",
    "import pandas as pd\n",
    "import os\n",
    "import matplotlib.pyplot as plt\n",
    "import spock\n",
    "from spock import FeatureClassifier\n",
    "import corner\n",
    "from tqdm import tqdm\n",
    "from scipy import stats\n",
    "from celmech import Andoyer\n",
    "from statsmodels.stats.weightstats import DescrStatsW\n",
    "import warnings\n",
    "import rebound\n",
    "import time\n",
    "import sys\n",
    "from multiprocessing import Pool\n",
    "from p_tqdm import p_map\n",
    "warnings.simplefilter(action='ignore', category=FutureWarning)"
   ]
  },
  {
   "cell_type": "code",
   "execution_count": 205,
   "id": "4606cd2d",
   "metadata": {},
   "outputs": [],
   "source": [
    "# last TESS observation:\n",
    "t_tess = 4664.65\n",
    "\n",
    "# last K2 observation:\n",
    "t_K2 = 2265\n",
    "\n",
    "t = t_tess - t_K2\n",
    "\n",
    "t_orbits = t/8.24958\n",
    "\n",
    "t_orb = t_orbits*5.98\n",
    "tmax = 1.0*t_orb\n",
    "Nout = 200\n",
    "\n",
    "t = np.linspace(0,tmax,Nout)\n",
    "obs_tess = np.where(np.round(abs(t - t_orb),6) == np.round(np.min(abs(t - t_orb)),6))[0][0]\n",
    "delta_index = 0\n",
    "obs_idx=[delta_index,obs_tess+delta_index]\n",
    "\n",
    "nobs = 2\n",
    "obs_err = np.array([0.0001, 0.0005])\n",
    "obs = np.array([1.503, 1.503])\n",
    "\n",
    "def makesim(theta):\n",
    "\n",
    "\n",
    "    e_forced, e_free, mu, deltaT, mb, eb, pomegab, thetab = theta\n",
    "\n",
    "    mratio=0.5\n",
    "    e_com = 0.0\n",
    "    phiecom=float(np.random.uniform(0, 2*np.pi, size=1)) # varying between 0 and 2pi\n",
    "    theta1 = np.pi\n",
    "    Mstar = 1.1\n",
    "    m1 = mratio*10**mu\n",
    "    m2 = (1-mratio)*10**mu\n",
    "    phi = np.pi # where equilibrium is\n",
    "    theta1 = np.pi # position of planet b\n",
    "\n",
    "    andvars = Andoyer.from_Z(j=3, k=1, Z=(e_forced+e_free)/np.sqrt(2), phi=phi,\n",
    "                             Zstar=e_forced/np.sqrt(2), Mstar=Mstar, m1=m1, m2=m2,\n",
    "                             Zcom=e_com/np.sqrt(2), phiZcom=phiecom, theta1=theta1)\n",
    "\n",
    "    try:\n",
    "\n",
    "        sim = andvars.to_Simulation()\n",
    "        sim.add(m=mb, P=sim.particles[2].P*1.946, e=eb, pomega=pomegab, theta=thetab)\n",
    "        sim.integrator=\"whfast\"\n",
    "        sim.dt = sim.particles[1].P/10\n",
    "        sim.ri_whfast.safe_mode = 0\n",
    "        sim.integrate(deltaT)\n",
    "        sim.t = 0\n",
    "        return sim\n",
    "    except:\n",
    "        print(e_forced, e_free, deltaT, mu)\n",
    "        raise\n",
    "\n",
    "def run(sim):\n",
    "\n",
    "    Pratios = np.zeros(Nout)\n",
    "    ps = sim.particles\n",
    "\n",
    "    for i, time in enumerate(t):\n",
    "\n",
    "        sim.integrate(time)\n",
    "        Pratios[i] = ps[2].P/ps[1].P\n",
    "\n",
    "    return Pratios\n",
    "\n",
    "def compute_model(theta):\n",
    "\n",
    "\n",
    "    sims = [makesim(param) for param in theta]\n",
    "\n",
    "    period_ratios = [run(sim) for sim in sims]\n",
    "    \n",
    "    \n",
    "\n",
    "    return [periods[obs_idx] for periods in period_ratios]\n",
    "\n",
    "def gen_priors_array(seed, n):\n",
    "\n",
    "    size_arr = int(n)\n",
    "    \n",
    "    rng = np.random.default_rng(seed)\n",
    "\n",
    "    eforced_0 = rng.uniform(0.0005,0.23,size=size_arr) # changing the upper limit to the crossing eccentricity\n",
    "    efree_0 = rng.uniform(0.0005,0.003,size=size_arr) # changing the bounds because experiments show that\n",
    "    mu_0 = rng.uniform(np.log10(8.964e-6), np.log10(5.25e-4), size=size_arr) # new upper limit of 0.55 Mjup by Mascareno\n",
    "\n",
    "    mb_0 = stats.norm.rvs(loc=0.69, scale=0.19, size=size_arr)\n",
    "\n",
    "    eb_0 = stats.norm.rvs(loc=0.13, scale=0.07, size=size_arr)\n",
    "\n",
    "    pomegab_0 = np.random.uniform(0, 2*np.pi, size=size_arr)\n",
    "\n",
    "    thetab_0 = np.random.uniform(0, 2*np.pi, size=size_arr)\n",
    "\n",
    "    deltaT_0 = rng.uniform(0, 2000, size=size_arr)\n",
    "\n",
    "    prior_set = np.column_stack((eforced_0, efree_0, mu_0, deltaT_0, mb_0, eb_0, pomegab_0, thetab_0))\n",
    "    \n",
    "    valid_priors = []\n",
    "    for param in prior_set:\n",
    "        if param[4] < 0 or param[5] < 0:\n",
    "            continue\n",
    "        else:\n",
    "            valid_priors.append(param)\n",
    "\n",
    "    return valid_priors\n"
   ]
  },
  {
   "cell_type": "code",
   "execution_count": 206,
   "id": "06a27d37",
   "metadata": {},
   "outputs": [],
   "source": [
    "def lnlike(theta):\n",
    "\n",
    "    #e_forced, e_free, deltaT, mu, mb, eb, pomegab, thetab = theta\n",
    "\n",
    "    model = compute_model(theta)\n",
    "    argument = (obs - model)**2 / obs_err**2\n",
    "\n",
    "    loglike = [0.5*np.sum(arg) for arg in argument]\n",
    "    return loglike\n",
    "\n",
    "def get_posteriors(seed):\n",
    "\n",
    "    param_prior = gen_priors_array(seed)\n",
    "    like_val = lnlike(param_prior)\n",
    "\n",
    "    rng = np.random.default_rng(seed)\n",
    "\n",
    "    prob = np.log10(rng.random(len(param_prior)))\n",
    "    \n",
    "    posterior = []\n",
    "    for l,p,prior in tqdm(zip(like_val, prob, param_prior)):\n",
    "        if -l > p:\n",
    "            posterior.append(prior)\n",
    "\n",
    "        #:\n",
    "        #    posterior.append(np.nan)\n",
    "    \n",
    "    return posterior"
   ]
  },
  {
   "cell_type": "code",
   "execution_count": 207,
   "id": "27a2102d",
   "metadata": {},
   "outputs": [],
   "source": [
    "prior_test = gen_priors_array(0)"
   ]
  },
  {
   "cell_type": "code",
   "execution_count": null,
   "id": "996cc993",
   "metadata": {
    "scrolled": true
   },
   "outputs": [],
   "source": [
    "post_test = np.array(get_posteriors(0))\n",
    "res = post_test[~np.isnan(post_test)]\n",
    "print(len(post_test), len(res))"
   ]
  },
  {
   "cell_type": "code",
   "execution_count": 120,
   "id": "2be6e992",
   "metadata": {},
   "outputs": [
    {
     "data": {
      "text/plain": [
       "0.012985163110589504"
      ]
     },
     "execution_count": 120,
     "metadata": {},
     "output_type": "execute_result"
    }
   ],
   "source": [
    "mbs_test = [param[4] for param in prior_test]\n",
    "np.min(mbs_test)"
   ]
  },
  {
   "cell_type": "code",
   "execution_count": 126,
   "id": "eaa14e92",
   "metadata": {},
   "outputs": [],
   "source": [
    "mbs = [prior[4] for prior in prior_test]\n",
    "ebs = [prior[5] for prior in prior_test]"
   ]
  },
  {
   "cell_type": "code",
   "execution_count": 127,
   "id": "c3d41344",
   "metadata": {},
   "outputs": [
    {
     "data": {
      "image/png": "[encoded data removed]",
      "text/plain": [
       "<Figure size 432x288 with 1 Axes>"
      ]
     },
     "metadata": {
      "needs_background": "light"
     },
     "output_type": "display_data"
    }
   ],
   "source": [
    "%matplotlib inline\n",
    "plt.hist(np.array(mbs), bins='auto',histtype='step')\n",
    "plt.show()"
   ]
  },
  {
   "cell_type": "code",
   "execution_count": 129,
   "id": "23d21285",
   "metadata": {},
   "outputs": [
    {
     "data": {
      "image/png": "[encoded data removed]",
      "text/plain": [
       "<Figure size 432x288 with 1 Axes>"
      ]
     },
     "metadata": {
      "needs_background": "light"
     },
     "output_type": "display_data"
    }
   ],
   "source": [
    "plt.hist(np.array(ebs), bins='auto', histtype='step')\n",
    "plt.show()"
   ]
  },
  {
   "cell_type": "code",
   "execution_count": 35,
   "id": "aaa49065",
   "metadata": {},
   "outputs": [
    {
     "data": {
      "text/plain": [
       "1.21"
      ]
     },
     "execution_count": 35,
     "metadata": {},
     "output_type": "execute_result"
    }
   ],
   "source": [
    "0.64+3*0.19"
   ]
  },
  {
   "cell_type": "code",
   "execution_count": null,
   "id": "bb7f49ef",
   "metadata": {},
   "outputs": [],
   "source": []
  }
 ],
 "metadata": {
  "kernelspec": {
   "display_name": "Python 3",
   "language": "python",
   "name": "python3"
  },
  "language_info": {
   "codemirror_mode": {
    "name": "ipython",
    "version": 3
   },
   "file_extension": ".py",
   "mimetype": "text/x-python",
   "name": "python",
   "nbconvert_exporter": "python",
   "pygments_lexer": "ipython3",
   "version": "3.8.8"
  },
  "toc": {
   "base_numbering": 1,
   "nav_menu": {},
   "number_sections": true,
   "sideBar": true,
   "skip_h1_title": false,
   "title_cell": "Table of Contents",
   "title_sidebar": "Contents",
   "toc_cell": false,
   "toc_position": {},
   "toc_section_display": true,
   "toc_window_display": false
  }
 },
 "nbformat": 4,
 "nbformat_minor": 5
}
