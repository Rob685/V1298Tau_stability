{
 "cells": [
  {
   "cell_type": "code",
   "execution_count": 1,
   "id": "08f05b09",
   "metadata": {
    "ExecuteTime": {
     "end_time": "2022-03-04T02:59:49.264468Z",
     "start_time": "2022-03-04T02:59:42.161266Z"
    }
   },
   "outputs": [],
   "source": [
    "import numpy as np\n",
    "import matplotlib.pyplot as plt\n",
    "import matplotlib as mpl\n",
    "from matplotlib.gridspec import GridSpec\n",
    "from matplotlib.colors import TwoSlopeNorm\n",
    "import matplotlib.colors as colors\n",
    "from celmech import Andoyer\n",
    "import rebound\n",
    "from celmech.andoyer import get_Xstarres, get_Xstarunstable, get_Xstarnonres, get_Xsep\n",
    "import pdb\n",
    "from statsmodels.stats.weightstats import DescrStatsW\n",
    "import corner\n",
    "from tqdm import tqdm\n",
    "from celmech.andoyer import get_Hsep\n",
    "import glob\n",
    "import pandas as pd\n",
    "import spock\n",
    "from spock import FeatureClassifier\n",
    "from statsmodels.stats.weightstats import DescrStatsW\n",
    "from scipy import stats"
   ]
  },
  {
   "cell_type": "code",
   "execution_count": 2,
   "id": "c1c15432",
   "metadata": {
    "ExecuteTime": {
     "end_time": "2022-03-04T02:59:49.286503Z",
     "start_time": "2022-03-04T02:59:49.266846Z"
    }
   },
   "outputs": [],
   "source": [
    "# last TESS observation:\n",
    "t_tess = 4664.65\n",
    "\n",
    "# last K2 observation:\n",
    "t_K2 = 2265\n",
    "\n",
    "t = t_tess - t_K2\n",
    "\n",
    "t_orbits = t/8.24958\n",
    "\n",
    "#print('Number of orbits between observations: {:.0f}'.format(t_orbits))\n",
    "\n",
    "t_orb = t_orbits*5.98\n",
    "tmax = 1.0*t_orb\n",
    "Nout = 200\n",
    "\n",
    "t = np.linspace(0,tmax,Nout)\n",
    "obs_tess = np.where(np.round(abs(t - t_orb),6) == np.round(np.min(abs(t - t_orb)),6))[0][0] \n",
    "\n",
    "delta_index = 0\n",
    "obs_idx=[delta_index,obs_tess+delta_index] # [20, 519] in the current version\n",
    "\n",
    "nobs = 2\n",
    "obs_err = np.array([0.0001, 0.0005])\n",
    "obs = np.array([1.503, 1.503]) \n",
    "\n",
    "def makesim(theta,dt=None):\n",
    "    if dt==None:\n",
    "        e_forced, e_free, mu, deltaT = theta\n",
    "    else:\n",
    "        e_forced, e_free, mu = theta[0], theta[1], theta[2]\n",
    "        deltaT = dt\n",
    "    mratio=0.5\n",
    "    #e_com=float(np.random.uniform(0, 0.3, size=1)),  # varying between 0 and max(Z*) = 0.3\n",
    "    e_com = 0.0\n",
    "    phiecom=float(np.random.uniform(0, 2*np.pi, size=1)) # varying between 0 and 2pi\n",
    "    #phiecom=0.0\n",
    "    theta1 = np.pi\n",
    "    #pomega_b=None\n",
    "    \n",
    "    Mstar = 1.1\n",
    "    m1 = mratio*10**mu\n",
    "    m2 = (1-mratio)*10**mu\n",
    "    phi = np.pi # where equilibrium is\n",
    "    theta1 = np.pi # so they start on opposite sides\n",
    "\n",
    "    andvars = Andoyer.from_Z(j=3, k=1, Z=(e_forced+e_free)/np.sqrt(2), phi=phi, \n",
    "                             Zstar=e_forced/np.sqrt(2), Mstar=Mstar, m1=m1, m2=m2, \n",
    "                             Zcom=e_com/np.sqrt(2), phiZcom=phiecom, theta1=theta1)\n",
    "\n",
    "    try:\n",
    "        sim = andvars.to_Simulation()\n",
    "        sim.integrator=\"whfast\"\n",
    "        #sim.init_megno()\n",
    "        sim.dt = sim.particles[1].P/20\n",
    "        sim.ri_whfast.safe_mode = 0\n",
    "        sim.integrate(deltaT)\n",
    "        sim.t = 0\n",
    "        return sim\n",
    "    except:\n",
    "        print(e_forced, e_free, deltaT, mu)\n",
    "        raise\n",
    "        \n",
    "def run(sim):\n",
    "    \n",
    "    Pratios = np.zeros(Nout)\n",
    "    ps = sim.particles\n",
    "    sim.init_megno()\n",
    "    \n",
    "    for i, time in enumerate(t):\n",
    "        \n",
    "        sim.integrate(time)\n",
    "        Pratios[i] = ps[2].P/ps[1].P\n",
    "        \n",
    "    megno = sim.calculate_megno()\n",
    "    return Pratios,megno\n",
    "        \n",
    "def get_Phinorm(post_array):\n",
    "    np.random.seed(0)\n",
    "    phi, Phinorm = np.zeros(len(post_array)), np.zeros(len(post_array))\n",
    "    # see separatrix note on Dan's ipad\n",
    "    for i, p in tqdm(enumerate(post_array)):\n",
    "        sim = makesim(p, dt=0)\n",
    "        andvars = Andoyer.from_Simulation(sim, j=j, k=k)\n",
    "        Phiprime = andvars.Phiprime\n",
    "        Xstarres = get_Xstarres(k, Phiprime)\n",
    "        Xsep_inner, Xsep_outer = get_Xsep(k, Phiprime)\n",
    "        Phistarres = Xstarres**2/2\n",
    "        Phisep_outer = Xsep_outer**2/2\n",
    "        sim = makesim(p, dt=np.random.random()*2000)\n",
    "        #sim = makesim(p, dt=0.0)\n",
    "        andvars = Andoyer.from_Simulation(sim, j=j, k=k)\n",
    "        Phinorm[i] = (andvars.Phi-Phistarres)/(Phisep_outer - Phistarres)\n",
    "        phi[i] = andvars.phi\n",
    "        \n",
    "    return phi, Phinorm\n",
    "\n",
    "def get_H(andvars):\n",
    "    X = andvars.X\n",
    "    Y = andvars.Y\n",
    "    k = andvars.params['k']\n",
    "    Phiprime = andvars.Phiprime\n",
    "    H = (X**2 + Y**2)**2 - 3*Phiprime/2*(X**2+Y**2)+(X**2+Y**2)**((k-1)/2)*X \n",
    "    return H\n",
    "\n",
    "\n",
    "def get_deltaH(post_array, j, k, i1, i2, pl_b=True):\n",
    "\n",
    "    #j1 = 3\n",
    "    #j2 = 2\n",
    "    #k = 1\n",
    "\n",
    "    deltaH = []\n",
    "\n",
    "    for i,param in tqdm(enumerate(post_array)):\n",
    "        sim = makesim(param[:4],dt=0)\n",
    "        \n",
    "        if pl_b:\n",
    "            m_b = 10**param[-2]\n",
    "            e_b = param[-1]\n",
    "\n",
    "            pomega_b = float(np.random.uniform(0, 2*np.pi, size=1))\n",
    "            sim.add(m=m_b, P=sim.particles[2].P*1.946, e=e_b, pomega=pomega_b, theta=np.pi/2)\n",
    "        \n",
    "        #if both:\n",
    "        andvars = Andoyer.from_Simulation(sim, j=j, k=k, i1=i1, i2=i2)\n",
    "\n",
    "        H = get_H(andvars)\n",
    "        Hsep = get_Hsep(k, andvars.Phiprime)\n",
    "\n",
    "        deltaH.append(H-Hsep)\n",
    "        \n",
    "    return deltaH"
   ]
  },
  {
   "cell_type": "code",
   "execution_count": 3,
   "id": "33b7ccea",
   "metadata": {
    "ExecuteTime": {
     "end_time": "2022-03-04T02:59:49.299200Z",
     "start_time": "2022-03-04T02:59:49.289401Z"
    }
   },
   "outputs": [],
   "source": [
    "rv_post = np.load('stability_posteriors/100k_rv_priors_60mil_lnlike_randomtheta.npy')\n",
    "preds_rv = np.load('stability_posteriors/100k_rv_stability_preds_randomtheta.npy')"
   ]
  },
  {
   "cell_type": "markdown",
   "id": "dc5db7d9",
   "metadata": {},
   "source": [
    "# Checking the lifetimes of the bottom 50th sum percentile.\n",
    "\n",
    "We want to see at what point the sum of the SPOCK probabilities is half of the total SPOCK probability sum, then take a look at their lifetimes and see what the median lifetimes are."
   ]
  },
  {
   "cell_type": "code",
   "execution_count": 4,
   "id": "eda1e264",
   "metadata": {
    "ExecuteTime": {
     "end_time": "2022-03-04T02:59:49.397902Z",
     "start_time": "2022-03-04T02:59:49.306787Z"
    }
   },
   "outputs": [
    {
     "data": {
      "text/plain": [
       "Text(0, 0.5, 'N')"
      ]
     },
     "execution_count": 4,
     "metadata": {},
     "output_type": "execute_result"
    }
   ],
   "source": [
    "plt.figure(figsize=(10,5))\n",
    "hist = plt.hist(preds_rv[preds_rv != 0.0],histtype='step',bins='auto')\n",
    "#plt.axvline(0.02,color='k')\n",
    "plt.xlabel('SPOCK probability')\n",
    "plt.ylabel('N')"
   ]
  },
  {
   "cell_type": "code",
   "execution_count": 5,
   "id": "5eb011a3",
   "metadata": {
    "ExecuteTime": {
     "end_time": "2022-03-04T02:59:49.405514Z",
     "start_time": "2022-03-04T02:59:49.400226Z"
    }
   },
   "outputs": [
    {
     "data": {
      "text/plain": [
       "array([], dtype=int64)"
      ]
     },
     "execution_count": 5,
     "metadata": {},
     "output_type": "execute_result"
    }
   ],
   "source": [
    "np.where(preds_rv == np.sum(preds_rv)/2)[0]"
   ]
  },
  {
   "cell_type": "code",
   "execution_count": 25,
   "id": "688d2de2",
   "metadata": {
    "ExecuteTime": {
     "end_time": "2022-03-04T05:16:54.500158Z",
     "start_time": "2022-03-04T05:16:54.463548Z"
    }
   },
   "outputs": [],
   "source": [
    "rv_stable = rv_post[preds_rv != 0.0]\n",
    "preds_stable = preds_rv[preds_rv != 0.0]"
   ]
  },
  {
   "cell_type": "code",
   "execution_count": 26,
   "id": "ceb5cb7b",
   "metadata": {
    "ExecuteTime": {
     "end_time": "2022-03-04T05:18:25.390384Z",
     "start_time": "2022-03-04T05:17:29.406743Z"
    }
   },
   "outputs": [
    {
     "name": "stdout",
     "output_type": "stream",
     "text": [
      "1454.2277 24454\n"
     ]
    }
   ],
   "source": [
    "thresh_index = []\n",
    "for i,pred in enumerate(preds_stable):\n",
    "    s = np.sum(np.sort(preds_stable)[:i])\n",
    "    if s <= np.sum(preds_stable)/2:\n",
    "        continue\n",
    "    else:\n",
    "        print(s, i)\n",
    "        thresh_index.append(i)\n",
    "        break"
   ]
  },
  {
   "cell_type": "code",
   "execution_count": 64,
   "id": "eaa83a07",
   "metadata": {
    "ExecuteTime": {
     "end_time": "2022-03-04T14:40:59.917421Z",
     "start_time": "2022-03-04T14:40:59.912538Z"
    }
   },
   "outputs": [
    {
     "data": {
      "text/plain": [
       "0.8652301595725861"
      ]
     },
     "execution_count": 64,
     "metadata": {},
     "output_type": "execute_result"
    }
   ],
   "source": [
    "len(np.sort(rv_stable)[:24454])/(len(rv_stable))"
   ]
  },
  {
   "cell_type": "code",
   "execution_count": 10,
   "id": "d39062b5",
   "metadata": {
    "ExecuteTime": {
     "end_time": "2022-03-04T03:00:59.763060Z",
     "start_time": "2022-03-04T03:00:59.756616Z"
    }
   },
   "outputs": [
    {
     "name": "stdout",
     "output_type": "stream",
     "text": [
      "0.08389807\n"
     ]
    }
   ],
   "source": [
    "#half_thresh = np.sort(preds_rv[preds_rv != 0.0])[24260]\n",
    "fifth_thresh = np.sort(preds_rv[preds_rv != 0.0])[17802]\n",
    "\n",
    "print(fifth_thresh)"
   ]
  },
  {
   "cell_type": "code",
   "execution_count": 11,
   "id": "061baa0c",
   "metadata": {
    "ExecuteTime": {
     "end_time": "2022-03-04T03:00:59.928982Z",
     "start_time": "2022-03-04T03:00:59.764773Z"
    }
   },
   "outputs": [
    {
     "data": {
      "image/png": "[encoded data removed]",
      "text/plain": [
       "<Figure size 720x360 with 1 Axes>"
      ]
     },
     "metadata": {
      "needs_background": "light"
     },
     "output_type": "display_data"
    }
   ],
   "source": [
    "%matplotlib inline\n",
    "plt.figure(figsize=(10,5))\n",
    "hist = plt.hist(preds_rv[preds_rv != 0.0],histtype='step',bins='auto')\n",
    "plt.axvline(fifth_thresh,color='k', ls='--')\n",
    "#plt.axvline(half_thresh,color='k', ls='--') # 50th sum percentile\n",
    "plt.xlabel('SPOCK probability')\n",
    "plt.ylabel('N')\n",
    "plt.show()"
   ]
  },
  {
   "cell_type": "code",
   "execution_count": 12,
   "id": "fadadb0b",
   "metadata": {
    "ExecuteTime": {
     "end_time": "2022-03-04T03:00:59.937231Z",
     "start_time": "2022-03-04T03:00:59.931232Z"
    }
   },
   "outputs": [],
   "source": [
    "rv_stable = rv_post[preds_rv != 0.0]\n",
    "preds_stable = preds_rv[preds_rv != 0.0]"
   ]
  },
  {
   "cell_type": "code",
   "execution_count": 14,
   "id": "73f540db",
   "metadata": {
    "ExecuteTime": {
     "end_time": "2022-03-04T03:01:19.052942Z",
     "start_time": "2022-03-04T03:01:19.048640Z"
    }
   },
   "outputs": [
    {
     "name": "stdout",
     "output_type": "stream",
     "text": [
      "17802\n"
     ]
    }
   ],
   "source": [
    "# configs below these thresholds\n",
    "\n",
    "rv_fifth = rv_stable[preds_stable < fifth_thresh]\n",
    "#rv_half = rv_stable[preds_stable < half_thresh]\n",
    "print(len(rv_fifth))"
   ]
  },
  {
   "cell_type": "code",
   "execution_count": 24,
   "id": "3ae01a58",
   "metadata": {
    "ExecuteTime": {
     "end_time": "2022-03-04T04:47:31.571051Z",
     "start_time": "2022-03-04T04:47:31.528302Z"
    }
   },
   "outputs": [],
   "source": [
    "fifth_idx = np.where(preds_stable < fifth_thresh)[0]"
   ]
  },
  {
   "cell_type": "code",
   "execution_count": 16,
   "id": "32d8dace",
   "metadata": {
    "ExecuteTime": {
     "end_time": "2022-03-04T03:01:23.569649Z",
     "start_time": "2022-03-04T03:01:23.520466Z"
    }
   },
   "outputs": [],
   "source": [
    "# doing the fifth first\n",
    "m_b_rv = [param[-2] for param in rv_fifth]\n",
    "e_b_rv = [param[-1] for param in rv_fifth]\n",
    "\n",
    "params_cd = [list(rv_fifth[i][:4]) for i in range(len(rv_fifth))]\n",
    "#deltaTs = [params_rv[i][-2] for i in range(len(params_rv))]\n",
    "\n",
    "#for p1,p2 in zip(params_cd, deltaTs):\n",
    "#    p1.append(p2)\n",
    "    \n",
    "params_b = [[m_b, e_b] for m_b, e_b in zip(m_b_rv, e_b_rv)]"
   ]
  },
  {
   "cell_type": "code",
   "execution_count": 17,
   "id": "7bbc15ea",
   "metadata": {
    "ExecuteTime": {
     "end_time": "2022-03-04T03:01:31.608844Z",
     "start_time": "2022-03-04T03:01:31.599198Z"
    }
   },
   "outputs": [],
   "source": [
    "def makesim2(param_cd, param_b, seed, dt=None):\n",
    "    sim = makesimcd(param_cd[:4], dt=dt)\n",
    "    \n",
    "    m_b = 10**param_b[0]\n",
    "    e_b = param_b[1]\n",
    "    np.random.seed(seed)\n",
    "    pomega_b = float(np.random.uniform(0, 2*np.pi, size=1))\n",
    "    theta_b = float(np.random.uniform(0, 2*np.pi, size=1))\n",
    "    sim.add(m=m_b, P=sim.particles[2].P*1.946, e=e_b, pomega=pomega_b, theta=theta_b)\n",
    "    sim.move_to_com()\n",
    "    return sim\n",
    "\n",
    "def makesimcd(param_cd,dt=None):\n",
    "    e_forced, e_free, mu, deltaT = param_cd\n",
    "    if dt:\n",
    "        deltaT = dt\n",
    "    mratio=0.5\n",
    "    e_com = 0.0\n",
    "    \n",
    "    Mstar = 1.1\n",
    "    m1 = mratio*10**mu\n",
    "    m2 = (1-mratio)*10**mu\n",
    "    phi = np.pi # where equilibrium is\n",
    "    theta1 = np.pi # so they start on opposite sides\n",
    "\n",
    "    andvars = Andoyer.from_Z(j=3, k=1, Z=(e_forced+e_free)/np.sqrt(2), phi=phi, \n",
    "                             Zstar=e_forced/np.sqrt(2), Mstar=Mstar, m1=m1, m2=m2, \n",
    "                             Zcom=e_com/np.sqrt(2), phiZcom=0, theta1=theta1)\n",
    "\n",
    "    try:\n",
    "        sim = andvars.to_Simulation()\n",
    "        sim.integrator=\"whfast\"\n",
    "        sim.dt = sim.particles[1].P/20\n",
    "        sim.ri_whfast.safe_mode = 0\n",
    "        sim.integrate(deltaT)\n",
    "        sim.t = 0\n",
    "        return sim\n",
    "    except:\n",
    "        print(e_forced, e_free, deltaT, mu)\n",
    "        raise"
   ]
  },
  {
   "cell_type": "code",
   "execution_count": 18,
   "id": "85421ff1",
   "metadata": {
    "ExecuteTime": {
     "end_time": "2022-03-04T03:01:34.216668Z",
     "start_time": "2022-03-04T03:01:34.024962Z"
    }
   },
   "outputs": [],
   "source": [
    "deep_regressor = spock.DeepRegressor(cuda=False)"
   ]
  },
  {
   "cell_type": "code",
   "execution_count": 19,
   "id": "defd2b33",
   "metadata": {
    "ExecuteTime": {
     "end_time": "2022-03-04T03:03:58.262745Z",
     "start_time": "2022-03-04T03:01:44.977325Z"
    },
    "scrolled": true
   },
   "outputs": [
    {
     "name": "stderr",
     "output_type": "stream",
     "text": [
      "100%|██████████| 17802/17802 [02:13<00:00, 133.59it/s]\n"
     ]
    }
   ],
   "source": [
    "sim_list = []\n",
    "pbar = tqdm(total=len(rv_fifth))\n",
    "for i,(pcd,pb) in enumerate(zip(params_cd, params_b)):\n",
    "    #if i == 66986:\n",
    "    #    continue\n",
    "    sim = makesim2(pcd, pb, seed=fifth_idx[i])\n",
    "    sim_list.append(sim)\n",
    "    pbar.update()\n",
    "pbar.close()"
   ]
  },
  {
   "cell_type": "code",
   "execution_count": 23,
   "id": "c9e32c79",
   "metadata": {
    "ExecuteTime": {
     "end_time": "2022-03-04T03:19:56.381693Z",
     "start_time": "2022-03-04T03:17:12.176405Z"
    },
    "scrolled": true
   },
   "outputs": [
    {
     "name": "stderr",
     "output_type": "stream",
     "text": [
      " 10%|█         | 1/10 [00:20<03:07, 20.79s/it]"
     ]
    },
    {
     "name": "stdout",
     "output_type": "stream",
     "text": [
      "5.720351133915771\n"
     ]
    },
    {
     "name": "stderr",
     "output_type": "stream",
     "text": [
      "\r",
      " 20%|██        | 2/10 [00:41<02:45, 20.70s/it]"
     ]
    },
    {
     "name": "stdout",
     "output_type": "stream",
     "text": [
      "5.7080162702944595\n",
      "3.280552835417166\n",
      "3.814835618510665\n"
     ]
    },
    {
     "name": "stderr",
     "output_type": "stream",
     "text": [
      "\r",
      " 50%|█████     | 5/10 [01:01<00:53, 10.78s/it]"
     ]
    },
    {
     "name": "stdout",
     "output_type": "stream",
     "text": [
      "7.357065233553821\n"
     ]
    },
    {
     "name": "stderr",
     "output_type": "stream",
     "text": [
      "\r",
      " 60%|██████    | 6/10 [01:22<00:52, 13.24s/it]"
     ]
    },
    {
     "name": "stdout",
     "output_type": "stream",
     "text": [
      "5.923335888371883\n"
     ]
    },
    {
     "name": "stderr",
     "output_type": "stream",
     "text": [
      "\r",
      " 70%|███████   | 7/10 [01:42<00:45, 15.17s/it]"
     ]
    },
    {
     "name": "stdout",
     "output_type": "stream",
     "text": [
      "5.701665554030128\n"
     ]
    },
    {
     "name": "stderr",
     "output_type": "stream",
     "text": [
      "\r",
      " 80%|████████  | 8/10 [02:03<00:33, 16.63s/it]"
     ]
    },
    {
     "name": "stdout",
     "output_type": "stream",
     "text": [
      "5.500130253891548\n"
     ]
    },
    {
     "name": "stderr",
     "output_type": "stream",
     "text": [
      "\r",
      " 90%|█████████ | 9/10 [02:23<00:17, 17.71s/it]"
     ]
    },
    {
     "name": "stdout",
     "output_type": "stream",
     "text": [
      "5.479219247681582\n"
     ]
    },
    {
     "name": "stderr",
     "output_type": "stream",
     "text": [
      "100%|██████████| 10/10 [02:44<00:00, 16.42s/it]"
     ]
    },
    {
     "name": "stdout",
     "output_type": "stream",
     "text": [
      "6.72387196926725\n"
     ]
    },
    {
     "name": "stderr",
     "output_type": "stream",
     "text": [
      "\n"
     ]
    }
   ],
   "source": [
    "for sim in tqdm(sim_list[:10]):\n",
    "    median, lower, upper = deep_regressor.predict_instability_time(sim)\n",
    "    #print(np.log10(median))"
   ]
  },
  {
   "cell_type": "markdown",
   "id": "e0c12eb9",
   "metadata": {},
   "source": [
    "## Reading the lifetimes of belo 50th sum percentile"
   ]
  },
  {
   "cell_type": "code",
   "execution_count": 35,
   "id": "c543dca4",
   "metadata": {
    "ExecuteTime": {
     "end_time": "2022-03-04T14:20:52.072169Z",
     "start_time": "2022-03-04T14:20:51.900713Z"
    },
    "scrolled": true
   },
   "outputs": [],
   "source": [
    "path = '/Users/Helios/gdrive_pu/tamayo_research/lifetime_files/'\n",
    "lifetimes = [np.load(file) for file in glob.iglob(path+'/*.npy', recursive=True)]\n",
    "\n",
    "#lives = np.concatenate(params)\n",
    "#print(len(lives))"
   ]
  },
  {
   "cell_type": "code",
   "execution_count": 43,
   "id": "0096f9a6",
   "metadata": {
    "ExecuteTime": {
     "end_time": "2022-03-04T14:25:30.990423Z",
     "start_time": "2022-03-04T14:25:30.893460Z"
    }
   },
   "outputs": [],
   "source": [
    "median = []\n",
    "lower = []\n",
    "upper = []\n",
    "for file in glob.iglob(path+'/*.npy', recursive=True):\n",
    "    \n",
    "    res = np.load(file)\n",
    "    \n",
    "    median.append(res[0])\n",
    "    lower.append(res[1])\n",
    "    upper.append(res[2])\n",
    "    \n",
    "meds = np.concatenate(median)\n",
    "lows = np.concatenate(lower)\n",
    "ups = np.concatenate(upper)"
   ]
  },
  {
   "cell_type": "code",
   "execution_count": 78,
   "id": "2612ab77",
   "metadata": {
    "ExecuteTime": {
     "end_time": "2022-03-04T15:43:07.951165Z",
     "start_time": "2022-03-04T15:43:07.943656Z"
    }
   },
   "outputs": [],
   "source": [
    "np.save('stability_posteriors/stable_lifetimes/medians.npy', meds)\n",
    "np.save('stability_posteriors/stable_lifetimes/lower_90.npy', lows)\n",
    "np.save('stability_posteriors/stable_lifetimes/upper_90.npy', ups)"
   ]
  },
  {
   "cell_type": "code",
   "execution_count": 54,
   "id": "d68e042f",
   "metadata": {
    "ExecuteTime": {
     "end_time": "2022-03-04T14:31:04.886151Z",
     "start_time": "2022-03-04T14:31:04.881853Z"
    }
   },
   "outputs": [
    {
     "data": {
      "text/plain": [
       "39.8981430658692"
      ]
     },
     "execution_count": 54,
     "metadata": {},
     "output_type": "execute_result"
    }
   ],
   "source": [
    "np.max(meds)/1e9"
   ]
  },
  {
   "cell_type": "code",
   "execution_count": 76,
   "id": "3a8ec214",
   "metadata": {
    "ExecuteTime": {
     "end_time": "2022-03-04T14:47:35.772930Z",
     "start_time": "2022-03-04T14:47:34.893163Z"
    }
   },
   "outputs": [
    {
     "data": {
      "image/png": "[encoded data removed]",
      "text/plain": [
       "<Figure size 720x360 with 1 Axes>"
      ]
     },
     "metadata": {
      "needs_background": "light"
     },
     "output_type": "display_data"
    }
   ],
   "source": [
    "%matplotlib inline\n",
    "plt.figure(figsize=(10,5))\n",
    "plt.hist(meds,histtype='step',bins=10 ** np.linspace(np.log10(1e3), np.log10(1e10), 100),\n",
    "         #density=True, \n",
    "         label='medians')\n",
    "plt.hist(ups,histtype='step',bins=10 ** np.linspace(np.log10(1e3), np.log10(1e10), 100),\n",
    "         #density=True, \n",
    "         label='upper')\n",
    "plt.hist(lows,histtype='step',bins=10 ** np.linspace(np.log10(1e3), np.log10(1e10), 100),\n",
    "         #density=True, \n",
    "         label='lower')\n",
    "#plt.axvline(fifth_thresh,color='k', ls='--')\n",
    "#plt.axvline(half_thresh,color='k', ls='--') # 50th sum percentile\n",
    "plt.xlabel('median lifetimes (n orbits)',fontsize=20)\n",
    "plt.xscale('log')\n",
    "plt.yscale('log')\n",
    "plt.ylabel('N',fontsize=20)\n",
    "plt.legend()\n",
    "plt.tick_params(axis='y', labelsize=20)\n",
    "plt.tick_params(axis='x', labelsize=20)\n",
    "plt.show()"
   ]
  },
  {
   "cell_type": "code",
   "execution_count": 60,
   "id": "34bc87a2",
   "metadata": {
    "ExecuteTime": {
     "end_time": "2022-03-04T14:33:44.703255Z",
     "start_time": "2022-03-04T14:33:44.569162Z"
    }
   },
   "outputs": [
    {
     "data": {
      "image/png": "[encoded data removed]",
      "text/plain": [
       "<Figure size 720x360 with 1 Axes>"
      ]
     },
     "metadata": {
      "needs_background": "light"
     },
     "output_type": "display_data"
    }
   ],
   "source": [
    "%matplotlib inline\n",
    "plt.figure(figsize=(10,5))\n",
    "hist = plt.hist(np.log10(meds),histtype='step',bins='auto')\n",
    "#plt.axvline(fifth_thresh,color='k', ls='--')\n",
    "#plt.axvline(half_thresh,color='k', ls='--') # 50th sum percentile\n",
    "plt.xlabel('median lifetimes (n orbits)',fontsize=20)\n",
    "#plt.xscale('log')\n",
    "plt.ylabel('N',fontsize=20)\n",
    "\n",
    "plt.tick_params(axis='y', labelsize=20)\n",
    "plt.tick_params(axis='x', labelsize=20)\n",
    "plt.show()"
   ]
  },
  {
   "cell_type": "code",
   "execution_count": 62,
   "id": "47c887bd",
   "metadata": {
    "ExecuteTime": {
     "end_time": "2022-03-04T14:36:45.160444Z",
     "start_time": "2022-03-04T14:36:45.156312Z"
    }
   },
   "outputs": [
    {
     "data": {
      "text/plain": [
       "0.8980534881818926"
      ]
     },
     "execution_count": 62,
     "metadata": {},
     "output_type": "execute_result"
    }
   ],
   "source": [
    "len(meds[meds < 1e7])/len(meds)"
   ]
  },
  {
   "cell_type": "code",
   "execution_count": null,
   "id": "7290dff2",
   "metadata": {},
   "outputs": [],
   "source": []
  },
  {
   "cell_type": "code",
   "execution_count": null,
   "id": "c9558a07",
   "metadata": {},
   "outputs": [],
   "source": []
  },
  {
   "cell_type": "code",
   "execution_count": null,
   "id": "f5c3a2c1",
   "metadata": {},
   "outputs": [],
   "source": []
  },
  {
   "cell_type": "code",
   "execution_count": null,
   "id": "222ea23f",
   "metadata": {},
   "outputs": [],
   "source": []
  },
  {
   "cell_type": "code",
   "execution_count": null,
   "id": "c755f71c",
   "metadata": {
    "ExecuteTime": {
     "end_time": "2022-03-01T13:31:17.903765Z",
     "start_time": "2022-03-01T13:31:17.901247Z"
    }
   },
   "outputs": [],
   "source": [
    "n = hist[0]\n",
    "edges = hist[1]"
   ]
  },
  {
   "cell_type": "code",
   "execution_count": null,
   "id": "6589380d",
   "metadata": {
    "ExecuteTime": {
     "end_time": "2022-03-01T13:33:00.077587Z",
     "start_time": "2022-03-01T13:33:00.073551Z"
    }
   },
   "outputs": [],
   "source": [
    "max_prob = edges[np.where(n == np.max(n))]\n",
    "print(max_prob)"
   ]
  },
  {
   "cell_type": "code",
   "execution_count": null,
   "id": "a81efdd5",
   "metadata": {
    "ExecuteTime": {
     "end_time": "2022-02-28T15:57:56.385406Z",
     "start_time": "2022-02-28T15:57:56.374975Z"
    }
   },
   "outputs": [],
   "source": [
    "deltaH_cd = np.load('deltaH_cd_randomtheta.npy')\n",
    "deltaH_db = np.load('deltaH_db_randomtheta.npy')\n",
    "\n",
    "phi_rv = np.load('stability_posteriors/phi_rv_randomtheta.npy')\n",
    "Phinorm_rv = np.load('stability_posteriors/Phinorm_rv_randomtheta.npy')"
   ]
  },
  {
   "cell_type": "code",
   "execution_count": null,
   "id": "769b86b8",
   "metadata": {
    "ExecuteTime": {
     "end_time": "2022-02-28T15:57:56.787748Z",
     "start_time": "2022-02-28T15:57:56.775294Z"
    }
   },
   "outputs": [],
   "source": [
    "rv_inres = np.array(rv_post)[(np.array(deltaH_cd) < 0.0) & (preds_rv != 0.0)] \n",
    "rv_outres = np.array(rv_post)[(np.array(deltaH_cd) >= 0.0) | np.isnan(np.array(deltaH_cd))]\n",
    "\n",
    "print(len(rv_inres))\n",
    "print(len(rv_outres))"
   ]
  },
  {
   "cell_type": "code",
   "execution_count": null,
   "id": "2a6ac380",
   "metadata": {
    "ExecuteTime": {
     "end_time": "2022-02-28T17:41:06.045560Z",
     "start_time": "2022-02-28T17:41:06.035961Z"
    }
   },
   "outputs": [],
   "source": [
    "len(np.array(rv_post)[(np.array(deltaH_cd) < 0.0)])/len(rv_post)"
   ]
  },
  {
   "cell_type": "code",
   "execution_count": null,
   "id": "a6c5819a",
   "metadata": {
    "ExecuteTime": {
     "end_time": "2022-02-28T17:41:24.657814Z",
     "start_time": "2022-02-28T17:41:24.651863Z"
    }
   },
   "outputs": [],
   "source": [
    "len(rv_inres)/len(rv_post)"
   ]
  },
  {
   "cell_type": "code",
   "execution_count": null,
   "id": "d6f4a290",
   "metadata": {
    "ExecuteTime": {
     "end_time": "2022-02-28T15:57:57.390583Z",
     "start_time": "2022-02-28T15:57:57.386766Z"
    }
   },
   "outputs": [],
   "source": [
    "rv_inres[0]"
   ]
  },
  {
   "cell_type": "code",
   "execution_count": null,
   "id": "d97d4b91",
   "metadata": {
    "ExecuteTime": {
     "end_time": "2022-02-28T15:57:11.643738Z",
     "start_time": "2022-02-28T15:57:11.634342Z"
    }
   },
   "outputs": [],
   "source": [
    "efrees = np.array([param[1] for param in rv_inres])\n",
    "mus = np.array([param[2] for param in rv_inres])"
   ]
  },
  {
   "cell_type": "code",
   "execution_count": null,
   "id": "5f82f34b",
   "metadata": {
    "ExecuteTime": {
     "end_time": "2022-02-28T20:22:33.688466Z",
     "start_time": "2022-02-28T20:22:33.683729Z"
    }
   },
   "outputs": [],
   "source": [
    "test = rv_inres[mus == np.max(mus)][0]"
   ]
  },
  {
   "cell_type": "code",
   "execution_count": null,
   "id": "b3b4b8a2",
   "metadata": {
    "ExecuteTime": {
     "end_time": "2022-02-28T20:22:39.535604Z",
     "start_time": "2022-02-28T20:22:39.531615Z"
    }
   },
   "outputs": [],
   "source": [
    "test"
   ]
  },
  {
   "cell_type": "code",
   "execution_count": null,
   "id": "0558f2af",
   "metadata": {
    "ExecuteTime": {
     "end_time": "2022-02-28T00:47:45.100978Z",
     "start_time": "2022-02-28T00:47:45.094289Z"
    }
   },
   "outputs": [],
   "source": [
    "test2 = rv_inres[mus == np.median(mus)][0]\n",
    "test2"
   ]
  },
  {
   "cell_type": "code",
   "execution_count": null,
   "id": "c2299c9b",
   "metadata": {
    "ExecuteTime": {
     "end_time": "2022-02-28T00:47:52.634231Z",
     "start_time": "2022-02-28T00:47:50.486135Z"
    }
   },
   "outputs": [],
   "source": [
    "fig = plt.figure(1,figsize=(7*3.4, 2.5*3.4*3/4.))\n",
    "ax = fig.add_subplot(111)\n",
    "time_grid = np.linspace(t_K2, t_tess, Nout)\n",
    "\n",
    "size=100\n",
    "\n",
    "c_efree = np.logspace(-4,-1.5, 100)\n",
    "#c_mu2 = np.array([(10**param[-2])/9.54e-4 for param in rv_inres_deltaT[:size]])\n",
    "norm = mpl.colors.Normalize(vmin=c_efree.min(), vmax=c_efree.max())\n",
    "#norm2 = mpl.colors.Normalize(vmin=c_mu2.min(), vmax=c_mu2.max())\n",
    "cmap = mpl.cm.ScalarMappable(norm=norm, cmap=mpl.cm.magma)\n",
    "#cmap2 = mpl.cm.ScalarMappable(norm=norm2, cmap=mpl.cm.viridis)\n",
    "cmap.set_array([])\n",
    "#cmap2.set_array([])\n",
    "\n",
    "for i,ef in tqdm(enumerate(c_efree)):\n",
    "#    if i == 0:\n",
    "#        sim = makesim(test[:4])\n",
    "#        period_ratios = run(sim) \n",
    "#        ax.plot(time_grid,period_ratios,\n",
    "#             alpha=1.0,zorder=0, c='k',lw=5.0,\n",
    "#             rasterized=True)\n",
    "#    else:\n",
    "    test2[1] = ef\n",
    "\n",
    "    sim = makesim(test2[:4])\n",
    "    period_ratios = run(sim)\n",
    "\n",
    "    ax.plot(time_grid,period_ratios,\n",
    "         alpha=0.5,zorder=1, c=cmap.to_rgba(c_efree[i]),\n",
    "         rasterized=True)\n",
    "\n",
    "ax.errorbar(time_grid[[0, -1]],obs,yerr=obs_err, fmt='o',ms=7, c='r',ecolor='b',zorder=1,capsize=5, capthick=2)\n",
    "ax.set_ylabel('Period ratio [P$_d$/P$_c$]',fontsize=30)\n",
    "#ax.set_ylim(1.493, 1.510)\n",
    "ax.set_xlabel('Time [BKJD - 2454833]',fontsize=30)\n",
    "\n",
    "ax.tick_params(axis='y', labelsize=30)\n",
    "ax.tick_params(axis='x', labelsize=30)\n",
    "\n",
    "t_cbar = fig.colorbar(cmap)\n",
    "t_cbar.set_label(r'$e_{\\rm{free}}$', fontsize=25)\n",
    "t_cbar.ax.tick_params(labelsize=30)\n",
    "plt.show()\n",
    "#plt.savefig('figures/Figure2b.pdf',dpi=300,bbox_inches='tight',padding=0)"
   ]
  },
  {
   "cell_type": "code",
   "execution_count": null,
   "id": "1ecc9bb4",
   "metadata": {
    "ExecuteTime": {
     "end_time": "2022-03-01T00:25:16.886921Z",
     "start_time": "2022-03-01T00:25:16.880120Z"
    }
   },
   "outputs": [],
   "source": [
    "c_efree = np.logspace(-6,-1.3, 300)\n",
    "test2 = test.copy()\n",
    "zfree_params = []\n",
    "for i,ef in enumerate(c_efree):\n",
    "    test3 = test2.copy()\n",
    "    test3[1] = ef\n",
    "    zfree_params.append(test3[:4])"
   ]
  },
  {
   "cell_type": "code",
   "execution_count": null,
   "id": "2c1dd0eb",
   "metadata": {
    "ExecuteTime": {
     "end_time": "2022-03-01T18:10:31.630317Z",
     "start_time": "2022-03-01T18:10:24.425462Z"
    }
   },
   "outputs": [],
   "source": [
    "%matplotlib inline\n",
    "fig = plt.figure(1,figsize=(4*3.4, 4.0*3.4*3/4.)\n",
    "                         #gridspec_kw={'width_ratios': [1, 0.80]}\n",
    "                       )\n",
    "ax1 = fig.add_subplot(111)\n",
    "#ax2 = axes[1]\n",
    "\n",
    "phis = np.linspace(0, 2*np.pi, 1000)\n",
    "sep_upper = np.sin(phis/2)\n",
    "ax1.plot(phis, sep_upper, 'k')\n",
    "ax1.plot(phis, -sep_upper, 'k')\n",
    "ax1.set_xlim([0,2*np.pi])\n",
    "ax1.set_xlabel('Resonant angle $\\phi$',fontsize=30)\n",
    "ax1.set_ylabel('Normalized period ratio deviation',fontsize=30)\n",
    "#cb = ax.scatter(phi, Phinorm, c=spock_prob, alpha=spock_prob, s=20)\n",
    "    \n",
    "j = 3\n",
    "k = 1\n",
    "catseye_test = np.array(zfree_params)\n",
    "\n",
    "phi_test, Phinorm_test = get_Phinorm(catseye_test)\n",
    "\n",
    "\n",
    "\n",
    "cb=ax1.scatter(phi_test, Phinorm_test, \n",
    "              c=c_efree,norm=colors.LogNorm(vmin=c_efree.min(), vmax=c_efree.max()),\n",
    "              s=10, rasterized=True,cmap='viridis')\n",
    "ax1.axhline(0.0)\n",
    "#cb=ax1.scatter(phi_rv, Phinorm_rv, \n",
    "#              c=[param[2] for param in rv_inres], \n",
    "#              s=10, rasterized=True)\n",
    "\n",
    "cbar1 = fig.colorbar(cb, ax=ax1)\n",
    "cbar1.set_label(r'$e_{\\rm{free}}$', fontsize=30)\n",
    "cbar1.ax.tick_params(labelsize=30)\n",
    "\n",
    "ax1.minorticks_on()\n",
    "\n",
    "ax1.tick_params(axis='y', labelsize=30)\n",
    "ax1.tick_params(axis='x', labelsize=30)\n",
    "\n",
    "#plt.tight_layout()\n",
    "#plt.subplots_adjust(wspace=0.07)\n",
    "plt.show()\n",
    "#plt.savefig('figures/Figure2_stability.pdf',dpi=300,bbox_inches='tight',padding=0)"
   ]
  },
  {
   "cell_type": "code",
   "execution_count": null,
   "id": "6ac345f1",
   "metadata": {
    "ExecuteTime": {
     "end_time": "2022-02-28T22:55:42.410395Z",
     "start_time": "2022-02-28T22:55:37.489869Z"
    }
   },
   "outputs": [],
   "source": [
    "fig = plt.figure(1,figsize=(7*3.4, 2.5*3.4*3/4.))\n",
    "ax = fig.add_subplot(111)\n",
    "time_grid = np.linspace(t_K2, t_tess, Nout)\n",
    "\n",
    "#size=100\n",
    "\n",
    "#c_efree = np.logspace(-4,-1.5, 100)\n",
    "#c_mu2 = np.array([(10**param[-2])/9.54e-4 for param in rv_inres_deltaT[:size]])\n",
    "norm = mpl.colors.Normalize(vmin=c_efree.min(), vmax=c_efree.max())\n",
    "#norm2 = mpl.colors.Normalize(vmin=c_mu2.min(), vmax=c_mu2.max())\n",
    "cmap = mpl.cm.ScalarMappable(norm=norm, cmap=mpl.cm.viridis)\n",
    "#cmap2 = mpl.cm.ScalarMappable(norm=norm2, cmap=mpl.cm.viridis)\n",
    "cmap.set_array([])\n",
    "#cmap2.set_array([])\n",
    "\n",
    "for i,param in tqdm(enumerate(zfree_params)):\n",
    "    #test[1] = ef\n",
    "\n",
    "    sim = makesim(param)\n",
    "    #megno = sim.calculate_megno()\n",
    "    period_ratios, megno = run(sim)\n",
    "\n",
    "    ax.plot(time_grid,period_ratios,\n",
    "         alpha=0.5,zorder=1, c=cmap.to_rgba(c_efree[i]),\n",
    "            #norm=colors.LogNorm(vmin=c_efree.min(), vmax=c_efree.max()),\n",
    "         rasterized=True)\n",
    "\n",
    "ax.errorbar(time_grid[[0, -1]],obs,yerr=obs_err, fmt='o',ms=7, c='r',ecolor='b',zorder=1,capsize=5, capthick=2)\n",
    "ax.set_ylabel('Period ratio [P$_d$/P$_c$]',fontsize=30)\n",
    "#ax.set_ylim(1.493, 1.510)\n",
    "ax.set_xlabel('Time [BKJD - 2454833]',fontsize=30)\n",
    "\n",
    "ax.tick_params(axis='y', labelsize=30)\n",
    "ax.tick_params(axis='x', labelsize=30)\n",
    "\n",
    "t_cbar = fig.colorbar(cmap)\n",
    "t_cbar.set_label(r'$e_{\\rm{free}}$', fontsize=25)\n",
    "t_cbar.ax.tick_params(labelsize=30)\n",
    "plt.show()\n",
    "#plt.savefig('figures/Figure2b.pdf',dpi=300,bbox_inches='tight',padding=0)"
   ]
  },
  {
   "cell_type": "code",
   "execution_count": null,
   "id": "54c61234",
   "metadata": {
    "ExecuteTime": {
     "end_time": "2022-03-01T02:07:00.022751Z",
     "start_time": "2022-03-01T02:06:58.288191Z"
    }
   },
   "outputs": [],
   "source": [
    "sim_list = [makesim(param) for param in zfree_params]"
   ]
  },
  {
   "cell_type": "code",
   "execution_count": null,
   "id": "8c71e6ee",
   "metadata": {
    "ExecuteTime": {
     "end_time": "2022-03-01T02:07:04.734277Z",
     "start_time": "2022-03-01T02:07:00.545651Z"
    }
   },
   "outputs": [],
   "source": [
    "megno_test = np.array([run(sim)[1] for sim in sim_list])"
   ]
  },
  {
   "cell_type": "code",
   "execution_count": null,
   "id": "7431444d",
   "metadata": {
    "ExecuteTime": {
     "end_time": "2022-03-01T02:07:05.232952Z",
     "start_time": "2022-03-01T02:07:05.225250Z"
    }
   },
   "outputs": [],
   "source": [
    "megno_test[megno_test >= 2.0]"
   ]
  },
  {
   "cell_type": "code",
   "execution_count": null,
   "id": "995df6af",
   "metadata": {
    "ExecuteTime": {
     "end_time": "2022-03-01T13:09:18.083457Z",
     "start_time": "2022-03-01T13:09:17.330870Z"
    }
   },
   "outputs": [],
   "source": [
    "%matplotlib inline\n",
    "fig = plt.figure(1,figsize=(7*3.4, 4.0*3.4*3/4.)\n",
    "                         #gridspec_kw={'width_ratios': [1, 0.80]}\n",
    "                       )\n",
    "ax1 = fig.add_subplot(121)\n",
    "ax2 = fig.add_subplot(122)\n",
    "\n",
    "phis = np.linspace(0, 2*np.pi, 1000)\n",
    "sep_upper = np.sin(phis/2)\n",
    "ax1.plot(phis, sep_upper, 'k')\n",
    "ax1.plot(phis, -sep_upper, 'k')\n",
    "ax1.set_xlim([0,2*np.pi])\n",
    "ax1.set_xlabel('Resonant angle $\\phi$',fontsize=30)\n",
    "ax1.set_ylabel('Normalized period ratio deviation',fontsize=30)\n",
    "#cb = ax.scatter(phi, Phinorm, c=spock_prob, alpha=spock_prob, s=20)\n",
    "    \n",
    "#j = 3\n",
    "#k = 1\n",
    "#catseye_test = np.array(zfree_params)\n",
    "\n",
    "#phi_test, Phinorm_test = get_Phinorm(catseye_test)\n",
    "\n",
    "ax1.scatter(phi_test[megno_test < 2.0], Phinorm_test[megno_test < 2.0], \n",
    "              c='k',\n",
    "              s=30, rasterized=True, label=\"MEGNO $< 2.0$\")\n",
    "ax1.scatter(phi_test[megno_test >= 2.0], Phinorm_test[megno_test >= 2.0], \n",
    "              c='r',\n",
    "              s=30, rasterized=True, label=\"MEGNO $\\geq 2.0$\")\n",
    "\n",
    "#cbar1 = fig.colorbar(cb, ax=ax1)\n",
    "#cbar1.set_label(r'$e_{\\rm{free}}$', fontsize=30)\n",
    "#cbar1.ax.tick_params(labelsize=30)\n",
    "ax1.legend()\n",
    "\n",
    "ax1.minorticks_on()\n",
    "\n",
    "ax1.tick_params(axis='y', labelsize=30)\n",
    "ax1.tick_params(axis='x', labelsize=30)\n",
    "ax1.set_ylim(-1.2, 1.2)\n",
    "\n",
    "ax2.plot(phis, sep_upper, 'k')\n",
    "ax2.plot(phis, -sep_upper, 'k')\n",
    "ax2.set_xlim([0,2*np.pi])\n",
    "ax2.set_xlabel('Resonant angle $\\phi$',fontsize=30)\n",
    "#ax2.set_ylabel('Normalized period ratio deviation',fontsize=30)\n",
    "#cb = ax.scatter(phi, Phinorm, c=spock_prob, alpha=spock_prob, s=20)\n",
    "    \n",
    "#j = 3\n",
    "#k = 1\n",
    "#catseye_test = np.array(zfree_params)\n",
    "\n",
    "#phi_test, Phinorm_test = get_Phinorm(catseye_test)\n",
    "\n",
    "ax2.scatter(phi_rv, Phinorm_rv, alpha=0.1,\n",
    "              c='k',\n",
    "              s=30, rasterized=True)\n",
    "\n",
    "ax2.scatter(phi_test[megno_test < 2.0], Phinorm_test[megno_test < 2.0], \n",
    "              c='b',\n",
    "              s=40, rasterized=True, label=\"MEGNO $< 2.0$\")\n",
    "ax2.scatter(phi_test[megno_test >= 2.0], Phinorm_test[megno_test >= 2.0], \n",
    "              c='r',\n",
    "              s=40, rasterized=True, label=\"MEGNO $\\geq 2.0$\")\n",
    "\n",
    "u1 = np.pi\n",
    "v1 = -0.02\n",
    "a1 = 0.58\n",
    "b1 = 0.22\n",
    "theta = np.linspace(0, 2*np.pi, len(phi_rv))\n",
    "#ax2.plot(u1+a1*np.cos(theta),v1+b1*np.sin(theta), c='g', lw=3)\n",
    "\n",
    "u2 = np.pi\n",
    "v2 = -0.02\n",
    "a2 = 1.55*0.58\n",
    "b2 = 1.55*0.19\n",
    "theta = np.linspace(0, 2*np.pi, len(phi_rv))\n",
    "#ax2.plot(u2+a2*np.cos(theta),v2+b2*np.sin(theta), c='g', lw=3)\n",
    "ax2.axhline(b2, lw=2)\n",
    "ax2.axhline(b1, lw=2)\n",
    "ax2.axvline(np.pi - a1, lw=2)\n",
    "ax2.axvline(np.pi + a1, lw=2)\n",
    "\n",
    "ax2.minorticks_on()\n",
    "\n",
    "ax2.tick_params(axis='y', labelsize=30)\n",
    "ax2.tick_params(axis='x', labelsize=30)\n",
    "ax2.set_ylim(-1.2, 1.2)\n",
    "\n",
    "#plt.tight_layout()\n",
    "#plt.subplots_adjust(wspace=0.07)\n",
    "plt.show()\n",
    "#plt.savefig('figures/Figure2_stability.pdf',dpi=300,bbox_inches='tight',padding=0)"
   ]
  },
  {
   "cell_type": "code",
   "execution_count": null,
   "id": "a3413b93",
   "metadata": {
    "ExecuteTime": {
     "end_time": "2022-03-01T03:17:05.231313Z",
     "start_time": "2022-03-01T03:17:05.225075Z"
    }
   },
   "outputs": [],
   "source": [
    "lower_phi, lower_phinorm = u1+a1*np.cos(theta),v1+b1*np.sin(theta)\n",
    "upper_phi, upper_phinorm = u2+a2*np.cos(theta),v2+b2*np.sin(theta)"
   ]
  },
  {
   "cell_type": "code",
   "execution_count": null,
   "id": "b44cd514",
   "metadata": {
    "ExecuteTime": {
     "end_time": "2022-03-01T03:35:12.552967Z",
     "start_time": "2022-03-01T03:35:12.546555Z"
    }
   },
   "outputs": [],
   "source": [
    "# the first one is also stable but we wanna know how many unstable we have in the region\n",
    "rv_inres2 = rv_post[deltaH_cd < 0.0]\n",
    "preds_inres = preds_rv[deltaH_cd < 0.0]\n",
    "print(len(rv_inres2), len(preds_inres))"
   ]
  },
  {
   "cell_type": "code",
   "execution_count": null,
   "id": "56a3792c",
   "metadata": {
    "ExecuteTime": {
     "end_time": "2022-03-01T03:52:04.686218Z",
     "start_time": "2022-03-01T03:52:04.681275Z"
    }
   },
   "outputs": [],
   "source": [
    "empty_region_test = rv_inres2[(Phinorm_rv > b1) & (phi_rv > np.pi - a1) &\\\n",
    "                              (Phinorm_rv < b2) & (phi_rv < np.pi + a2)]\n",
    "\n",
    "empty_region_probs = preds_inres[(Phinorm_rv > b1) & (phi_rv > np.pi - a1) &\\\n",
    "                              (Phinorm_rv < b2) & (phi_rv < np.pi + a2)]\n",
    "\n",
    "print(len(empty_region_test),len(empty_region_probs))"
   ]
  },
  {
   "cell_type": "code",
   "execution_count": null,
   "id": "077005db",
   "metadata": {
    "ExecuteTime": {
     "end_time": "2022-03-01T03:52:05.444794Z",
     "start_time": "2022-03-01T03:52:05.440542Z"
    }
   },
   "outputs": [],
   "source": [
    "len(empty_region_test[empty_region_probs == 0.0])/len(empty_region_test)"
   ]
  },
  {
   "cell_type": "code",
   "execution_count": null,
   "id": "0f10083c",
   "metadata": {
    "ExecuteTime": {
     "end_time": "2022-03-01T13:11:36.147296Z",
     "start_time": "2022-03-01T13:11:35.965305Z"
    }
   },
   "outputs": [],
   "source": [
    "plt.hist(empty_region_probs[empty_region_probs != 0.0],histtype='step',bins=50)\n",
    "plt.xlabel('non-zero SPOCK probabilities in empty region')\n",
    "plt.show()"
   ]
  },
  {
   "cell_type": "code",
   "execution_count": null,
   "id": "82973012",
   "metadata": {
    "ExecuteTime": {
     "end_time": "2022-03-01T04:10:04.657768Z",
     "start_time": "2022-03-01T04:10:01.654643Z"
    }
   },
   "outputs": [],
   "source": [
    "sim_list_b = []\n",
    "for i, param in enumerate(empty_region_test):\n",
    "    sim = makesim(param[:4])\n",
    "    pomega_b = float(np.random.uniform(0, 2*np.pi, size=1))\n",
    "    theta_b = float(np.random.uniform(0, 2*np.pi, size=1))\n",
    "    sim.add(m = 10**param[-2], P=sim.particles[2].P*1.946, e=param[-1], pomega=pomega_b, theta=theta_b)\n",
    "    sim_list_b.append(sim)"
   ]
  },
  {
   "cell_type": "code",
   "execution_count": null,
   "id": "8d54b869",
   "metadata": {
    "ExecuteTime": {
     "end_time": "2022-03-01T04:10:27.808965Z",
     "start_time": "2022-03-01T04:10:27.261133Z"
    }
   },
   "outputs": [],
   "source": [
    "model = FeatureClassifier()\n",
    "model.predict_stable(sim_list_b[0])"
   ]
  },
  {
   "cell_type": "code",
   "execution_count": null,
   "id": "3c3e5675",
   "metadata": {
    "ExecuteTime": {
     "end_time": "2022-03-01T04:18:27.054536Z",
     "start_time": "2022-03-01T04:18:26.992485Z"
    }
   },
   "outputs": [],
   "source": [
    "model.generate_features(sim_list_b[0])"
   ]
  },
  {
   "cell_type": "code",
   "execution_count": null,
   "id": "21cd139a",
   "metadata": {
    "ExecuteTime": {
     "end_time": "2022-03-01T04:30:35.321999Z",
     "start_time": "2022-03-01T04:29:12.342641Z"
    }
   },
   "outputs": [],
   "source": [
    "megno = np.array([model.generate_features(sim)[0][0]['MEGNO'] for sim in sim_list_b])"
   ]
  },
  {
   "cell_type": "code",
   "execution_count": null,
   "id": "935412bf",
   "metadata": {
    "ExecuteTime": {
     "end_time": "2022-03-01T04:32:25.495968Z",
     "start_time": "2022-03-01T04:32:25.490790Z"
    }
   },
   "outputs": [],
   "source": [
    "np.sum(~np.isnan(megno))"
   ]
  },
  {
   "cell_type": "code",
   "execution_count": null,
   "id": "65379d2b",
   "metadata": {
    "ExecuteTime": {
     "end_time": "2022-03-01T04:40:05.713759Z",
     "start_time": "2022-03-01T04:40:05.707858Z"
    }
   },
   "outputs": [],
   "source": [
    "megno_ = megno[np.where(~np.isnan(megno))[0]]\n",
    "len(megno_[megno_ > 2.5])/len(megno_)"
   ]
  },
  {
   "cell_type": "code",
   "execution_count": null,
   "id": "91ac2f7d",
   "metadata": {
    "ExecuteTime": {
     "end_time": "2022-03-01T13:14:27.328651Z",
     "start_time": "2022-03-01T13:14:27.135739Z"
    }
   },
   "outputs": [],
   "source": [
    "plt.figure(figsize=(10,8))\n",
    "plt.scatter(empty_region_probs[np.where(~np.isnan(megno))[0]], megno[np.where(~np.isnan(megno))[0]])\n",
    "plt.axhline(y=2.0, c='r')\n",
    "plt.xlabel('SPOCK prob.')\n",
    "plt.ylabel('MEGNO SPOCK feature')\n",
    "#plt.yscale('log')"
   ]
  },
  {
   "cell_type": "code",
   "execution_count": null,
   "id": "ff0974cf",
   "metadata": {
    "ExecuteTime": {
     "end_time": "2022-03-01T04:46:46.417074Z",
     "start_time": "2022-03-01T04:44:01.176804Z"
    }
   },
   "outputs": [],
   "source": [
    "sim_list_c = []\n",
    "for i, param in tqdm(enumerate(rv_inres2)):\n",
    "    sim = makesim(param[:4])\n",
    "    pomega_b = float(np.random.uniform(0, 2*np.pi, size=1))\n",
    "    theta_b = float(np.random.uniform(0, 2*np.pi, size=1))\n",
    "    sim.add(m = 10**param[-2], P=sim.particles[2].P*1.946, e=param[-1], pomega=pomega_b, theta=theta_b)\n",
    "    sim_list_c.append(sim)"
   ]
  },
  {
   "cell_type": "code",
   "execution_count": null,
   "id": "f04b8b04",
   "metadata": {
    "ExecuteTime": {
     "end_time": "2022-03-01T05:52:02.301688Z",
     "start_time": "2022-03-01T04:46:53.748373Z"
    }
   },
   "outputs": [],
   "source": [
    "megno_arr = np.array([model.generate_features(sim)[0][0]['MEGNO'] for sim in tqdm(sim_list_c)])"
   ]
  },
  {
   "cell_type": "code",
   "execution_count": null,
   "id": "e7bf5f5e",
   "metadata": {
    "ExecuteTime": {
     "end_time": "2022-03-01T13:00:51.270115Z",
     "start_time": "2022-03-01T13:00:51.266223Z"
    }
   },
   "outputs": [],
   "source": [
    "len(megno_arr)"
   ]
  },
  {
   "cell_type": "code",
   "execution_count": null,
   "id": "5c4b6f72",
   "metadata": {
    "ExecuteTime": {
     "end_time": "2022-03-01T13:01:39.870340Z",
     "start_time": "2022-03-01T13:01:39.864706Z"
    }
   },
   "outputs": [],
   "source": [
    "megno_arr"
   ]
  },
  {
   "cell_type": "code",
   "execution_count": null,
   "id": "6d7c61bb",
   "metadata": {
    "ExecuteTime": {
     "end_time": "2022-03-01T12:59:25.454287Z",
     "start_time": "2022-03-01T12:59:25.449663Z"
    }
   },
   "outputs": [],
   "source": [
    "len(np.where(~np.isnan(megno_arr))[0])"
   ]
  },
  {
   "cell_type": "code",
   "execution_count": null,
   "id": "1fb85939",
   "metadata": {
    "ExecuteTime": {
     "end_time": "2022-03-01T13:00:22.164553Z",
     "start_time": "2022-03-01T13:00:22.160361Z"
    }
   },
   "outputs": [],
   "source": [
    "len(megno_arr[megno_arr > 2.5])"
   ]
  },
  {
   "cell_type": "code",
   "execution_count": null,
   "id": "8fe42e07",
   "metadata": {
    "ExecuteTime": {
     "end_time": "2022-03-01T13:00:37.901556Z",
     "start_time": "2022-03-01T13:00:37.897331Z"
    }
   },
   "outputs": [],
   "source": [
    "len(megno_arr[megno_arr <= 2.5])"
   ]
  },
  {
   "cell_type": "code",
   "execution_count": null,
   "id": "2dfeecb3",
   "metadata": {
    "ExecuteTime": {
     "end_time": "2022-03-01T13:20:36.690822Z",
     "start_time": "2022-03-01T13:20:36.177600Z"
    }
   },
   "outputs": [],
   "source": [
    "%matplotlib inline\n",
    "fig = plt.figure(1,figsize=(4.0*3.4, 4.0*3.4*3/4.)\n",
    "                         #gridspec_kw={'width_ratios': [1, 0.80]}\n",
    "                       )\n",
    "#ax1 = fig.add_subplot(121)\n",
    "ax2 = fig.add_subplot(111)\n",
    "\n",
    "phis = np.linspace(0, 2*np.pi, 1000)\n",
    "sep_upper = np.sin(phis/2)\n",
    "\n",
    "ax2.plot(phis, sep_upper, 'k')\n",
    "ax2.plot(phis, -sep_upper, 'k')\n",
    "ax2.set_xlim([0,2*np.pi])\n",
    "ax2.set_xlabel('Resonant angle $\\phi$',fontsize=30)\n",
    "ax2.set_xlabel('Resonant angle $\\phi$',fontsize=30)\n",
    "#ax2.set_ylabel('Normalized period ratio deviation',fontsize=30)\n",
    "#cb = ax.scatter(phi, Phinorm, c=spock_prob, alpha=spock_prob, s=20)\n",
    "    \n",
    "#j = 3\n",
    "#k = 1\n",
    "#catseye_test = np.array(zfree_params)\n",
    "\n",
    "#phi_test, Phinorm_test = get_Phinorm(catseye_test)\n",
    "megno_arr_ = megno_arr[np.where(~np.isnan(megno_arr))[0]]\n",
    "cb=ax2.scatter(phi_rv[np.where(~np.isnan(megno_arr))[0]], Phinorm_rv[np.where(~np.isnan(megno_arr))[0]], \n",
    "              c=megno_arr_,norm=colors.LogNorm(vmin=megno_arr_.min(), vmax=megno_arr_.max()),\n",
    "              s=10, rasterized=True,cmap='gnuplot')\n",
    "#cb=ax1.scatter(phi_rv, Phinorm_rv, \n",
    "#              c=[param[2] for param in rv_inres], \n",
    "#              s=10, rasterized=True)\n",
    "\n",
    "cbar1 = fig.colorbar(cb, ax=ax2)\n",
    "cbar1.set_label(r'MEGNO', fontsize=30)\n",
    "cbar1.ax.tick_params(labelsize=30)\n",
    "\n",
    "#ax2.scatter(phi_test[megno_test < 2.0], Phinorm_test[megno_test < 2.0], \n",
    "#              c='b',\n",
    "#              s=40, rasterized=True, label=\"MEGNO $< 2.0$\")\n",
    "#ax2.scatter(phi_test[megno_test >= 2.0], Phinorm_test[megno_test >= 2.0], \n",
    "#              c='r',\n",
    "#              s=40, rasterized=True, label=\"MEGNO $\\geq 2.0$\")\n",
    "#ax2.axhline(b2, lw=1)\n",
    "#ax2.axhline(b1, lw=1)\n",
    "#ax2.axvline(np.pi - a1, lw=1)\n",
    "#ax2.axvline(np.pi + a1, lw=1)\n",
    "\n",
    "ax2.minorticks_on()\n",
    "\n",
    "ax2.tick_params(axis='y', labelsize=30)\n",
    "ax2.tick_params(axis='x', labelsize=30)\n",
    "ax2.set_ylim(-1.2, 1.2)\n",
    "\n",
    "#plt.tight_layout()\n",
    "#plt.subplots_adjust(wspace=0.07)\n",
    "plt.show()\n",
    "#plt.savefig('figures/Figure2_stability.pdf',dpi=300,bbox_inches='tight',padding=0)"
   ]
  },
  {
   "cell_type": "code",
   "execution_count": null,
   "id": "93d854a3",
   "metadata": {},
   "outputs": [],
   "source": []
  },
  {
   "cell_type": "code",
   "execution_count": null,
   "id": "2af11fd8",
   "metadata": {
    "ExecuteTime": {
     "end_time": "2022-03-01T02:29:11.946913Z",
     "start_time": "2022-03-01T02:29:11.941770Z"
    }
   },
   "outputs": [],
   "source": [
    "def spock_pred(simlist):\n",
    "    model = FeatureClassifier()\n",
    "    return model.predict_stable(simlist)"
   ]
  },
  {
   "cell_type": "code",
   "execution_count": null,
   "id": "d2203091",
   "metadata": {},
   "outputs": [],
   "source": []
  },
  {
   "cell_type": "code",
   "execution_count": null,
   "id": "2bc41bfa",
   "metadata": {},
   "outputs": [],
   "source": []
  },
  {
   "cell_type": "code",
   "execution_count": null,
   "id": "5e959662",
   "metadata": {
    "ExecuteTime": {
     "end_time": "2022-03-01T02:31:01.916289Z",
     "start_time": "2022-03-01T02:31:01.907812Z"
    }
   },
   "outputs": [],
   "source": [
    "c_efree = np.logspace(-6,-1.3, 300)\n",
    "test4 = test.copy()\n",
    "zfree_params = []\n",
    "for i,ef in enumerate(c_efree):\n",
    "    test5 = test4.copy()\n",
    "    test5[1] = ef\n",
    "    zfree_params.append(test5)"
   ]
  },
  {
   "cell_type": "code",
   "execution_count": null,
   "id": "af3cf9a7",
   "metadata": {
    "ExecuteTime": {
     "end_time": "2022-03-01T18:14:47.040508Z",
     "start_time": "2022-03-01T18:14:47.034054Z"
    }
   },
   "outputs": [],
   "source": [
    "test"
   ]
  },
  {
   "cell_type": "code",
   "execution_count": null,
   "id": "07c3cfff",
   "metadata": {
    "ExecuteTime": {
     "end_time": "2022-03-01T02:34:43.198977Z",
     "start_time": "2022-03-01T02:34:41.450289Z"
    }
   },
   "outputs": [],
   "source": [
    "sim_list_b = []\n",
    "for i, param in enumerate(zfree_params):\n",
    "    sim = makesim(param[:4])\n",
    "    pomega_b = float(np.random.uniform(0, 2*np.pi, size=1))\n",
    "    theta_b = float(np.random.uniform(0, 2*np.pi, size=1))\n",
    "    sim.add(m = 10**param[-2], P=sim.particles[2].P*1.946, e=param[-1], pomega=pomega_b, theta=theta_b)\n",
    "    sim_list_b.append(sim)"
   ]
  },
  {
   "cell_type": "code",
   "execution_count": null,
   "id": "e225bac3",
   "metadata": {
    "ExecuteTime": {
     "end_time": "2022-03-01T02:35:31.917980Z",
     "start_time": "2022-03-01T02:34:50.784610Z"
    }
   },
   "outputs": [],
   "source": [
    "spock_prob_test = spock_pred(sim_list_b)"
   ]
  },
  {
   "cell_type": "code",
   "execution_count": null,
   "id": "3f0b0532",
   "metadata": {
    "ExecuteTime": {
     "end_time": "2022-03-01T02:35:45.080326Z",
     "start_time": "2022-03-01T02:35:45.072066Z"
    },
    "scrolled": true
   },
   "outputs": [],
   "source": [
    "spock_prob_test"
   ]
  },
  {
   "cell_type": "code",
   "execution_count": null,
   "id": "4bb1b922",
   "metadata": {
    "ExecuteTime": {
     "end_time": "2022-03-01T13:04:38.667598Z",
     "start_time": "2022-03-01T13:04:38.058264Z"
    }
   },
   "outputs": [],
   "source": [
    "%matplotlib inline\n",
    "fig = plt.figure(1,figsize=(7*3.4, 4.0*3.4*3/4.)\n",
    "                         #gridspec_kw={'width_ratios': [1, 0.80]}\n",
    "                       )\n",
    "ax1 = fig.add_subplot(121)\n",
    "ax2 = fig.add_subplot(122)\n",
    "\n",
    "phis = np.linspace(0, 2*np.pi, 1000)\n",
    "sep_upper = np.sin(phis/2)\n",
    "ax1.plot(phis, sep_upper, 'k')\n",
    "ax1.plot(phis, -sep_upper, 'k')\n",
    "ax1.set_xlim([0,2*np.pi])\n",
    "ax1.set_xlabel('Resonant angle $\\phi$',fontsize=30)\n",
    "ax1.set_ylabel('Normalized period ratio deviation',fontsize=30)\n",
    "\n",
    "\n",
    "ax1.scatter(phi_test[megno_test < 2.0], Phinorm_test[megno_test < 2.0], \n",
    "              c='k',\n",
    "              s=30, rasterized=True, label=\"MEGNO $< 2.0$\")\n",
    "ax1.scatter(phi_test[megno_test >= 2.0], Phinorm_test[megno_test >= 2.0], \n",
    "              c='r',\n",
    "              s=30, rasterized=True, label=\"MEGNO $\\geq 2.0$\")\n",
    "\n",
    "#ax1.plot(x,y)\n",
    "\n",
    "#cbar1 = fig.colorbar(cb, ax=ax1)\n",
    "#cbar1.set_label(r'$e_{\\rm{free}}$', fontsize=30)\n",
    "#cbar1.ax.tick_params(labelsize=30)\n",
    "ax1.legend()\n",
    "\n",
    "ax1.minorticks_on()\n",
    "\n",
    "ax1.tick_params(axis='y', labelsize=30)\n",
    "ax1.tick_params(axis='x', labelsize=30)\n",
    "ax1.set_ylim(-1.2, 1.2)\n",
    "\n",
    "ax2.plot(phis, sep_upper, 'k')\n",
    "ax2.plot(phis, -sep_upper, 'k')\n",
    "ax2.set_xlim([0,2*np.pi])\n",
    "ax2.set_xlabel('Resonant angle $\\phi$',fontsize=30)\n",
    "ax2.set_ylabel('Normalized period ratio deviation',fontsize=30)\n",
    "#cb = ax.scatter(phi, Phinorm, c=spock_prob, alpha=spock_prob, s=20)\n",
    "    \n",
    "#j = 3\n",
    "#k = 1\n",
    "#catseye_test = np.array(zfree_params)\n",
    "\n",
    "#phi_test, Phinorm_test = get_Phinorm(catseye_test)\n",
    "\n",
    "ax2.scatter(phi_test[megno_test < 2.0], Phinorm_test[megno_test < 2.0], \n",
    "              c='k',\n",
    "              s=30, rasterized=True, label=\"MEGNO $< 2.0$\", alpha=spock_prob_test[megno_test<2.0])\n",
    "ax2.scatter(phi_test[megno_test >= 2.0], Phinorm_test[megno_test >= 2.0], \n",
    "              c='r',\n",
    "              s=30, rasterized=True, label=\"MEGNO $\\geq 2.0$\", alpha=spock_prob_test[megno_test>=2.0])\n",
    "\n",
    "#cbar1 = fig.colorbar(cb, ax=ax1)\n",
    "#cbar1.set_label(r'$e_{\\rm{free}}$', fontsize=30)\n",
    "#cbar1.ax.tick_params(labelsize=30)\n",
    "#ax1.legend()\n",
    "\n",
    "ax2.minorticks_on()\n",
    "\n",
    "ax2.tick_params(axis='y', labelsize=30)\n",
    "ax2.tick_params(axis='x', labelsize=30)\n",
    "ax2.set_ylim(-1.2, 1.2)\n",
    "\n",
    "#plt.tight_layout()\n",
    "#plt.subplots_adjust(wspace=0.07)\n",
    "plt.show()\n",
    "#plt.savefig('figures/Figure2_stability.pdf',dpi=300,bbox_inches='tight',padding=0)"
   ]
  },
  {
   "cell_type": "code",
   "execution_count": null,
   "id": "16b1a48f",
   "metadata": {},
   "outputs": [],
   "source": []
  },
  {
   "cell_type": "code",
   "execution_count": null,
   "id": "fe7c901b",
   "metadata": {},
   "outputs": [],
   "source": []
  },
  {
   "cell_type": "code",
   "execution_count": null,
   "id": "3320a3ab",
   "metadata": {},
   "outputs": [],
   "source": []
  },
  {
   "cell_type": "code",
   "execution_count": null,
   "id": "19774840",
   "metadata": {},
   "outputs": [],
   "source": []
  },
  {
   "cell_type": "code",
   "execution_count": null,
   "id": "97f1e35f",
   "metadata": {},
   "outputs": [],
   "source": []
  },
  {
   "cell_type": "markdown",
   "id": "aa750ff7",
   "metadata": {},
   "source": [
    "# Getting all configs that appear between the cat's eye rings...\n",
    "\n",
    "Selecting all in-resonance and stable configs that lie in the cat's eye gap between 0.2 < Phinorm < 0.3"
   ]
  },
  {
   "cell_type": "code",
   "execution_count": null,
   "id": "faea089c",
   "metadata": {
    "ExecuteTime": {
     "end_time": "2022-02-28T01:19:04.670651Z",
     "start_time": "2022-02-28T01:19:04.657903Z"
    }
   },
   "outputs": [],
   "source": [
    "bet = rv_inres[(Phinorm_rv[preds_rv[deltaH_cd < 0.0] != 0.0] > 0.2) &\\\n",
    "               (Phinorm_rv[preds_rv[deltaH_cd < 0.0] != 0.0] < 0.3) &\\\n",
    "              (phi_rv[preds_rv[deltaH_cd < 0.0] != 0.0] < 3.4)&\\\n",
    "              (phi_rv[preds_rv[deltaH_cd < 0.0] != 0.0] > 3.0)]\n",
    "len(bet)"
   ]
  },
  {
   "cell_type": "code",
   "execution_count": null,
   "id": "414948e6",
   "metadata": {
    "ExecuteTime": {
     "end_time": "2022-02-28T01:19:25.997989Z",
     "start_time": "2022-02-28T01:19:25.993257Z"
    }
   },
   "outputs": [],
   "source": [
    "bet"
   ]
  },
  {
   "cell_type": "code",
   "execution_count": null,
   "id": "0fe974bc",
   "metadata": {
    "ExecuteTime": {
     "end_time": "2022-02-28T01:20:20.829637Z",
     "start_time": "2022-02-28T01:20:20.380246Z"
    }
   },
   "outputs": [],
   "source": [
    "fig = plt.figure(1,figsize=(2.2*3.4, 1.2*3.4*3/4.))\n",
    "ax = fig.add_subplot(111)\n",
    "time_grid = np.linspace(t_K2, t_tess, Nout)\n",
    "\n",
    "for i,param in tqdm(enumerate(bet)):\n",
    "    p = param[:4]\n",
    "    \n",
    "    sim = makesim(p)\n",
    "    #pomega_b = float(np.random.uniform(0, 2*np.pi, size=1))\n",
    "    \n",
    "    #sim.add(m=10**param[-2], P=sim.particles[2].P*1.946, e=param[-1], pomega=pomega_b, theta=np.pi/2)\n",
    "    period_ratios = run(sim)\n",
    "    #if spock_inres[i] != 0.0:\n",
    "    ax.plot(time_grid,period_ratios,\n",
    "         alpha=1.0,zorder=0, c='k',\n",
    "         rasterized=True)\n",
    "    #elif spock_inres[i] == 0.0:\n",
    "    #    ax.plot(time_grid,period_ratios,\n",
    "    #     alpha=0.05,zorder=0, c='r',\n",
    "    #     rasterized=True)\n",
    "\n",
    "#ax1.plot(time_grid, run(makesim(min_mu[0][:4])), c='C2')\n",
    "\n",
    "ax.errorbar(time_grid[[0, -1]],obs,yerr=obs_err, fmt='o',ms=7, c='b',ecolor='g',zorder=1,capsize=5, capthick=2)\n",
    "ax.set_ylabel('Period ratio [P$_d$/P$_c$]',fontsize=20)\n",
    "#ax.set_ylim(1.49, 1.515)\n",
    "ax.set_xlabel('Time [BKJD - 2454833]',fontsize=20)\n",
    "\n",
    "ax.tick_params(axis='y', labelsize=20)\n",
    "ax.tick_params(axis='x', labelsize=20)\n",
    "\n",
    "ax.minorticks_on()\n",
    "plt.show()"
   ]
  },
  {
   "cell_type": "markdown",
   "id": "3742d9bb",
   "metadata": {},
   "source": [
    "# Checking Pb/Pd period ratio evolution"
   ]
  },
  {
   "cell_type": "code",
   "execution_count": null,
   "id": "35a3f7aa",
   "metadata": {
    "ExecuteTime": {
     "end_time": "2022-02-28T15:33:31.361204Z",
     "start_time": "2022-02-28T15:33:31.246112Z"
    }
   },
   "outputs": [],
   "source": [
    "rv_post[0]"
   ]
  },
  {
   "cell_type": "code",
   "execution_count": null,
   "id": "9d152b62",
   "metadata": {
    "ExecuteTime": {
     "end_time": "2022-02-28T15:58:14.739111Z",
     "start_time": "2022-02-28T15:58:14.731667Z"
    }
   },
   "outputs": [],
   "source": [
    "def makesim_wb(theta):\n",
    "\n",
    "\n",
    "    e_forced, e_free, mu, deltaT, mb, eb = theta\n",
    "\n",
    "    mratio=0.5\n",
    "    e_com = 0.0\n",
    "    phiecom=float(np.random.uniform(0, 2*np.pi, size=1)) # varying between 0 and 2pi\n",
    "    theta1 = np.pi\n",
    "    Mstar = 1.1\n",
    "    m1 = mratio*10**mu\n",
    "    m2 = (1-mratio)*10**mu\n",
    "    phi = np.pi # where equilibrium is\n",
    "    theta1 = np.pi # position of planet b\n",
    "\n",
    "    andvars = Andoyer.from_Z(j=3, k=1, Z=(e_forced+e_free)/np.sqrt(2), phi=phi,\n",
    "                             Zstar=e_forced/np.sqrt(2), Mstar=Mstar, m1=m1, m2=m2,\n",
    "                             Zcom=e_com/np.sqrt(2), phiZcom=phiecom, theta1=theta1)\n",
    "\n",
    "    try:\n",
    "\n",
    "        sim = andvars.to_Simulation()\n",
    "        sim.add(m=10**mb, P=sim.particles[2].P*1.946, e=eb, pomega=float(np.random.uniform(0, 2*np.pi, size=1)), \n",
    "                theta=float(np.random.uniform(0, 2*np.pi, size=1)))\n",
    "        sim.integrator=\"whfast\"\n",
    "        sim.dt = sim.particles[1].P/20\n",
    "        sim.ri_whfast.safe_mode = 0\n",
    "        sim.integrate(deltaT)\n",
    "        sim.t = 0\n",
    "        return sim\n",
    "    except KeyboardInterrupt:\n",
    "        print('Interrupted')\n",
    "        print(e_forced, e_free, mu, deltaT, mb, eb, pomegab, thetab)\n",
    "        raise"
   ]
  },
  {
   "cell_type": "code",
   "execution_count": null,
   "id": "61e06017",
   "metadata": {
    "ExecuteTime": {
     "end_time": "2022-02-28T15:58:15.078326Z",
     "start_time": "2022-02-28T15:58:15.073871Z"
    }
   },
   "outputs": [],
   "source": [
    "preds_inres = preds_rv[(deltaH_cd < 0.0) & (preds_rv != 0.0)]\n",
    "len(preds_inres)"
   ]
  },
  {
   "cell_type": "code",
   "execution_count": null,
   "id": "e3e325e9",
   "metadata": {
    "ExecuteTime": {
     "end_time": "2022-02-28T15:58:15.876126Z",
     "start_time": "2022-02-28T15:58:15.872273Z"
    }
   },
   "outputs": [],
   "source": [
    "rv_inres[0]"
   ]
  },
  {
   "cell_type": "code",
   "execution_count": null,
   "id": "318bf578",
   "metadata": {
    "ExecuteTime": {
     "end_time": "2022-02-28T16:00:12.225432Z",
     "start_time": "2022-02-28T15:58:26.516148Z"
    }
   },
   "outputs": [],
   "source": [
    "%matplotlib inline\n",
    "fig = plt.figure(1,figsize=(7*3.4, 2.5*3.4*3/4.))\n",
    "ax = fig.add_subplot(111)\n",
    "time_grid = np.linspace(t_K2, t_tess, Nout)\n",
    "\n",
    "for i,param in tqdm(enumerate(rv_inres)):\n",
    "    p = param.copy()\n",
    "    p[-1] = 0.0\n",
    "    \n",
    "    sim = makesim_wb(p)\n",
    "    ps = sim.particles\n",
    "    Pratios = np.zeros(Nout)\n",
    "    for j, time in enumerate(t):\n",
    "\n",
    "        sim.integrate(time)\n",
    "        Pratios[j] = ps[3].P/ps[2].P\n",
    "    \n",
    "    ax.plot(time_grid,Pratios,\n",
    "         alpha=0.5*preds_inres[i],zorder=0, c='k',\n",
    "         rasterized=True)\n",
    "\n",
    "#ax1.plot(time_grid, run(makesim(min_mu[0][:4])), c='C2')\n",
    "\n",
    "#ax.errorbar(time_grid[[0, -1]],obs,yerr=obs_err, fmt='o',ms=7, c='r',ecolor='b',zorder=1,capsize=5, capthick=2)\n",
    "ax.set_ylabel('Period ratio [P$_b$/P$_d$]',fontsize=30)\n",
    "ax.set_ylim(1.93, 1.97)\n",
    "ax.set_xlabel('Time [BKJD - 2454833]',fontsize=30)\n",
    "ax.axhline(y=1.946, lw=3, ls='--', c='r')\n",
    "\n",
    "ax.tick_params(axis='y', labelsize=30)\n",
    "ax.tick_params(axis='x', labelsize=30)\n",
    "#plt.savefig('figures/Figure2b.pdf',dpi=300,bbox_inches='tight',padding=0)"
   ]
  },
  {
   "cell_type": "markdown",
   "id": "effbd7d6",
   "metadata": {},
   "source": [
    "## Plotting only the resonance chains"
   ]
  },
  {
   "cell_type": "code",
   "execution_count": null,
   "id": "1b7a7e46",
   "metadata": {
    "ExecuteTime": {
     "end_time": "2022-02-28T16:00:12.233423Z",
     "start_time": "2022-02-28T16:00:12.228390Z"
    }
   },
   "outputs": [],
   "source": [
    "def mmr_break(arr, cd_res, db_res, preds_arr, stable=True, chain=True):\n",
    "\n",
    "    if stable:\n",
    "        if chain: \n",
    "            res21 = arr[(np.array(cd_res) < 0.0) & (np.array(db_res) < 0.0) & (preds_arr > 0.0)]\n",
    "        else:\n",
    "            res21 = arr[(np.array(cd_res) < 0.0) & ((np.array(db_res) >= 0.0) | np.isnan(db_res)) &\\\n",
    "                        (preds_arr > 0.0)]\n",
    "    else:\n",
    "        if chain:\n",
    "            res21 = arr[(np.array(cd_res) < 0.0) & (np.array(db_res) < 0.0) & (preds_arr == 0.0)]\n",
    "        else:\n",
    "            \n",
    "            res21 = arr[(np.array(cd_res) < 0.0) & ((np.array(db_res) >= 0.0) | np.isnan(db_res)) &\\\n",
    "                        (preds_arr == 0.0)]\n",
    "    return res21"
   ]
  },
  {
   "cell_type": "code",
   "execution_count": null,
   "id": "5065b681",
   "metadata": {
    "ExecuteTime": {
     "end_time": "2022-02-28T16:00:12.240567Z",
     "start_time": "2022-02-28T16:00:12.236331Z"
    }
   },
   "outputs": [],
   "source": [
    "mmr_chain_preds = mmr_break(preds_rv, deltaH_cd, deltaH_db, preds_rv, stable=True,chain=True)\n",
    "mmr_chain_configs = mmr_break(rv_post, deltaH_cd, deltaH_db, preds_rv, stable=True,chain=True)"
   ]
  },
  {
   "cell_type": "code",
   "execution_count": null,
   "id": "ad7e96fd",
   "metadata": {
    "ExecuteTime": {
     "end_time": "2022-02-28T16:00:12.245499Z",
     "start_time": "2022-02-28T16:00:12.242695Z"
    }
   },
   "outputs": [],
   "source": [
    "print(len(mmr_chain_preds),len(mmr_chain_configs))"
   ]
  },
  {
   "cell_type": "code",
   "execution_count": null,
   "id": "27fc7380",
   "metadata": {
    "ExecuteTime": {
     "end_time": "2022-02-28T16:00:37.770207Z",
     "start_time": "2022-02-28T16:00:34.597340Z"
    }
   },
   "outputs": [],
   "source": [
    "%matplotlib inline\n",
    "fig = plt.figure(1,figsize=(7*3.4, 2.5*3.4*3/4.))\n",
    "ax = fig.add_subplot(111)\n",
    "time_grid = np.linspace(t_K2, t_tess, Nout)\n",
    "\n",
    "for i,param in tqdm(enumerate(mmr_chain_configs)):\n",
    "    p = param.copy()\n",
    "    p[-1] = 0.0\n",
    "    \n",
    "    sim = makesim_wb(p)\n",
    "    ps = sim.particles\n",
    "    Pratios = np.zeros(Nout)\n",
    "    for j, time in enumerate(t):\n",
    "\n",
    "        sim.integrate(time)\n",
    "        Pratios[j] = ps[3].P/ps[2].P\n",
    "    \n",
    "    ax.plot(time_grid,Pratios,\n",
    "         alpha=mmr_chain_preds[i],zorder=0, c='k',\n",
    "         rasterized=True)\n",
    "\n",
    "#ax1.plot(time_grid, run(makesim(min_mu[0][:4])), c='C2')\n",
    "\n",
    "#ax.errorbar(time_grid[[0, -1]],obs,yerr=obs_err, fmt='o',ms=7, c='r',ecolor='b',zorder=1,capsize=5, capthick=2)\n",
    "ax.set_ylabel('Period ratio [P$_b$/P$_d$]',fontsize=30)\n",
    "ax.set_ylim(1.90, 2.0)\n",
    "ax.set_xlabel('Time [BKJD - 2454833]',fontsize=30)\n",
    "ax.axhline(y=1.946, lw=3, ls='--', c='r')\n",
    "\n",
    "ax.tick_params(axis='y', labelsize=30)\n",
    "ax.tick_params(axis='x', labelsize=30)\n",
    "#plt.savefig('figures/Figure2b.pdf',dpi=300,bbox_inches='tight',padding=0)"
   ]
  },
  {
   "cell_type": "code",
   "execution_count": null,
   "id": "c462ba56",
   "metadata": {},
   "outputs": [],
   "source": []
  },
  {
   "cell_type": "markdown",
   "id": "68d2b77f",
   "metadata": {},
   "source": [
    "# Reading the summary data for the instability times"
   ]
  },
  {
   "cell_type": "code",
   "execution_count": null,
   "id": "0a7eb35e",
   "metadata": {
    "ExecuteTime": {
     "end_time": "2022-02-28T00:27:55.744032Z",
     "start_time": "2022-02-28T00:27:55.694334Z"
    }
   },
   "outputs": [],
   "source": [
    "# from Miles\n",
    "summary = pd.read_csv('distribution_statistics_unstbl.csv')\n",
    "list(summary)"
   ]
  },
  {
   "cell_type": "code",
   "execution_count": null,
   "id": "37cfab47",
   "metadata": {
    "ExecuteTime": {
     "end_time": "2022-02-28T00:34:58.060027Z",
     "start_time": "2022-02-28T00:34:58.054568Z"
    }
   },
   "outputs": [],
   "source": [
    "len(summary[summary['std'] > 1e-10])/len(summary)"
   ]
  },
  {
   "cell_type": "code",
   "execution_count": null,
   "id": "24176276",
   "metadata": {
    "ExecuteTime": {
     "end_time": "2022-02-28T00:32:30.537373Z",
     "start_time": "2022-02-28T00:32:30.531657Z"
    }
   },
   "outputs": [],
   "source": [
    "len(summary[summary['median'] < 7])/len(summary)"
   ]
  },
  {
   "cell_type": "code",
   "execution_count": null,
   "id": "a0081f03",
   "metadata": {},
   "outputs": [],
   "source": []
  }
 ],
 "metadata": {
  "kernelspec": {
   "display_name": "Python 3",
   "language": "python",
   "name": "python3"
  },
  "language_info": {
   "codemirror_mode": {
    "name": "ipython",
    "version": 3
   },
   "file_extension": ".py",
   "mimetype": "text/x-python",
   "name": "python",
   "nbconvert_exporter": "python",
   "pygments_lexer": "ipython3",
   "version": "3.8.8"
  },
  "toc": {
   "base_numbering": 1,
   "nav_menu": {},
   "number_sections": true,
   "sideBar": true,
   "skip_h1_title": false,
   "title_cell": "Table of Contents",
   "title_sidebar": "Contents",
   "toc_cell": false,
   "toc_position": {},
   "toc_section_display": true,
   "toc_window_display": true
  }
 },
 "nbformat": 4,
 "nbformat_minor": 5
}
