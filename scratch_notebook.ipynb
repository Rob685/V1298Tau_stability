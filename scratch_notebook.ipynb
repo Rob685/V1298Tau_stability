{
 "cells": [
  {
   "cell_type": "code",
   "execution_count": 1,
   "id": "9f63bdc6",
   "metadata": {
    "ExecuteTime": {
     "end_time": "2022-03-04T02:59:49.264468Z",
     "start_time": "2022-03-04T02:59:42.161266Z"
    }
   },
   "outputs": [],
   "source": [
    "import numpy as np\n",
    "import matplotlib.pyplot as plt\n",
    "import matplotlib as mpl\n",
    "from matplotlib.gridspec import GridSpec\n",
    "from matplotlib.colors import TwoSlopeNorm\n",
    "import matplotlib.colors as colors\n",
    "from celmech import Andoyer\n",
    "import rebound\n",
    "from celmech.andoyer import get_Xstarres, get_Xstarunstable, get_Xstarnonres, get_Xsep\n",
    "import pdb\n",
    "from statsmodels.stats.weightstats import DescrStatsW\n",
    "import corner\n",
    "from tqdm import tqdm\n",
    "from celmech.andoyer import get_Hsep\n",
    "import glob\n",
    "import pandas as pd\n",
    "import spock\n",
    "from spock import FeatureClassifier\n",
    "from statsmodels.stats.weightstats import DescrStatsW\n",
    "from scipy import stats"
   ]
  },
  {
   "cell_type": "code",
   "execution_count": 2,
   "id": "2a8e0f35",
   "metadata": {
    "ExecuteTime": {
     "end_time": "2022-03-04T02:59:49.286503Z",
     "start_time": "2022-03-04T02:59:49.266846Z"
    }
   },
   "outputs": [],
   "source": [
    "# last TESS observation:\n",
    "t_tess = 4664.65\n",
    "\n",
    "# last K2 observation:\n",
    "t_K2 = 2265\n",
    "\n",
    "t = t_tess - t_K2\n",
    "\n",
    "t_orbits = t/8.24958\n",
    "\n",
    "#print('Number of orbits between observations: {:.0f}'.format(t_orbits))\n",
    "\n",
    "t_orb = t_orbits*5.98\n",
    "tmax = 1.0*t_orb\n",
    "Nout = 200\n",
    "\n",
    "t = np.linspace(0,tmax,Nout)\n",
    "obs_tess = np.where(np.round(abs(t - t_orb),6) == np.round(np.min(abs(t - t_orb)),6))[0][0] \n",
    "\n",
    "delta_index = 0\n",
    "obs_idx=[delta_index,obs_tess+delta_index] # [20, 519] in the current version\n",
    "\n",
    "nobs = 2\n",
    "obs_err = np.array([0.0001, 0.0005])\n",
    "obs = np.array([1.503, 1.503]) \n",
    "\n",
    "def makesim(theta,dt=None):\n",
    "    if dt==None:\n",
    "        e_forced, e_free, mu, deltaT = theta\n",
    "    else:\n",
    "        e_forced, e_free, mu = theta[0], theta[1], theta[2]\n",
    "        deltaT = dt\n",
    "    mratio=0.5\n",
    "    #e_com=float(np.random.uniform(0, 0.3, size=1)),  # varying between 0 and max(Z*) = 0.3\n",
    "    e_com = 0.0\n",
    "    phiecom=float(np.random.uniform(0, 2*np.pi, size=1)) # varying between 0 and 2pi\n",
    "    #phiecom=0.0\n",
    "    theta1 = np.pi\n",
    "    #pomega_b=None\n",
    "    \n",
    "    Mstar = 1.1\n",
    "    m1 = mratio*10**mu\n",
    "    m2 = (1-mratio)*10**mu\n",
    "    phi = np.pi # where equilibrium is\n",
    "    theta1 = np.pi # so they start on opposite sides\n",
    "\n",
    "    andvars = Andoyer.from_Z(j=3, k=1, Z=(e_forced+e_free)/np.sqrt(2), phi=phi, \n",
    "                             Zstar=e_forced/np.sqrt(2), Mstar=Mstar, m1=m1, m2=m2, \n",
    "                             Zcom=e_com/np.sqrt(2), phiZcom=phiecom, theta1=theta1)\n",
    "\n",
    "    try:\n",
    "        sim = andvars.to_Simulation()\n",
    "        sim.integrator=\"whfast\"\n",
    "        #sim.init_megno()\n",
    "        sim.dt = sim.particles[1].P/20\n",
    "        sim.ri_whfast.safe_mode = 0\n",
    "        sim.integrate(deltaT)\n",
    "        sim.t = 0\n",
    "        return sim\n",
    "    except:\n",
    "        print(e_forced, e_free, deltaT, mu)\n",
    "        raise\n",
    "        \n",
    "def run(sim):\n",
    "    \n",
    "    Pratios = np.zeros(Nout)\n",
    "    ps = sim.particles\n",
    "    sim.init_megno()\n",
    "    \n",
    "    for i, time in enumerate(t):\n",
    "        \n",
    "        sim.integrate(time)\n",
    "        Pratios[i] = ps[2].P/ps[1].P\n",
    "        \n",
    "    megno = sim.calculate_megno()\n",
    "    return Pratios,megno\n",
    "        \n",
    "def get_Phinorm(post_array):\n",
    "    np.random.seed(0)\n",
    "    phi, Phinorm = np.zeros(len(post_array)), np.zeros(len(post_array))\n",
    "    # see separatrix note on Dan's ipad\n",
    "    for i, p in tqdm(enumerate(post_array)):\n",
    "        sim = makesim(p, dt=0)\n",
    "        andvars = Andoyer.from_Simulation(sim, j=j, k=k)\n",
    "        Phiprime = andvars.Phiprime\n",
    "        Xstarres = get_Xstarres(k, Phiprime)\n",
    "        Xsep_inner, Xsep_outer = get_Xsep(k, Phiprime)\n",
    "        Phistarres = Xstarres**2/2\n",
    "        Phisep_outer = Xsep_outer**2/2\n",
    "        sim = makesim(p, dt=np.random.random()*2000)\n",
    "        #sim = makesim(p, dt=0.0)\n",
    "        andvars = Andoyer.from_Simulation(sim, j=j, k=k)\n",
    "        Phinorm[i] = (andvars.Phi-Phistarres)/(Phisep_outer - Phistarres)\n",
    "        phi[i] = andvars.phi\n",
    "        \n",
    "    return phi, Phinorm\n",
    "\n",
    "def get_H(andvars):\n",
    "    X = andvars.X\n",
    "    Y = andvars.Y\n",
    "    k = andvars.params['k']\n",
    "    Phiprime = andvars.Phiprime\n",
    "    H = (X**2 + Y**2)**2 - 3*Phiprime/2*(X**2+Y**2)+(X**2+Y**2)**((k-1)/2)*X \n",
    "    return H\n",
    "\n",
    "\n",
    "def get_deltaH(post_array, j, k, i1, i2, pl_b=True):\n",
    "\n",
    "    #j1 = 3\n",
    "    #j2 = 2\n",
    "    #k = 1\n",
    "\n",
    "    deltaH = []\n",
    "\n",
    "    for i,param in tqdm(enumerate(post_array)):\n",
    "        sim = makesim(param[:4],dt=0)\n",
    "        \n",
    "        if pl_b:\n",
    "            m_b = 10**param[-2]\n",
    "            e_b = param[-1]\n",
    "\n",
    "            pomega_b = float(np.random.uniform(0, 2*np.pi, size=1))\n",
    "            sim.add(m=m_b, P=sim.particles[2].P*1.946, e=e_b, pomega=pomega_b, theta=np.pi/2)\n",
    "        \n",
    "        #if both:\n",
    "        andvars = Andoyer.from_Simulation(sim, j=j, k=k, i1=i1, i2=i2)\n",
    "\n",
    "        H = get_H(andvars)\n",
    "        Hsep = get_Hsep(k, andvars.Phiprime)\n",
    "\n",
    "        deltaH.append(H-Hsep)\n",
    "        \n",
    "    return deltaH"
   ]
  },
  {
   "cell_type": "code",
   "execution_count": 3,
   "id": "cf2e1082",
   "metadata": {
    "ExecuteTime": {
     "end_time": "2022-03-04T02:59:49.299200Z",
     "start_time": "2022-03-04T02:59:49.289401Z"
    }
   },
   "outputs": [],
   "source": [
    "rv_post = np.load('stability_posteriors/100k_rv_priors_60mil_lnlike_randomtheta.npy')\n",
    "preds_rv = np.load('stability_posteriors/100k_rv_stability_preds_randomtheta.npy')"
   ]
  },
  {
   "cell_type": "markdown",
   "id": "67f409e6",
   "metadata": {},
   "source": [
    "# Checking the lifetimes of the bottom 50th sum percentile.\n",
    "\n",
    "We want to see at what point the sum of the SPOCK probabilities is half of the total SPOCK probability sum, then take a look at their lifetimes and see what the median lifetimes are."
   ]
  },
  {
   "cell_type": "code",
   "execution_count": 4,
   "id": "57901706",
   "metadata": {
    "ExecuteTime": {
     "end_time": "2022-03-04T02:59:49.397902Z",
     "start_time": "2022-03-04T02:59:49.306787Z"
    }
   },
   "outputs": [
    {
     "data": {
      "text/plain": [
       "Text(0, 0.5, 'N')"
      ]
     },
     "execution_count": 4,
     "metadata": {},
     "output_type": "execute_result"
    }
   ],
   "source": [
    "plt.figure(figsize=(10,5))\n",
    "hist = plt.hist(preds_rv[preds_rv != 0.0],histtype='step',bins='auto')\n",
    "#plt.axvline(0.02,color='k')\n",
    "plt.xlabel('SPOCK probability')\n",
    "plt.ylabel('N')"
   ]
  },
  {
   "cell_type": "code",
   "execution_count": 5,
   "id": "1dbcc7d1",
   "metadata": {
    "ExecuteTime": {
     "end_time": "2022-03-04T02:59:49.405514Z",
     "start_time": "2022-03-04T02:59:49.400226Z"
    }
   },
   "outputs": [
    {
     "data": {
      "text/plain": [
       "array([], dtype=int64)"
      ]
     },
     "execution_count": 5,
     "metadata": {},
     "output_type": "execute_result"
    }
   ],
   "source": [
    "np.where(preds_rv == np.sum(preds_rv)/2)[0]"
   ]
  },
  {
   "cell_type": "code",
   "execution_count": 6,
   "id": "47b14f58",
   "metadata": {
    "ExecuteTime": {
     "end_time": "2022-03-04T02:59:49.411541Z",
     "start_time": "2022-03-04T02:59:49.407518Z"
    }
   },
   "outputs": [
    {
     "data": {
      "text/plain": [
       "0.0"
      ]
     },
     "execution_count": 6,
     "metadata": {},
     "output_type": "execute_result"
    }
   ],
   "source": [
    "s_test = np.sum(preds_rv[:0])\n",
    "s_test"
   ]
  },
  {
   "cell_type": "code",
   "execution_count": 7,
   "id": "fa2ec90f",
   "metadata": {
    "ExecuteTime": {
     "end_time": "2022-03-04T02:59:49.417369Z",
     "start_time": "2022-03-04T02:59:49.413478Z"
    }
   },
   "outputs": [
    {
     "data": {
      "text/plain": [
       "array([9, 7, 5, 0, 8, 6, 8, 0, 0, 4])"
      ]
     },
     "execution_count": 7,
     "metadata": {},
     "output_type": "execute_result"
    }
   ],
   "source": [
    "test = np.random.randint(10,size=10)\n",
    "test"
   ]
  },
  {
   "cell_type": "code",
   "execution_count": 8,
   "id": "9ea5a0f2",
   "metadata": {
    "ExecuteTime": {
     "end_time": "2022-03-04T02:59:49.424849Z",
     "start_time": "2022-03-04T02:59:49.421049Z"
    }
   },
   "outputs": [
    {
     "data": {
      "text/plain": [
       "array([0, 0, 0, 4, 5, 6, 7, 8, 8, 9])"
      ]
     },
     "execution_count": 8,
     "metadata": {},
     "output_type": "execute_result"
    }
   ],
   "source": [
    "np.sort(test)"
   ]
  },
  {
   "cell_type": "code",
   "execution_count": 9,
   "id": "f3e7725a",
   "metadata": {
    "ExecuteTime": {
     "end_time": "2022-03-04T03:00:59.754599Z",
     "start_time": "2022-03-04T02:59:49.427394Z"
    }
   },
   "outputs": [
    {
     "name": "stdout",
     "output_type": "stream",
     "text": [
      "581.6944 17802\n"
     ]
    }
   ],
   "source": [
    "thresh_index = []\n",
    "for i,pred in enumerate(preds_rv[preds_rv != 0.0]):\n",
    "    s = np.sum(np.sort(preds_rv[preds_rv != 0.0])[:i])\n",
    "    if s <= np.sum(preds_rv[preds_rv != 0.0])/5:\n",
    "        continue\n",
    "    else:\n",
    "        print(s, i)\n",
    "        thresh_index.append(i)\n",
    "        break"
   ]
  },
  {
   "cell_type": "code",
   "execution_count": 10,
   "id": "360935a9",
   "metadata": {
    "ExecuteTime": {
     "end_time": "2022-03-04T03:00:59.763060Z",
     "start_time": "2022-03-04T03:00:59.756616Z"
    }
   },
   "outputs": [
    {
     "name": "stdout",
     "output_type": "stream",
     "text": [
      "0.08389807\n"
     ]
    }
   ],
   "source": [
    "#half_thresh = np.sort(preds_rv[preds_rv != 0.0])[24260]\n",
    "fifth_thresh = np.sort(preds_rv[preds_rv != 0.0])[17802]\n",
    "\n",
    "print(fifth_thresh)"
   ]
  },
  {
   "cell_type": "code",
   "execution_count": 11,
   "id": "497f251e",
   "metadata": {
    "ExecuteTime": {
     "end_time": "2022-03-04T03:00:59.928982Z",
     "start_time": "2022-03-04T03:00:59.764773Z"
    }
   },
   "outputs": [
    {
     "data": {
      "image/png": "[encoded data removed]",
      "text/plain": [
       "<Figure size 720x360 with 1 Axes>"
      ]
     },
     "metadata": {
      "needs_background": "light"
     },
     "output_type": "display_data"
    }
   ],
   "source": [
    "%matplotlib inline\n",
    "plt.figure(figsize=(10,5))\n",
    "hist = plt.hist(preds_rv[preds_rv != 0.0],histtype='step',bins='auto')\n",
    "plt.axvline(fifth_thresh,color='k', ls='--')\n",
    "#plt.axvline(half_thresh,color='k', ls='--') # 50th sum percentile\n",
    "plt.xlabel('SPOCK probability')\n",
    "plt.ylabel('N')\n",
    "plt.show()"
   ]
  },
  {
   "cell_type": "code",
   "execution_count": 12,
   "id": "954d07f6",
   "metadata": {
    "ExecuteTime": {
     "end_time": "2022-03-04T03:00:59.937231Z",
     "start_time": "2022-03-04T03:00:59.931232Z"
    }
   },
   "outputs": [],
   "source": [
    "rv_stable = rv_post[preds_rv != 0.0]\n",
    "preds_stable = preds_rv[preds_rv != 0.0]"
   ]
  },
  {
   "cell_type": "code",
   "execution_count": 14,
   "id": "4501695c",
   "metadata": {
    "ExecuteTime": {
     "end_time": "2022-03-04T03:01:19.052942Z",
     "start_time": "2022-03-04T03:01:19.048640Z"
    }
   },
   "outputs": [
    {
     "name": "stdout",
     "output_type": "stream",
     "text": [
      "17802\n"
     ]
    }
   ],
   "source": [
    "# configs below these thresholds\n",
    "\n",
    "rv_fifth = rv_stable[preds_stable < fifth_thresh]\n",
    "#rv_half = rv_stable[preds_stable < half_thresh]\n",
    "print(len(rv_fifth))"
   ]
  },
  {
   "cell_type": "code",
   "execution_count": 15,
   "id": "9abb5aa2",
   "metadata": {
    "ExecuteTime": {
     "end_time": "2022-03-04T03:01:20.712489Z",
     "start_time": "2022-03-04T03:01:20.709923Z"
    }
   },
   "outputs": [],
   "source": [
    "fifth_idx = np.where(preds_stable < fifth_thresh)[0]"
   ]
  },
  {
   "cell_type": "code",
   "execution_count": 16,
   "id": "e8704de0",
   "metadata": {
    "ExecuteTime": {
     "end_time": "2022-03-04T03:01:23.569649Z",
     "start_time": "2022-03-04T03:01:23.520466Z"
    }
   },
   "outputs": [],
   "source": [
    "# doing the fifth first\n",
    "m_b_rv = [param[-2] for param in rv_fifth]\n",
    "e_b_rv = [param[-1] for param in rv_fifth]\n",
    "\n",
    "params_cd = [list(rv_fifth[i][:4]) for i in range(len(rv_fifth))]\n",
    "#deltaTs = [params_rv[i][-2] for i in range(len(params_rv))]\n",
    "\n",
    "#for p1,p2 in zip(params_cd, deltaTs):\n",
    "#    p1.append(p2)\n",
    "    \n",
    "params_b = [[m_b, e_b] for m_b, e_b in zip(m_b_rv, e_b_rv)]"
   ]
  },
  {
   "cell_type": "code",
   "execution_count": 17,
   "id": "93568dea",
   "metadata": {
    "ExecuteTime": {
     "end_time": "2022-03-04T03:01:31.608844Z",
     "start_time": "2022-03-04T03:01:31.599198Z"
    }
   },
   "outputs": [],
   "source": [
    "def makesim2(param_cd, param_b, seed, dt=None):\n",
    "    sim = makesimcd(param_cd[:4], dt=dt)\n",
    "    \n",
    "    m_b = 10**param_b[0]\n",
    "    e_b = param_b[1]\n",
    "    np.random.seed(seed)\n",
    "    pomega_b = float(np.random.uniform(0, 2*np.pi, size=1))\n",
    "    theta_b = float(np.random.uniform(0, 2*np.pi, size=1))\n",
    "    sim.add(m=m_b, P=sim.particles[2].P*1.946, e=e_b, pomega=pomega_b, theta=theta_b)\n",
    "    sim.move_to_com()\n",
    "    return sim\n",
    "\n",
    "def makesimcd(param_cd,dt=None):\n",
    "    e_forced, e_free, mu, deltaT = param_cd\n",
    "    if dt:\n",
    "        deltaT = dt\n",
    "    mratio=0.5\n",
    "    e_com = 0.0\n",
    "    \n",
    "    Mstar = 1.1\n",
    "    m1 = mratio*10**mu\n",
    "    m2 = (1-mratio)*10**mu\n",
    "    phi = np.pi # where equilibrium is\n",
    "    theta1 = np.pi # so they start on opposite sides\n",
    "\n",
    "    andvars = Andoyer.from_Z(j=3, k=1, Z=(e_forced+e_free)/np.sqrt(2), phi=phi, \n",
    "                             Zstar=e_forced/np.sqrt(2), Mstar=Mstar, m1=m1, m2=m2, \n",
    "                             Zcom=e_com/np.sqrt(2), phiZcom=0, theta1=theta1)\n",
    "\n",
    "    try:\n",
    "        sim = andvars.to_Simulation()\n",
    "        sim.integrator=\"whfast\"\n",
    "        sim.dt = sim.particles[1].P/20\n",
    "        sim.ri_whfast.safe_mode = 0\n",
    "        sim.integrate(deltaT)\n",
    "        sim.t = 0\n",
    "        return sim\n",
    "    except:\n",
    "        print(e_forced, e_free, deltaT, mu)\n",
    "        raise"
   ]
  },
  {
   "cell_type": "code",
   "execution_count": 18,
   "id": "682b56b4",
   "metadata": {
    "ExecuteTime": {
     "end_time": "2022-03-04T03:01:34.216668Z",
     "start_time": "2022-03-04T03:01:34.024962Z"
    }
   },
   "outputs": [],
   "source": [
    "deep_regressor = spock.DeepRegressor(cuda=False)"
   ]
  },
  {
   "cell_type": "code",
   "execution_count": 19,
   "id": "c2b1762a",
   "metadata": {
    "ExecuteTime": {
     "end_time": "2022-03-04T03:03:58.262745Z",
     "start_time": "2022-03-04T03:01:44.977325Z"
    },
    "scrolled": true
   },
   "outputs": [
    {
     "name": "stderr",
     "output_type": "stream",
     "text": [
      "100%|██████████| 17802/17802 [02:13<00:00, 133.59it/s]\n"
     ]
    }
   ],
   "source": [
    "sim_list = []\n",
    "pbar = tqdm(total=len(rv_fifth))\n",
    "for i,(pcd,pb) in enumerate(zip(params_cd, params_b)):\n",
    "    #if i == 66986:\n",
    "    #    continue\n",
    "    sim = makesim2(pcd, pb, seed=fifth_idx[i])\n",
    "    sim_list.append(sim)\n",
    "    pbar.update()\n",
    "pbar.close()"
   ]
  },
  {
   "cell_type": "code",
   "execution_count": 23,
   "id": "c963c167",
   "metadata": {
    "ExecuteTime": {
     "end_time": "2022-03-04T03:19:56.381693Z",
     "start_time": "2022-03-04T03:17:12.176405Z"
    }
   },
   "outputs": [
    {
     "name": "stderr",
     "output_type": "stream",
     "text": [
      " 10%|█         | 1/10 [00:20<03:07, 20.79s/it]"
     ]
    },
    {
     "name": "stdout",
     "output_type": "stream",
     "text": [
      "5.720351133915771\n"
     ]
    },
    {
     "name": "stderr",
     "output_type": "stream",
     "text": [
      "\r",
      " 20%|██        | 2/10 [00:41<02:45, 20.70s/it]"
     ]
    },
    {
     "name": "stdout",
     "output_type": "stream",
     "text": [
      "5.7080162702944595\n",
      "3.280552835417166\n",
      "3.814835618510665\n"
     ]
    },
    {
     "name": "stderr",
     "output_type": "stream",
     "text": [
      "\r",
      " 50%|█████     | 5/10 [01:01<00:53, 10.78s/it]"
     ]
    },
    {
     "name": "stdout",
     "output_type": "stream",
     "text": [
      "7.357065233553821\n"
     ]
    },
    {
     "name": "stderr",
     "output_type": "stream",
     "text": [
      "\r",
      " 60%|██████    | 6/10 [01:22<00:52, 13.24s/it]"
     ]
    },
    {
     "name": "stdout",
     "output_type": "stream",
     "text": [
      "5.923335888371883\n"
     ]
    },
    {
     "name": "stderr",
     "output_type": "stream",
     "text": [
      "\r",
      " 70%|███████   | 7/10 [01:42<00:45, 15.17s/it]"
     ]
    },
    {
     "name": "stdout",
     "output_type": "stream",
     "text": [
      "5.701665554030128\n"
     ]
    },
    {
     "name": "stderr",
     "output_type": "stream",
     "text": [
      "\r",
      " 80%|████████  | 8/10 [02:03<00:33, 16.63s/it]"
     ]
    },
    {
     "name": "stdout",
     "output_type": "stream",
     "text": [
      "5.500130253891548\n"
     ]
    },
    {
     "name": "stderr",
     "output_type": "stream",
     "text": [
      "\r",
      " 90%|█████████ | 9/10 [02:23<00:17, 17.71s/it]"
     ]
    },
    {
     "name": "stdout",
     "output_type": "stream",
     "text": [
      "5.479219247681582\n"
     ]
    },
    {
     "name": "stderr",
     "output_type": "stream",
     "text": [
      "100%|██████████| 10/10 [02:44<00:00, 16.42s/it]"
     ]
    },
    {
     "name": "stdout",
     "output_type": "stream",
     "text": [
      "6.72387196926725\n"
     ]
    },
    {
     "name": "stderr",
     "output_type": "stream",
     "text": [
      "\n"
     ]
    }
   ],
   "source": [
    "for sim in tqdm(sim_list[:10]):\n",
    "    median, lower, upper = deep_regressor.predict_instability_time(sim)\n",
    "    #print(np.log10(median))"
   ]
  },
  {
   "cell_type": "code",
   "execution_count": null,
   "id": "122eeda3",
   "metadata": {
    "ExecuteTime": {
     "end_time": "2022-03-01T13:31:17.903765Z",
     "start_time": "2022-03-01T13:31:17.901247Z"
    }
   },
   "outputs": [],
   "source": [
    "n = hist[0]\n",
    "edges = hist[1]"
   ]
  },
  {
   "cell_type": "code",
   "execution_count": null,
   "id": "3e16810b",
   "metadata": {
    "ExecuteTime": {
     "end_time": "2022-03-01T13:33:00.077587Z",
     "start_time": "2022-03-01T13:33:00.073551Z"
    }
   },
   "outputs": [],
   "source": [
    "max_prob = edges[np.where(n == np.max(n))]\n",
    "print(max_prob)"
   ]
  },
  {
   "cell_type": "code",
   "execution_count": null,
   "id": "0a2a5690",
   "metadata": {
    "ExecuteTime": {
     "end_time": "2022-02-28T15:57:56.385406Z",
     "start_time": "2022-02-28T15:57:56.374975Z"
    }
   },
   "outputs": [],
   "source": [
    "deltaH_cd = np.load('deltaH_cd_randomtheta.npy')\n",
    "deltaH_db = np.load('deltaH_db_randomtheta.npy')\n",
    "\n",
    "phi_rv = np.load('stability_posteriors/phi_rv_randomtheta.npy')\n",
    "Phinorm_rv = np.load('stability_posteriors/Phinorm_rv_randomtheta.npy')"
   ]
  },
  {
   "cell_type": "code",
   "execution_count": null,
   "id": "5459c850",
   "metadata": {
    "ExecuteTime": {
     "end_time": "2022-02-28T15:57:56.787748Z",
     "start_time": "2022-02-28T15:57:56.775294Z"
    }
   },
   "outputs": [],
   "source": [
    "rv_inres = np.array(rv_post)[(np.array(deltaH_cd) < 0.0) & (preds_rv != 0.0)] \n",
    "rv_outres = np.array(rv_post)[(np.array(deltaH_cd) >= 0.0) | np.isnan(np.array(deltaH_cd))]\n",
    "\n",
    "print(len(rv_inres))\n",
    "print(len(rv_outres))"
   ]
  },
  {
   "cell_type": "code",
   "execution_count": null,
   "id": "a6e8cc66",
   "metadata": {
    "ExecuteTime": {
     "end_time": "2022-02-28T17:41:06.045560Z",
     "start_time": "2022-02-28T17:41:06.035961Z"
    }
   },
   "outputs": [],
   "source": [
    "len(np.array(rv_post)[(np.array(deltaH_cd) < 0.0)])/len(rv_post)"
   ]
  },
  {
   "cell_type": "code",
   "execution_count": null,
   "id": "772dc4f0",
   "metadata": {
    "ExecuteTime": {
     "end_time": "2022-02-28T17:41:24.657814Z",
     "start_time": "2022-02-28T17:41:24.651863Z"
    }
   },
   "outputs": [],
   "source": [
    "len(rv_inres)/len(rv_post)"
   ]
  },
  {
   "cell_type": "code",
   "execution_count": null,
   "id": "042ee352",
   "metadata": {
    "ExecuteTime": {
     "end_time": "2022-02-28T15:57:57.390583Z",
     "start_time": "2022-02-28T15:57:57.386766Z"
    }
   },
   "outputs": [],
   "source": [
    "rv_inres[0]"
   ]
  },
  {
   "cell_type": "code",
   "execution_count": null,
   "id": "475bccd3",
   "metadata": {
    "ExecuteTime": {
     "end_time": "2022-02-28T15:57:11.643738Z",
     "start_time": "2022-02-28T15:57:11.634342Z"
    }
   },
   "outputs": [],
   "source": [
    "efrees = np.array([param[1] for param in rv_inres])\n",
    "mus = np.array([param[2] for param in rv_inres])"
   ]
  },
  {
   "cell_type": "code",
   "execution_count": null,
   "id": "0e4e463c",
   "metadata": {
    "ExecuteTime": {
     "end_time": "2022-02-28T20:22:33.688466Z",
     "start_time": "2022-02-28T20:22:33.683729Z"
    }
   },
   "outputs": [],
   "source": [
    "test = rv_inres[mus == np.max(mus)][0]"
   ]
  },
  {
   "cell_type": "code",
   "execution_count": null,
   "id": "e8991600",
   "metadata": {
    "ExecuteTime": {
     "end_time": "2022-02-28T20:22:39.535604Z",
     "start_time": "2022-02-28T20:22:39.531615Z"
    }
   },
   "outputs": [],
   "source": [
    "test"
   ]
  },
  {
   "cell_type": "code",
   "execution_count": null,
   "id": "4274512e",
   "metadata": {
    "ExecuteTime": {
     "end_time": "2022-02-28T00:47:45.100978Z",
     "start_time": "2022-02-28T00:47:45.094289Z"
    }
   },
   "outputs": [],
   "source": [
    "test2 = rv_inres[mus == np.median(mus)][0]\n",
    "test2"
   ]
  },
  {
   "cell_type": "code",
   "execution_count": null,
   "id": "68b77b0b",
   "metadata": {
    "ExecuteTime": {
     "end_time": "2022-02-28T00:47:52.634231Z",
     "start_time": "2022-02-28T00:47:50.486135Z"
    }
   },
   "outputs": [],
   "source": [
    "fig = plt.figure(1,figsize=(7*3.4, 2.5*3.4*3/4.))\n",
    "ax = fig.add_subplot(111)\n",
    "time_grid = np.linspace(t_K2, t_tess, Nout)\n",
    "\n",
    "size=100\n",
    "\n",
    "c_efree = np.logspace(-4,-1.5, 100)\n",
    "#c_mu2 = np.array([(10**param[-2])/9.54e-4 for param in rv_inres_deltaT[:size]])\n",
    "norm = mpl.colors.Normalize(vmin=c_efree.min(), vmax=c_efree.max())\n",
    "#norm2 = mpl.colors.Normalize(vmin=c_mu2.min(), vmax=c_mu2.max())\n",
    "cmap = mpl.cm.ScalarMappable(norm=norm, cmap=mpl.cm.magma)\n",
    "#cmap2 = mpl.cm.ScalarMappable(norm=norm2, cmap=mpl.cm.viridis)\n",
    "cmap.set_array([])\n",
    "#cmap2.set_array([])\n",
    "\n",
    "for i,ef in tqdm(enumerate(c_efree)):\n",
    "#    if i == 0:\n",
    "#        sim = makesim(test[:4])\n",
    "#        period_ratios = run(sim) \n",
    "#        ax.plot(time_grid,period_ratios,\n",
    "#             alpha=1.0,zorder=0, c='k',lw=5.0,\n",
    "#             rasterized=True)\n",
    "#    else:\n",
    "    test2[1] = ef\n",
    "\n",
    "    sim = makesim(test2[:4])\n",
    "    period_ratios = run(sim)\n",
    "\n",
    "    ax.plot(time_grid,period_ratios,\n",
    "         alpha=0.5,zorder=1, c=cmap.to_rgba(c_efree[i]),\n",
    "         rasterized=True)\n",
    "\n",
    "ax.errorbar(time_grid[[0, -1]],obs,yerr=obs_err, fmt='o',ms=7, c='r',ecolor='b',zorder=1,capsize=5, capthick=2)\n",
    "ax.set_ylabel('Period ratio [P$_d$/P$_c$]',fontsize=30)\n",
    "#ax.set_ylim(1.493, 1.510)\n",
    "ax.set_xlabel('Time [BKJD - 2454833]',fontsize=30)\n",
    "\n",
    "ax.tick_params(axis='y', labelsize=30)\n",
    "ax.tick_params(axis='x', labelsize=30)\n",
    "\n",
    "t_cbar = fig.colorbar(cmap)\n",
    "t_cbar.set_label(r'$e_{\\rm{free}}$', fontsize=25)\n",
    "t_cbar.ax.tick_params(labelsize=30)\n",
    "plt.show()\n",
    "#plt.savefig('figures/Figure2b.pdf',dpi=300,bbox_inches='tight',padding=0)"
   ]
  },
  {
   "cell_type": "code",
   "execution_count": null,
   "id": "83e93629",
   "metadata": {
    "ExecuteTime": {
     "end_time": "2022-03-01T00:25:16.886921Z",
     "start_time": "2022-03-01T00:25:16.880120Z"
    }
   },
   "outputs": [],
   "source": [
    "c_efree = np.logspace(-6,-1.3, 300)\n",
    "test2 = test.copy()\n",
    "zfree_params = []\n",
    "for i,ef in enumerate(c_efree):\n",
    "    test3 = test2.copy()\n",
    "    test3[1] = ef\n",
    "    zfree_params.append(test3[:4])"
   ]
  },
  {
   "cell_type": "code",
   "execution_count": null,
   "id": "8ad3dd9c",
   "metadata": {
    "ExecuteTime": {
     "end_time": "2022-03-01T18:10:31.630317Z",
     "start_time": "2022-03-01T18:10:24.425462Z"
    }
   },
   "outputs": [],
   "source": [
    "%matplotlib inline\n",
    "fig = plt.figure(1,figsize=(4*3.4, 4.0*3.4*3/4.)\n",
    "                         #gridspec_kw={'width_ratios': [1, 0.80]}\n",
    "                       )\n",
    "ax1 = fig.add_subplot(111)\n",
    "#ax2 = axes[1]\n",
    "\n",
    "phis = np.linspace(0, 2*np.pi, 1000)\n",
    "sep_upper = np.sin(phis/2)\n",
    "ax1.plot(phis, sep_upper, 'k')\n",
    "ax1.plot(phis, -sep_upper, 'k')\n",
    "ax1.set_xlim([0,2*np.pi])\n",
    "ax1.set_xlabel('Resonant angle $\\phi$',fontsize=30)\n",
    "ax1.set_ylabel('Normalized period ratio deviation',fontsize=30)\n",
    "#cb = ax.scatter(phi, Phinorm, c=spock_prob, alpha=spock_prob, s=20)\n",
    "    \n",
    "j = 3\n",
    "k = 1\n",
    "catseye_test = np.array(zfree_params)\n",
    "\n",
    "phi_test, Phinorm_test = get_Phinorm(catseye_test)\n",
    "\n",
    "\n",
    "\n",
    "cb=ax1.scatter(phi_test, Phinorm_test, \n",
    "              c=c_efree,norm=colors.LogNorm(vmin=c_efree.min(), vmax=c_efree.max()),\n",
    "              s=10, rasterized=True,cmap='viridis')\n",
    "ax1.axhline(0.0)\n",
    "#cb=ax1.scatter(phi_rv, Phinorm_rv, \n",
    "#              c=[param[2] for param in rv_inres], \n",
    "#              s=10, rasterized=True)\n",
    "\n",
    "cbar1 = fig.colorbar(cb, ax=ax1)\n",
    "cbar1.set_label(r'$e_{\\rm{free}}$', fontsize=30)\n",
    "cbar1.ax.tick_params(labelsize=30)\n",
    "\n",
    "ax1.minorticks_on()\n",
    "\n",
    "ax1.tick_params(axis='y', labelsize=30)\n",
    "ax1.tick_params(axis='x', labelsize=30)\n",
    "\n",
    "#plt.tight_layout()\n",
    "#plt.subplots_adjust(wspace=0.07)\n",
    "plt.show()\n",
    "#plt.savefig('figures/Figure2_stability.pdf',dpi=300,bbox_inches='tight',padding=0)"
   ]
  },
  {
   "cell_type": "code",
   "execution_count": null,
   "id": "d1b40883",
   "metadata": {
    "ExecuteTime": {
     "end_time": "2022-02-28T22:55:42.410395Z",
     "start_time": "2022-02-28T22:55:37.489869Z"
    }
   },
   "outputs": [],
   "source": [
    "fig = plt.figure(1,figsize=(7*3.4, 2.5*3.4*3/4.))\n",
    "ax = fig.add_subplot(111)\n",
    "time_grid = np.linspace(t_K2, t_tess, Nout)\n",
    "\n",
    "#size=100\n",
    "\n",
    "#c_efree = np.logspace(-4,-1.5, 100)\n",
    "#c_mu2 = np.array([(10**param[-2])/9.54e-4 for param in rv_inres_deltaT[:size]])\n",
    "norm = mpl.colors.Normalize(vmin=c_efree.min(), vmax=c_efree.max())\n",
    "#norm2 = mpl.colors.Normalize(vmin=c_mu2.min(), vmax=c_mu2.max())\n",
    "cmap = mpl.cm.ScalarMappable(norm=norm, cmap=mpl.cm.viridis)\n",
    "#cmap2 = mpl.cm.ScalarMappable(norm=norm2, cmap=mpl.cm.viridis)\n",
    "cmap.set_array([])\n",
    "#cmap2.set_array([])\n",
    "\n",
    "for i,param in tqdm(enumerate(zfree_params)):\n",
    "    #test[1] = ef\n",
    "\n",
    "    sim = makesim(param)\n",
    "    #megno = sim.calculate_megno()\n",
    "    period_ratios, megno = run(sim)\n",
    "\n",
    "    ax.plot(time_grid,period_ratios,\n",
    "         alpha=0.5,zorder=1, c=cmap.to_rgba(c_efree[i]),\n",
    "            #norm=colors.LogNorm(vmin=c_efree.min(), vmax=c_efree.max()),\n",
    "         rasterized=True)\n",
    "\n",
    "ax.errorbar(time_grid[[0, -1]],obs,yerr=obs_err, fmt='o',ms=7, c='r',ecolor='b',zorder=1,capsize=5, capthick=2)\n",
    "ax.set_ylabel('Period ratio [P$_d$/P$_c$]',fontsize=30)\n",
    "#ax.set_ylim(1.493, 1.510)\n",
    "ax.set_xlabel('Time [BKJD - 2454833]',fontsize=30)\n",
    "\n",
    "ax.tick_params(axis='y', labelsize=30)\n",
    "ax.tick_params(axis='x', labelsize=30)\n",
    "\n",
    "t_cbar = fig.colorbar(cmap)\n",
    "t_cbar.set_label(r'$e_{\\rm{free}}$', fontsize=25)\n",
    "t_cbar.ax.tick_params(labelsize=30)\n",
    "plt.show()\n",
    "#plt.savefig('figures/Figure2b.pdf',dpi=300,bbox_inches='tight',padding=0)"
   ]
  },
  {
   "cell_type": "code",
   "execution_count": null,
   "id": "2794a6b0",
   "metadata": {
    "ExecuteTime": {
     "end_time": "2022-03-01T02:07:00.022751Z",
     "start_time": "2022-03-01T02:06:58.288191Z"
    }
   },
   "outputs": [],
   "source": [
    "sim_list = [makesim(param) for param in zfree_params]"
   ]
  },
  {
   "cell_type": "code",
   "execution_count": null,
   "id": "7f54b577",
   "metadata": {
    "ExecuteTime": {
     "end_time": "2022-03-01T02:07:04.734277Z",
     "start_time": "2022-03-01T02:07:00.545651Z"
    }
   },
   "outputs": [],
   "source": [
    "megno_test = np.array([run(sim)[1] for sim in sim_list])"
   ]
  },
  {
   "cell_type": "code",
   "execution_count": null,
   "id": "ccff5d5d",
   "metadata": {
    "ExecuteTime": {
     "end_time": "2022-03-01T02:07:05.232952Z",
     "start_time": "2022-03-01T02:07:05.225250Z"
    }
   },
   "outputs": [],
   "source": [
    "megno_test[megno_test >= 2.0]"
   ]
  },
  {
   "cell_type": "code",
   "execution_count": null,
   "id": "06acf31e",
   "metadata": {
    "ExecuteTime": {
     "end_time": "2022-03-01T13:09:18.083457Z",
     "start_time": "2022-03-01T13:09:17.330870Z"
    }
   },
   "outputs": [],
   "source": [
    "%matplotlib inline\n",
    "fig = plt.figure(1,figsize=(7*3.4, 4.0*3.4*3/4.)\n",
    "                         #gridspec_kw={'width_ratios': [1, 0.80]}\n",
    "                       )\n",
    "ax1 = fig.add_subplot(121)\n",
    "ax2 = fig.add_subplot(122)\n",
    "\n",
    "phis = np.linspace(0, 2*np.pi, 1000)\n",
    "sep_upper = np.sin(phis/2)\n",
    "ax1.plot(phis, sep_upper, 'k')\n",
    "ax1.plot(phis, -sep_upper, 'k')\n",
    "ax1.set_xlim([0,2*np.pi])\n",
    "ax1.set_xlabel('Resonant angle $\\phi$',fontsize=30)\n",
    "ax1.set_ylabel('Normalized period ratio deviation',fontsize=30)\n",
    "#cb = ax.scatter(phi, Phinorm, c=spock_prob, alpha=spock_prob, s=20)\n",
    "    \n",
    "#j = 3\n",
    "#k = 1\n",
    "#catseye_test = np.array(zfree_params)\n",
    "\n",
    "#phi_test, Phinorm_test = get_Phinorm(catseye_test)\n",
    "\n",
    "ax1.scatter(phi_test[megno_test < 2.0], Phinorm_test[megno_test < 2.0], \n",
    "              c='k',\n",
    "              s=30, rasterized=True, label=\"MEGNO $< 2.0$\")\n",
    "ax1.scatter(phi_test[megno_test >= 2.0], Phinorm_test[megno_test >= 2.0], \n",
    "              c='r',\n",
    "              s=30, rasterized=True, label=\"MEGNO $\\geq 2.0$\")\n",
    "\n",
    "#cbar1 = fig.colorbar(cb, ax=ax1)\n",
    "#cbar1.set_label(r'$e_{\\rm{free}}$', fontsize=30)\n",
    "#cbar1.ax.tick_params(labelsize=30)\n",
    "ax1.legend()\n",
    "\n",
    "ax1.minorticks_on()\n",
    "\n",
    "ax1.tick_params(axis='y', labelsize=30)\n",
    "ax1.tick_params(axis='x', labelsize=30)\n",
    "ax1.set_ylim(-1.2, 1.2)\n",
    "\n",
    "ax2.plot(phis, sep_upper, 'k')\n",
    "ax2.plot(phis, -sep_upper, 'k')\n",
    "ax2.set_xlim([0,2*np.pi])\n",
    "ax2.set_xlabel('Resonant angle $\\phi$',fontsize=30)\n",
    "#ax2.set_ylabel('Normalized period ratio deviation',fontsize=30)\n",
    "#cb = ax.scatter(phi, Phinorm, c=spock_prob, alpha=spock_prob, s=20)\n",
    "    \n",
    "#j = 3\n",
    "#k = 1\n",
    "#catseye_test = np.array(zfree_params)\n",
    "\n",
    "#phi_test, Phinorm_test = get_Phinorm(catseye_test)\n",
    "\n",
    "ax2.scatter(phi_rv, Phinorm_rv, alpha=0.1,\n",
    "              c='k',\n",
    "              s=30, rasterized=True)\n",
    "\n",
    "ax2.scatter(phi_test[megno_test < 2.0], Phinorm_test[megno_test < 2.0], \n",
    "              c='b',\n",
    "              s=40, rasterized=True, label=\"MEGNO $< 2.0$\")\n",
    "ax2.scatter(phi_test[megno_test >= 2.0], Phinorm_test[megno_test >= 2.0], \n",
    "              c='r',\n",
    "              s=40, rasterized=True, label=\"MEGNO $\\geq 2.0$\")\n",
    "\n",
    "u1 = np.pi\n",
    "v1 = -0.02\n",
    "a1 = 0.58\n",
    "b1 = 0.22\n",
    "theta = np.linspace(0, 2*np.pi, len(phi_rv))\n",
    "#ax2.plot(u1+a1*np.cos(theta),v1+b1*np.sin(theta), c='g', lw=3)\n",
    "\n",
    "u2 = np.pi\n",
    "v2 = -0.02\n",
    "a2 = 1.55*0.58\n",
    "b2 = 1.55*0.19\n",
    "theta = np.linspace(0, 2*np.pi, len(phi_rv))\n",
    "#ax2.plot(u2+a2*np.cos(theta),v2+b2*np.sin(theta), c='g', lw=3)\n",
    "ax2.axhline(b2, lw=2)\n",
    "ax2.axhline(b1, lw=2)\n",
    "ax2.axvline(np.pi - a1, lw=2)\n",
    "ax2.axvline(np.pi + a1, lw=2)\n",
    "\n",
    "ax2.minorticks_on()\n",
    "\n",
    "ax2.tick_params(axis='y', labelsize=30)\n",
    "ax2.tick_params(axis='x', labelsize=30)\n",
    "ax2.set_ylim(-1.2, 1.2)\n",
    "\n",
    "#plt.tight_layout()\n",
    "#plt.subplots_adjust(wspace=0.07)\n",
    "plt.show()\n",
    "#plt.savefig('figures/Figure2_stability.pdf',dpi=300,bbox_inches='tight',padding=0)"
   ]
  },
  {
   "cell_type": "code",
   "execution_count": null,
   "id": "73488a20",
   "metadata": {
    "ExecuteTime": {
     "end_time": "2022-03-01T03:17:05.231313Z",
     "start_time": "2022-03-01T03:17:05.225075Z"
    }
   },
   "outputs": [],
   "source": [
    "lower_phi, lower_phinorm = u1+a1*np.cos(theta),v1+b1*np.sin(theta)\n",
    "upper_phi, upper_phinorm = u2+a2*np.cos(theta),v2+b2*np.sin(theta)"
   ]
  },
  {
   "cell_type": "code",
   "execution_count": null,
   "id": "31641c9a",
   "metadata": {
    "ExecuteTime": {
     "end_time": "2022-03-01T03:35:12.552967Z",
     "start_time": "2022-03-01T03:35:12.546555Z"
    }
   },
   "outputs": [],
   "source": [
    "# the first one is also stable but we wanna know how many unstable we have in the region\n",
    "rv_inres2 = rv_post[deltaH_cd < 0.0]\n",
    "preds_inres = preds_rv[deltaH_cd < 0.0]\n",
    "print(len(rv_inres2), len(preds_inres))"
   ]
  },
  {
   "cell_type": "code",
   "execution_count": null,
   "id": "dc8b88f9",
   "metadata": {
    "ExecuteTime": {
     "end_time": "2022-03-01T03:52:04.686218Z",
     "start_time": "2022-03-01T03:52:04.681275Z"
    }
   },
   "outputs": [],
   "source": [
    "empty_region_test = rv_inres2[(Phinorm_rv > b1) & (phi_rv > np.pi - a1) &\\\n",
    "                              (Phinorm_rv < b2) & (phi_rv < np.pi + a2)]\n",
    "\n",
    "empty_region_probs = preds_inres[(Phinorm_rv > b1) & (phi_rv > np.pi - a1) &\\\n",
    "                              (Phinorm_rv < b2) & (phi_rv < np.pi + a2)]\n",
    "\n",
    "print(len(empty_region_test),len(empty_region_probs))"
   ]
  },
  {
   "cell_type": "code",
   "execution_count": null,
   "id": "289b68ad",
   "metadata": {
    "ExecuteTime": {
     "end_time": "2022-03-01T03:52:05.444794Z",
     "start_time": "2022-03-01T03:52:05.440542Z"
    }
   },
   "outputs": [],
   "source": [
    "len(empty_region_test[empty_region_probs == 0.0])/len(empty_region_test)"
   ]
  },
  {
   "cell_type": "code",
   "execution_count": null,
   "id": "7cc91186",
   "metadata": {
    "ExecuteTime": {
     "end_time": "2022-03-01T13:11:36.147296Z",
     "start_time": "2022-03-01T13:11:35.965305Z"
    }
   },
   "outputs": [],
   "source": [
    "plt.hist(empty_region_probs[empty_region_probs != 0.0],histtype='step',bins=50)\n",
    "plt.xlabel('non-zero SPOCK probabilities in empty region')\n",
    "plt.show()"
   ]
  },
  {
   "cell_type": "code",
   "execution_count": null,
   "id": "96fdc0b3",
   "metadata": {
    "ExecuteTime": {
     "end_time": "2022-03-01T04:10:04.657768Z",
     "start_time": "2022-03-01T04:10:01.654643Z"
    }
   },
   "outputs": [],
   "source": [
    "sim_list_b = []\n",
    "for i, param in enumerate(empty_region_test):\n",
    "    sim = makesim(param[:4])\n",
    "    pomega_b = float(np.random.uniform(0, 2*np.pi, size=1))\n",
    "    theta_b = float(np.random.uniform(0, 2*np.pi, size=1))\n",
    "    sim.add(m = 10**param[-2], P=sim.particles[2].P*1.946, e=param[-1], pomega=pomega_b, theta=theta_b)\n",
    "    sim_list_b.append(sim)"
   ]
  },
  {
   "cell_type": "code",
   "execution_count": null,
   "id": "be41d440",
   "metadata": {
    "ExecuteTime": {
     "end_time": "2022-03-01T04:10:27.808965Z",
     "start_time": "2022-03-01T04:10:27.261133Z"
    }
   },
   "outputs": [],
   "source": [
    "model = FeatureClassifier()\n",
    "model.predict_stable(sim_list_b[0])"
   ]
  },
  {
   "cell_type": "code",
   "execution_count": null,
   "id": "57163099",
   "metadata": {
    "ExecuteTime": {
     "end_time": "2022-03-01T04:18:27.054536Z",
     "start_time": "2022-03-01T04:18:26.992485Z"
    }
   },
   "outputs": [],
   "source": [
    "model.generate_features(sim_list_b[0])"
   ]
  },
  {
   "cell_type": "code",
   "execution_count": null,
   "id": "52ecff4c",
   "metadata": {
    "ExecuteTime": {
     "end_time": "2022-03-01T04:30:35.321999Z",
     "start_time": "2022-03-01T04:29:12.342641Z"
    }
   },
   "outputs": [],
   "source": [
    "megno = np.array([model.generate_features(sim)[0][0]['MEGNO'] for sim in sim_list_b])"
   ]
  },
  {
   "cell_type": "code",
   "execution_count": null,
   "id": "ff9d8ea9",
   "metadata": {
    "ExecuteTime": {
     "end_time": "2022-03-01T04:32:25.495968Z",
     "start_time": "2022-03-01T04:32:25.490790Z"
    }
   },
   "outputs": [],
   "source": [
    "np.sum(~np.isnan(megno))"
   ]
  },
  {
   "cell_type": "code",
   "execution_count": null,
   "id": "2cb32a05",
   "metadata": {
    "ExecuteTime": {
     "end_time": "2022-03-01T04:40:05.713759Z",
     "start_time": "2022-03-01T04:40:05.707858Z"
    }
   },
   "outputs": [],
   "source": [
    "megno_ = megno[np.where(~np.isnan(megno))[0]]\n",
    "len(megno_[megno_ > 2.5])/len(megno_)"
   ]
  },
  {
   "cell_type": "code",
   "execution_count": null,
   "id": "b91afd76",
   "metadata": {
    "ExecuteTime": {
     "end_time": "2022-03-01T13:14:27.328651Z",
     "start_time": "2022-03-01T13:14:27.135739Z"
    }
   },
   "outputs": [],
   "source": [
    "plt.figure(figsize=(10,8))\n",
    "plt.scatter(empty_region_probs[np.where(~np.isnan(megno))[0]], megno[np.where(~np.isnan(megno))[0]])\n",
    "plt.axhline(y=2.0, c='r')\n",
    "plt.xlabel('SPOCK prob.')\n",
    "plt.ylabel('MEGNO SPOCK feature')\n",
    "#plt.yscale('log')"
   ]
  },
  {
   "cell_type": "code",
   "execution_count": null,
   "id": "88f47f0c",
   "metadata": {
    "ExecuteTime": {
     "end_time": "2022-03-01T04:46:46.417074Z",
     "start_time": "2022-03-01T04:44:01.176804Z"
    }
   },
   "outputs": [],
   "source": [
    "sim_list_c = []\n",
    "for i, param in tqdm(enumerate(rv_inres2)):\n",
    "    sim = makesim(param[:4])\n",
    "    pomega_b = float(np.random.uniform(0, 2*np.pi, size=1))\n",
    "    theta_b = float(np.random.uniform(0, 2*np.pi, size=1))\n",
    "    sim.add(m = 10**param[-2], P=sim.particles[2].P*1.946, e=param[-1], pomega=pomega_b, theta=theta_b)\n",
    "    sim_list_c.append(sim)"
   ]
  },
  {
   "cell_type": "code",
   "execution_count": null,
   "id": "f27c8539",
   "metadata": {
    "ExecuteTime": {
     "end_time": "2022-03-01T05:52:02.301688Z",
     "start_time": "2022-03-01T04:46:53.748373Z"
    }
   },
   "outputs": [],
   "source": [
    "megno_arr = np.array([model.generate_features(sim)[0][0]['MEGNO'] for sim in tqdm(sim_list_c)])"
   ]
  },
  {
   "cell_type": "code",
   "execution_count": null,
   "id": "ca50bad3",
   "metadata": {
    "ExecuteTime": {
     "end_time": "2022-03-01T13:00:51.270115Z",
     "start_time": "2022-03-01T13:00:51.266223Z"
    }
   },
   "outputs": [],
   "source": [
    "len(megno_arr)"
   ]
  },
  {
   "cell_type": "code",
   "execution_count": null,
   "id": "6bc4156d",
   "metadata": {
    "ExecuteTime": {
     "end_time": "2022-03-01T13:01:39.870340Z",
     "start_time": "2022-03-01T13:01:39.864706Z"
    }
   },
   "outputs": [],
   "source": [
    "megno_arr"
   ]
  },
  {
   "cell_type": "code",
   "execution_count": null,
   "id": "0c380eb4",
   "metadata": {
    "ExecuteTime": {
     "end_time": "2022-03-01T12:59:25.454287Z",
     "start_time": "2022-03-01T12:59:25.449663Z"
    }
   },
   "outputs": [],
   "source": [
    "len(np.where(~np.isnan(megno_arr))[0])"
   ]
  },
  {
   "cell_type": "code",
   "execution_count": null,
   "id": "23120a0d",
   "metadata": {
    "ExecuteTime": {
     "end_time": "2022-03-01T13:00:22.164553Z",
     "start_time": "2022-03-01T13:00:22.160361Z"
    }
   },
   "outputs": [],
   "source": [
    "len(megno_arr[megno_arr > 2.5])"
   ]
  },
  {
   "cell_type": "code",
   "execution_count": null,
   "id": "7df14df1",
   "metadata": {
    "ExecuteTime": {
     "end_time": "2022-03-01T13:00:37.901556Z",
     "start_time": "2022-03-01T13:00:37.897331Z"
    }
   },
   "outputs": [],
   "source": [
    "len(megno_arr[megno_arr <= 2.5])"
   ]
  },
  {
   "cell_type": "code",
   "execution_count": null,
   "id": "b8abb161",
   "metadata": {
    "ExecuteTime": {
     "end_time": "2022-03-01T13:20:36.690822Z",
     "start_time": "2022-03-01T13:20:36.177600Z"
    }
   },
   "outputs": [],
   "source": [
    "%matplotlib inline\n",
    "fig = plt.figure(1,figsize=(4.0*3.4, 4.0*3.4*3/4.)\n",
    "                         #gridspec_kw={'width_ratios': [1, 0.80]}\n",
    "                       )\n",
    "#ax1 = fig.add_subplot(121)\n",
    "ax2 = fig.add_subplot(111)\n",
    "\n",
    "phis = np.linspace(0, 2*np.pi, 1000)\n",
    "sep_upper = np.sin(phis/2)\n",
    "\n",
    "ax2.plot(phis, sep_upper, 'k')\n",
    "ax2.plot(phis, -sep_upper, 'k')\n",
    "ax2.set_xlim([0,2*np.pi])\n",
    "ax2.set_xlabel('Resonant angle $\\phi$',fontsize=30)\n",
    "ax2.set_xlabel('Resonant angle $\\phi$',fontsize=30)\n",
    "#ax2.set_ylabel('Normalized period ratio deviation',fontsize=30)\n",
    "#cb = ax.scatter(phi, Phinorm, c=spock_prob, alpha=spock_prob, s=20)\n",
    "    \n",
    "#j = 3\n",
    "#k = 1\n",
    "#catseye_test = np.array(zfree_params)\n",
    "\n",
    "#phi_test, Phinorm_test = get_Phinorm(catseye_test)\n",
    "megno_arr_ = megno_arr[np.where(~np.isnan(megno_arr))[0]]\n",
    "cb=ax2.scatter(phi_rv[np.where(~np.isnan(megno_arr))[0]], Phinorm_rv[np.where(~np.isnan(megno_arr))[0]], \n",
    "              c=megno_arr_,norm=colors.LogNorm(vmin=megno_arr_.min(), vmax=megno_arr_.max()),\n",
    "              s=10, rasterized=True,cmap='gnuplot')\n",
    "#cb=ax1.scatter(phi_rv, Phinorm_rv, \n",
    "#              c=[param[2] for param in rv_inres], \n",
    "#              s=10, rasterized=True)\n",
    "\n",
    "cbar1 = fig.colorbar(cb, ax=ax2)\n",
    "cbar1.set_label(r'MEGNO', fontsize=30)\n",
    "cbar1.ax.tick_params(labelsize=30)\n",
    "\n",
    "#ax2.scatter(phi_test[megno_test < 2.0], Phinorm_test[megno_test < 2.0], \n",
    "#              c='b',\n",
    "#              s=40, rasterized=True, label=\"MEGNO $< 2.0$\")\n",
    "#ax2.scatter(phi_test[megno_test >= 2.0], Phinorm_test[megno_test >= 2.0], \n",
    "#              c='r',\n",
    "#              s=40, rasterized=True, label=\"MEGNO $\\geq 2.0$\")\n",
    "#ax2.axhline(b2, lw=1)\n",
    "#ax2.axhline(b1, lw=1)\n",
    "#ax2.axvline(np.pi - a1, lw=1)\n",
    "#ax2.axvline(np.pi + a1, lw=1)\n",
    "\n",
    "ax2.minorticks_on()\n",
    "\n",
    "ax2.tick_params(axis='y', labelsize=30)\n",
    "ax2.tick_params(axis='x', labelsize=30)\n",
    "ax2.set_ylim(-1.2, 1.2)\n",
    "\n",
    "#plt.tight_layout()\n",
    "#plt.subplots_adjust(wspace=0.07)\n",
    "plt.show()\n",
    "#plt.savefig('figures/Figure2_stability.pdf',dpi=300,bbox_inches='tight',padding=0)"
   ]
  },
  {
   "cell_type": "code",
   "execution_count": null,
   "id": "ab3629cc",
   "metadata": {},
   "outputs": [],
   "source": []
  },
  {
   "cell_type": "code",
   "execution_count": null,
   "id": "6eb1481a",
   "metadata": {
    "ExecuteTime": {
     "end_time": "2022-03-01T02:29:11.946913Z",
     "start_time": "2022-03-01T02:29:11.941770Z"
    }
   },
   "outputs": [],
   "source": [
    "def spock_pred(simlist):\n",
    "    model = FeatureClassifier()\n",
    "    return model.predict_stable(simlist)"
   ]
  },
  {
   "cell_type": "code",
   "execution_count": null,
   "id": "5358d783",
   "metadata": {},
   "outputs": [],
   "source": []
  },
  {
   "cell_type": "code",
   "execution_count": null,
   "id": "b51403d1",
   "metadata": {},
   "outputs": [],
   "source": []
  },
  {
   "cell_type": "code",
   "execution_count": null,
   "id": "12ee8aaa",
   "metadata": {
    "ExecuteTime": {
     "end_time": "2022-03-01T02:31:01.916289Z",
     "start_time": "2022-03-01T02:31:01.907812Z"
    }
   },
   "outputs": [],
   "source": [
    "c_efree = np.logspace(-6,-1.3, 300)\n",
    "test4 = test.copy()\n",
    "zfree_params = []\n",
    "for i,ef in enumerate(c_efree):\n",
    "    test5 = test4.copy()\n",
    "    test5[1] = ef\n",
    "    zfree_params.append(test5)"
   ]
  },
  {
   "cell_type": "code",
   "execution_count": null,
   "id": "f400003b",
   "metadata": {
    "ExecuteTime": {
     "end_time": "2022-03-01T18:14:47.040508Z",
     "start_time": "2022-03-01T18:14:47.034054Z"
    }
   },
   "outputs": [],
   "source": [
    "test"
   ]
  },
  {
   "cell_type": "code",
   "execution_count": null,
   "id": "70257021",
   "metadata": {
    "ExecuteTime": {
     "end_time": "2022-03-01T02:34:43.198977Z",
     "start_time": "2022-03-01T02:34:41.450289Z"
    }
   },
   "outputs": [],
   "source": [
    "sim_list_b = []\n",
    "for i, param in enumerate(zfree_params):\n",
    "    sim = makesim(param[:4])\n",
    "    pomega_b = float(np.random.uniform(0, 2*np.pi, size=1))\n",
    "    theta_b = float(np.random.uniform(0, 2*np.pi, size=1))\n",
    "    sim.add(m = 10**param[-2], P=sim.particles[2].P*1.946, e=param[-1], pomega=pomega_b, theta=theta_b)\n",
    "    sim_list_b.append(sim)"
   ]
  },
  {
   "cell_type": "code",
   "execution_count": null,
   "id": "bec79109",
   "metadata": {
    "ExecuteTime": {
     "end_time": "2022-03-01T02:35:31.917980Z",
     "start_time": "2022-03-01T02:34:50.784610Z"
    }
   },
   "outputs": [],
   "source": [
    "spock_prob_test = spock_pred(sim_list_b)"
   ]
  },
  {
   "cell_type": "code",
   "execution_count": null,
   "id": "2c224c0a",
   "metadata": {
    "ExecuteTime": {
     "end_time": "2022-03-01T02:35:45.080326Z",
     "start_time": "2022-03-01T02:35:45.072066Z"
    },
    "scrolled": true
   },
   "outputs": [],
   "source": [
    "spock_prob_test"
   ]
  },
  {
   "cell_type": "code",
   "execution_count": null,
   "id": "7b1c397f",
   "metadata": {
    "ExecuteTime": {
     "end_time": "2022-03-01T13:04:38.667598Z",
     "start_time": "2022-03-01T13:04:38.058264Z"
    }
   },
   "outputs": [],
   "source": [
    "%matplotlib inline\n",
    "fig = plt.figure(1,figsize=(7*3.4, 4.0*3.4*3/4.)\n",
    "                         #gridspec_kw={'width_ratios': [1, 0.80]}\n",
    "                       )\n",
    "ax1 = fig.add_subplot(121)\n",
    "ax2 = fig.add_subplot(122)\n",
    "\n",
    "phis = np.linspace(0, 2*np.pi, 1000)\n",
    "sep_upper = np.sin(phis/2)\n",
    "ax1.plot(phis, sep_upper, 'k')\n",
    "ax1.plot(phis, -sep_upper, 'k')\n",
    "ax1.set_xlim([0,2*np.pi])\n",
    "ax1.set_xlabel('Resonant angle $\\phi$',fontsize=30)\n",
    "ax1.set_ylabel('Normalized period ratio deviation',fontsize=30)\n",
    "\n",
    "\n",
    "ax1.scatter(phi_test[megno_test < 2.0], Phinorm_test[megno_test < 2.0], \n",
    "              c='k',\n",
    "              s=30, rasterized=True, label=\"MEGNO $< 2.0$\")\n",
    "ax1.scatter(phi_test[megno_test >= 2.0], Phinorm_test[megno_test >= 2.0], \n",
    "              c='r',\n",
    "              s=30, rasterized=True, label=\"MEGNO $\\geq 2.0$\")\n",
    "\n",
    "#ax1.plot(x,y)\n",
    "\n",
    "#cbar1 = fig.colorbar(cb, ax=ax1)\n",
    "#cbar1.set_label(r'$e_{\\rm{free}}$', fontsize=30)\n",
    "#cbar1.ax.tick_params(labelsize=30)\n",
    "ax1.legend()\n",
    "\n",
    "ax1.minorticks_on()\n",
    "\n",
    "ax1.tick_params(axis='y', labelsize=30)\n",
    "ax1.tick_params(axis='x', labelsize=30)\n",
    "ax1.set_ylim(-1.2, 1.2)\n",
    "\n",
    "ax2.plot(phis, sep_upper, 'k')\n",
    "ax2.plot(phis, -sep_upper, 'k')\n",
    "ax2.set_xlim([0,2*np.pi])\n",
    "ax2.set_xlabel('Resonant angle $\\phi$',fontsize=30)\n",
    "ax2.set_ylabel('Normalized period ratio deviation',fontsize=30)\n",
    "#cb = ax.scatter(phi, Phinorm, c=spock_prob, alpha=spock_prob, s=20)\n",
    "    \n",
    "#j = 3\n",
    "#k = 1\n",
    "#catseye_test = np.array(zfree_params)\n",
    "\n",
    "#phi_test, Phinorm_test = get_Phinorm(catseye_test)\n",
    "\n",
    "ax2.scatter(phi_test[megno_test < 2.0], Phinorm_test[megno_test < 2.0], \n",
    "              c='k',\n",
    "              s=30, rasterized=True, label=\"MEGNO $< 2.0$\", alpha=spock_prob_test[megno_test<2.0])\n",
    "ax2.scatter(phi_test[megno_test >= 2.0], Phinorm_test[megno_test >= 2.0], \n",
    "              c='r',\n",
    "              s=30, rasterized=True, label=\"MEGNO $\\geq 2.0$\", alpha=spock_prob_test[megno_test>=2.0])\n",
    "\n",
    "#cbar1 = fig.colorbar(cb, ax=ax1)\n",
    "#cbar1.set_label(r'$e_{\\rm{free}}$', fontsize=30)\n",
    "#cbar1.ax.tick_params(labelsize=30)\n",
    "#ax1.legend()\n",
    "\n",
    "ax2.minorticks_on()\n",
    "\n",
    "ax2.tick_params(axis='y', labelsize=30)\n",
    "ax2.tick_params(axis='x', labelsize=30)\n",
    "ax2.set_ylim(-1.2, 1.2)\n",
    "\n",
    "#plt.tight_layout()\n",
    "#plt.subplots_adjust(wspace=0.07)\n",
    "plt.show()\n",
    "#plt.savefig('figures/Figure2_stability.pdf',dpi=300,bbox_inches='tight',padding=0)"
   ]
  },
  {
   "cell_type": "code",
   "execution_count": null,
   "id": "54c4d199",
   "metadata": {},
   "outputs": [],
   "source": []
  },
  {
   "cell_type": "code",
   "execution_count": null,
   "id": "57ea87b0",
   "metadata": {},
   "outputs": [],
   "source": []
  },
  {
   "cell_type": "code",
   "execution_count": null,
   "id": "6aaa28a3",
   "metadata": {},
   "outputs": [],
   "source": []
  },
  {
   "cell_type": "code",
   "execution_count": null,
   "id": "13fa9252",
   "metadata": {},
   "outputs": [],
   "source": []
  },
  {
   "cell_type": "code",
   "execution_count": null,
   "id": "c1f92e24",
   "metadata": {},
   "outputs": [],
   "source": []
  },
  {
   "cell_type": "markdown",
   "id": "454cdf34",
   "metadata": {},
   "source": [
    "# Getting all configs that appear between the cat's eye rings...\n",
    "\n",
    "Selecting all in-resonance and stable configs that lie in the cat's eye gap between 0.2 < Phinorm < 0.3"
   ]
  },
  {
   "cell_type": "code",
   "execution_count": null,
   "id": "63483eb6",
   "metadata": {
    "ExecuteTime": {
     "end_time": "2022-02-28T01:19:04.670651Z",
     "start_time": "2022-02-28T01:19:04.657903Z"
    }
   },
   "outputs": [],
   "source": [
    "bet = rv_inres[(Phinorm_rv[preds_rv[deltaH_cd < 0.0] != 0.0] > 0.2) &\\\n",
    "               (Phinorm_rv[preds_rv[deltaH_cd < 0.0] != 0.0] < 0.3) &\\\n",
    "              (phi_rv[preds_rv[deltaH_cd < 0.0] != 0.0] < 3.4)&\\\n",
    "              (phi_rv[preds_rv[deltaH_cd < 0.0] != 0.0] > 3.0)]\n",
    "len(bet)"
   ]
  },
  {
   "cell_type": "code",
   "execution_count": null,
   "id": "4380525e",
   "metadata": {
    "ExecuteTime": {
     "end_time": "2022-02-28T01:19:25.997989Z",
     "start_time": "2022-02-28T01:19:25.993257Z"
    }
   },
   "outputs": [],
   "source": [
    "bet"
   ]
  },
  {
   "cell_type": "code",
   "execution_count": null,
   "id": "c7ef9de4",
   "metadata": {
    "ExecuteTime": {
     "end_time": "2022-02-28T01:20:20.829637Z",
     "start_time": "2022-02-28T01:20:20.380246Z"
    }
   },
   "outputs": [],
   "source": [
    "fig = plt.figure(1,figsize=(2.2*3.4, 1.2*3.4*3/4.))\n",
    "ax = fig.add_subplot(111)\n",
    "time_grid = np.linspace(t_K2, t_tess, Nout)\n",
    "\n",
    "for i,param in tqdm(enumerate(bet)):\n",
    "    p = param[:4]\n",
    "    \n",
    "    sim = makesim(p)\n",
    "    #pomega_b = float(np.random.uniform(0, 2*np.pi, size=1))\n",
    "    \n",
    "    #sim.add(m=10**param[-2], P=sim.particles[2].P*1.946, e=param[-1], pomega=pomega_b, theta=np.pi/2)\n",
    "    period_ratios = run(sim)\n",
    "    #if spock_inres[i] != 0.0:\n",
    "    ax.plot(time_grid,period_ratios,\n",
    "         alpha=1.0,zorder=0, c='k',\n",
    "         rasterized=True)\n",
    "    #elif spock_inres[i] == 0.0:\n",
    "    #    ax.plot(time_grid,period_ratios,\n",
    "    #     alpha=0.05,zorder=0, c='r',\n",
    "    #     rasterized=True)\n",
    "\n",
    "#ax1.plot(time_grid, run(makesim(min_mu[0][:4])), c='C2')\n",
    "\n",
    "ax.errorbar(time_grid[[0, -1]],obs,yerr=obs_err, fmt='o',ms=7, c='b',ecolor='g',zorder=1,capsize=5, capthick=2)\n",
    "ax.set_ylabel('Period ratio [P$_d$/P$_c$]',fontsize=20)\n",
    "#ax.set_ylim(1.49, 1.515)\n",
    "ax.set_xlabel('Time [BKJD - 2454833]',fontsize=20)\n",
    "\n",
    "ax.tick_params(axis='y', labelsize=20)\n",
    "ax.tick_params(axis='x', labelsize=20)\n",
    "\n",
    "ax.minorticks_on()\n",
    "plt.show()"
   ]
  },
  {
   "cell_type": "markdown",
   "id": "81e63a40",
   "metadata": {},
   "source": [
    "# Checking Pb/Pd period ratio evolution"
   ]
  },
  {
   "cell_type": "code",
   "execution_count": null,
   "id": "0244fb42",
   "metadata": {
    "ExecuteTime": {
     "end_time": "2022-02-28T15:33:31.361204Z",
     "start_time": "2022-02-28T15:33:31.246112Z"
    }
   },
   "outputs": [],
   "source": [
    "rv_post[0]"
   ]
  },
  {
   "cell_type": "code",
   "execution_count": null,
   "id": "3fa3215a",
   "metadata": {
    "ExecuteTime": {
     "end_time": "2022-02-28T15:58:14.739111Z",
     "start_time": "2022-02-28T15:58:14.731667Z"
    }
   },
   "outputs": [],
   "source": [
    "def makesim_wb(theta):\n",
    "\n",
    "\n",
    "    e_forced, e_free, mu, deltaT, mb, eb = theta\n",
    "\n",
    "    mratio=0.5\n",
    "    e_com = 0.0\n",
    "    phiecom=float(np.random.uniform(0, 2*np.pi, size=1)) # varying between 0 and 2pi\n",
    "    theta1 = np.pi\n",
    "    Mstar = 1.1\n",
    "    m1 = mratio*10**mu\n",
    "    m2 = (1-mratio)*10**mu\n",
    "    phi = np.pi # where equilibrium is\n",
    "    theta1 = np.pi # position of planet b\n",
    "\n",
    "    andvars = Andoyer.from_Z(j=3, k=1, Z=(e_forced+e_free)/np.sqrt(2), phi=phi,\n",
    "                             Zstar=e_forced/np.sqrt(2), Mstar=Mstar, m1=m1, m2=m2,\n",
    "                             Zcom=e_com/np.sqrt(2), phiZcom=phiecom, theta1=theta1)\n",
    "\n",
    "    try:\n",
    "\n",
    "        sim = andvars.to_Simulation()\n",
    "        sim.add(m=10**mb, P=sim.particles[2].P*1.946, e=eb, pomega=float(np.random.uniform(0, 2*np.pi, size=1)), \n",
    "                theta=float(np.random.uniform(0, 2*np.pi, size=1)))\n",
    "        sim.integrator=\"whfast\"\n",
    "        sim.dt = sim.particles[1].P/20\n",
    "        sim.ri_whfast.safe_mode = 0\n",
    "        sim.integrate(deltaT)\n",
    "        sim.t = 0\n",
    "        return sim\n",
    "    except KeyboardInterrupt:\n",
    "        print('Interrupted')\n",
    "        print(e_forced, e_free, mu, deltaT, mb, eb, pomegab, thetab)\n",
    "        raise"
   ]
  },
  {
   "cell_type": "code",
   "execution_count": null,
   "id": "f757a1ac",
   "metadata": {
    "ExecuteTime": {
     "end_time": "2022-02-28T15:58:15.078326Z",
     "start_time": "2022-02-28T15:58:15.073871Z"
    }
   },
   "outputs": [],
   "source": [
    "preds_inres = preds_rv[(deltaH_cd < 0.0) & (preds_rv != 0.0)]\n",
    "len(preds_inres)"
   ]
  },
  {
   "cell_type": "code",
   "execution_count": null,
   "id": "7afbdbb4",
   "metadata": {
    "ExecuteTime": {
     "end_time": "2022-02-28T15:58:15.876126Z",
     "start_time": "2022-02-28T15:58:15.872273Z"
    }
   },
   "outputs": [],
   "source": [
    "rv_inres[0]"
   ]
  },
  {
   "cell_type": "code",
   "execution_count": null,
   "id": "c641f46d",
   "metadata": {
    "ExecuteTime": {
     "end_time": "2022-02-28T16:00:12.225432Z",
     "start_time": "2022-02-28T15:58:26.516148Z"
    }
   },
   "outputs": [],
   "source": [
    "%matplotlib inline\n",
    "fig = plt.figure(1,figsize=(7*3.4, 2.5*3.4*3/4.))\n",
    "ax = fig.add_subplot(111)\n",
    "time_grid = np.linspace(t_K2, t_tess, Nout)\n",
    "\n",
    "for i,param in tqdm(enumerate(rv_inres)):\n",
    "    p = param.copy()\n",
    "    p[-1] = 0.0\n",
    "    \n",
    "    sim = makesim_wb(p)\n",
    "    ps = sim.particles\n",
    "    Pratios = np.zeros(Nout)\n",
    "    for j, time in enumerate(t):\n",
    "\n",
    "        sim.integrate(time)\n",
    "        Pratios[j] = ps[3].P/ps[2].P\n",
    "    \n",
    "    ax.plot(time_grid,Pratios,\n",
    "         alpha=0.5*preds_inres[i],zorder=0, c='k',\n",
    "         rasterized=True)\n",
    "\n",
    "#ax1.plot(time_grid, run(makesim(min_mu[0][:4])), c='C2')\n",
    "\n",
    "#ax.errorbar(time_grid[[0, -1]],obs,yerr=obs_err, fmt='o',ms=7, c='r',ecolor='b',zorder=1,capsize=5, capthick=2)\n",
    "ax.set_ylabel('Period ratio [P$_b$/P$_d$]',fontsize=30)\n",
    "ax.set_ylim(1.93, 1.97)\n",
    "ax.set_xlabel('Time [BKJD - 2454833]',fontsize=30)\n",
    "ax.axhline(y=1.946, lw=3, ls='--', c='r')\n",
    "\n",
    "ax.tick_params(axis='y', labelsize=30)\n",
    "ax.tick_params(axis='x', labelsize=30)\n",
    "#plt.savefig('figures/Figure2b.pdf',dpi=300,bbox_inches='tight',padding=0)"
   ]
  },
  {
   "cell_type": "markdown",
   "id": "b3b5ec4b",
   "metadata": {},
   "source": [
    "## Plotting only the resonance chains"
   ]
  },
  {
   "cell_type": "code",
   "execution_count": null,
   "id": "76eb373b",
   "metadata": {
    "ExecuteTime": {
     "end_time": "2022-02-28T16:00:12.233423Z",
     "start_time": "2022-02-28T16:00:12.228390Z"
    }
   },
   "outputs": [],
   "source": [
    "def mmr_break(arr, cd_res, db_res, preds_arr, stable=True, chain=True):\n",
    "\n",
    "    if stable:\n",
    "        if chain: \n",
    "            res21 = arr[(np.array(cd_res) < 0.0) & (np.array(db_res) < 0.0) & (preds_arr > 0.0)]\n",
    "        else:\n",
    "            res21 = arr[(np.array(cd_res) < 0.0) & ((np.array(db_res) >= 0.0) | np.isnan(db_res)) &\\\n",
    "                        (preds_arr > 0.0)]\n",
    "    else:\n",
    "        if chain:\n",
    "            res21 = arr[(np.array(cd_res) < 0.0) & (np.array(db_res) < 0.0) & (preds_arr == 0.0)]\n",
    "        else:\n",
    "            \n",
    "            res21 = arr[(np.array(cd_res) < 0.0) & ((np.array(db_res) >= 0.0) | np.isnan(db_res)) &\\\n",
    "                        (preds_arr == 0.0)]\n",
    "    return res21"
   ]
  },
  {
   "cell_type": "code",
   "execution_count": null,
   "id": "e54ce664",
   "metadata": {
    "ExecuteTime": {
     "end_time": "2022-02-28T16:00:12.240567Z",
     "start_time": "2022-02-28T16:00:12.236331Z"
    }
   },
   "outputs": [],
   "source": [
    "mmr_chain_preds = mmr_break(preds_rv, deltaH_cd, deltaH_db, preds_rv, stable=True,chain=True)\n",
    "mmr_chain_configs = mmr_break(rv_post, deltaH_cd, deltaH_db, preds_rv, stable=True,chain=True)"
   ]
  },
  {
   "cell_type": "code",
   "execution_count": null,
   "id": "b0f03ada",
   "metadata": {
    "ExecuteTime": {
     "end_time": "2022-02-28T16:00:12.245499Z",
     "start_time": "2022-02-28T16:00:12.242695Z"
    }
   },
   "outputs": [],
   "source": [
    "print(len(mmr_chain_preds),len(mmr_chain_configs))"
   ]
  },
  {
   "cell_type": "code",
   "execution_count": null,
   "id": "1a72df56",
   "metadata": {
    "ExecuteTime": {
     "end_time": "2022-02-28T16:00:37.770207Z",
     "start_time": "2022-02-28T16:00:34.597340Z"
    }
   },
   "outputs": [],
   "source": [
    "%matplotlib inline\n",
    "fig = plt.figure(1,figsize=(7*3.4, 2.5*3.4*3/4.))\n",
    "ax = fig.add_subplot(111)\n",
    "time_grid = np.linspace(t_K2, t_tess, Nout)\n",
    "\n",
    "for i,param in tqdm(enumerate(mmr_chain_configs)):\n",
    "    p = param.copy()\n",
    "    p[-1] = 0.0\n",
    "    \n",
    "    sim = makesim_wb(p)\n",
    "    ps = sim.particles\n",
    "    Pratios = np.zeros(Nout)\n",
    "    for j, time in enumerate(t):\n",
    "\n",
    "        sim.integrate(time)\n",
    "        Pratios[j] = ps[3].P/ps[2].P\n",
    "    \n",
    "    ax.plot(time_grid,Pratios,\n",
    "         alpha=mmr_chain_preds[i],zorder=0, c='k',\n",
    "         rasterized=True)\n",
    "\n",
    "#ax1.plot(time_grid, run(makesim(min_mu[0][:4])), c='C2')\n",
    "\n",
    "#ax.errorbar(time_grid[[0, -1]],obs,yerr=obs_err, fmt='o',ms=7, c='r',ecolor='b',zorder=1,capsize=5, capthick=2)\n",
    "ax.set_ylabel('Period ratio [P$_b$/P$_d$]',fontsize=30)\n",
    "ax.set_ylim(1.90, 2.0)\n",
    "ax.set_xlabel('Time [BKJD - 2454833]',fontsize=30)\n",
    "ax.axhline(y=1.946, lw=3, ls='--', c='r')\n",
    "\n",
    "ax.tick_params(axis='y', labelsize=30)\n",
    "ax.tick_params(axis='x', labelsize=30)\n",
    "#plt.savefig('figures/Figure2b.pdf',dpi=300,bbox_inches='tight',padding=0)"
   ]
  },
  {
   "cell_type": "code",
   "execution_count": null,
   "id": "fa03e0e6",
   "metadata": {},
   "outputs": [],
   "source": []
  },
  {
   "cell_type": "markdown",
   "id": "44ecfe0f",
   "metadata": {},
   "source": [
    "# Reading the summary data for the instability times"
   ]
  },
  {
   "cell_type": "code",
   "execution_count": null,
   "id": "12164a2c",
   "metadata": {
    "ExecuteTime": {
     "end_time": "2022-02-28T00:27:55.744032Z",
     "start_time": "2022-02-28T00:27:55.694334Z"
    }
   },
   "outputs": [],
   "source": [
    "# from Miles\n",
    "summary = pd.read_csv('distribution_statistics_unstbl.csv')\n",
    "list(summary)"
   ]
  },
  {
   "cell_type": "code",
   "execution_count": null,
   "id": "e605275d",
   "metadata": {
    "ExecuteTime": {
     "end_time": "2022-02-28T00:34:58.060027Z",
     "start_time": "2022-02-28T00:34:58.054568Z"
    }
   },
   "outputs": [],
   "source": [
    "len(summary[summary['std'] > 1e-10])/len(summary)"
   ]
  },
  {
   "cell_type": "code",
   "execution_count": null,
   "id": "2755faf0",
   "metadata": {
    "ExecuteTime": {
     "end_time": "2022-02-28T00:32:30.537373Z",
     "start_time": "2022-02-28T00:32:30.531657Z"
    }
   },
   "outputs": [],
   "source": [
    "len(summary[summary['median'] < 7])/len(summary)"
   ]
  },
  {
   "cell_type": "code",
   "execution_count": null,
   "id": "b0c75c68",
   "metadata": {},
   "outputs": [],
   "source": []
  }
 ],
 "metadata": {
  "kernelspec": {
   "display_name": "Python 3",
   "language": "python",
   "name": "python3"
  },
  "language_info": {
   "codemirror_mode": {
    "name": "ipython",
    "version": 3
   },
   "file_extension": ".py",
   "mimetype": "text/x-python",
   "name": "python",
   "nbconvert_exporter": "python",
   "pygments_lexer": "ipython3",
   "version": "3.8.8"
  },
  "toc": {
   "base_numbering": 1,
   "nav_menu": {},
   "number_sections": true,
   "sideBar": true,
   "skip_h1_title": false,
   "title_cell": "Table of Contents",
   "title_sidebar": "Contents",
   "toc_cell": false,
   "toc_position": {},
   "toc_section_display": true,
   "toc_window_display": true
  }
 },
 "nbformat": 4,
 "nbformat_minor": 5
}
